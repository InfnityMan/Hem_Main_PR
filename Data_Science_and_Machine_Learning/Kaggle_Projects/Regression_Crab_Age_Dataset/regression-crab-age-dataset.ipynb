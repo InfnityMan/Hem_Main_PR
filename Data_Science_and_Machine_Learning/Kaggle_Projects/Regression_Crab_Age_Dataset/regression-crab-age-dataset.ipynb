{
 "cells": [
  {
   "cell_type": "code",
   "execution_count": 1,
   "id": "79d84e7d",
   "metadata": {
    "_cell_guid": "b1076dfc-b9ad-4769-8c92-a6c4dae69d19",
    "_uuid": "8f2839f25d086af736a60e9eeb907d3b93b6e0e5",
    "execution": {
     "iopub.execute_input": "2023-06-04T17:18:41.710737Z",
     "iopub.status.busy": "2023-06-04T17:18:41.710363Z",
     "iopub.status.idle": "2023-06-04T17:18:41.723385Z",
     "shell.execute_reply": "2023-06-04T17:18:41.722758Z"
    },
    "papermill": {
     "duration": 0.022131,
     "end_time": "2023-06-04T17:18:41.726079",
     "exception": false,
     "start_time": "2023-06-04T17:18:41.703948",
     "status": "completed"
    },
    "tags": []
   },
   "outputs": [
    {
     "name": "stdout",
     "output_type": "stream",
     "text": [
      "/kaggle/input/playground-series-s3e16/sample_submission.csv\n",
      "/kaggle/input/playground-series-s3e16/train.csv\n",
      "/kaggle/input/playground-series-s3e16/test.csv\n"
     ]
    }
   ],
   "source": [
    "# This Python 3 environment comes with many helpful analytics libraries installed\n",
    "# It is defined by the kaggle/python Docker image: https://github.com/kaggle/docker-python\n",
    "# For example, here's several helpful packages to load\n",
    "\n",
    "import numpy as np # linear algebra\n",
    "import pandas as pd # data processing, CSV file I/O (e.g. pd.read_csv)\n",
    "\n",
    "# Input data files are available in the read-only \"../input/\" directory\n",
    "# For example, running this (by clicking run or pressing Shift+Enter) will list all files under the input directory\n",
    "\n",
    "import os\n",
    "for dirname, _, filenames in os.walk('/kaggle/input'):\n",
    "    for filename in filenames:\n",
    "        print(os.path.join(dirname, filename))\n",
    "\n",
    "# You can write up to 20GB to the current directory (/kaggle/working/) that gets preserved as output when you create a version using \"Save & Run All\" \n",
    "# You can also write temporary files to /kaggle/temp/, but they won't be saved outside of the current session"
   ]
  },
  {
   "cell_type": "code",
   "execution_count": 2,
   "id": "85818e76",
   "metadata": {
    "execution": {
     "iopub.execute_input": "2023-06-04T17:18:41.737086Z",
     "iopub.status.busy": "2023-06-04T17:18:41.736187Z",
     "iopub.status.idle": "2023-06-04T17:18:41.979123Z",
     "shell.execute_reply": "2023-06-04T17:18:41.977505Z"
    },
    "papermill": {
     "duration": 0.25184,
     "end_time": "2023-06-04T17:18:41.982585",
     "exception": false,
     "start_time": "2023-06-04T17:18:41.730745",
     "status": "completed"
    },
    "tags": []
   },
   "outputs": [],
   "source": [
    "train = pd.read_csv('/kaggle/input/playground-series-s3e16/train.csv')\n",
    "test = pd.read_csv('/kaggle/input/playground-series-s3e16/test.csv')"
   ]
  },
  {
   "cell_type": "code",
   "execution_count": 3,
   "id": "ffe8388e",
   "metadata": {
    "execution": {
     "iopub.execute_input": "2023-06-04T17:18:41.992522Z",
     "iopub.status.busy": "2023-06-04T17:18:41.992153Z",
     "iopub.status.idle": "2023-06-04T17:18:42.027435Z",
     "shell.execute_reply": "2023-06-04T17:18:42.026390Z"
    },
    "papermill": {
     "duration": 0.042186,
     "end_time": "2023-06-04T17:18:42.029438",
     "exception": false,
     "start_time": "2023-06-04T17:18:41.987252",
     "status": "completed"
    },
    "tags": []
   },
   "outputs": [
    {
     "data": {
      "text/html": [
       "<div>\n",
       "<style scoped>\n",
       "    .dataframe tbody tr th:only-of-type {\n",
       "        vertical-align: middle;\n",
       "    }\n",
       "\n",
       "    .dataframe tbody tr th {\n",
       "        vertical-align: top;\n",
       "    }\n",
       "\n",
       "    .dataframe thead th {\n",
       "        text-align: right;\n",
       "    }\n",
       "</style>\n",
       "<table border=\"1\" class=\"dataframe\">\n",
       "  <thead>\n",
       "    <tr style=\"text-align: right;\">\n",
       "      <th></th>\n",
       "      <th>id</th>\n",
       "      <th>Sex</th>\n",
       "      <th>Length</th>\n",
       "      <th>Diameter</th>\n",
       "      <th>Height</th>\n",
       "      <th>Weight</th>\n",
       "      <th>Shucked Weight</th>\n",
       "      <th>Viscera Weight</th>\n",
       "      <th>Shell Weight</th>\n",
       "      <th>Age</th>\n",
       "    </tr>\n",
       "  </thead>\n",
       "  <tbody>\n",
       "    <tr>\n",
       "      <th>0</th>\n",
       "      <td>0</td>\n",
       "      <td>I</td>\n",
       "      <td>1.5250</td>\n",
       "      <td>1.1750</td>\n",
       "      <td>0.3750</td>\n",
       "      <td>28.973189</td>\n",
       "      <td>12.728926</td>\n",
       "      <td>6.647958</td>\n",
       "      <td>8.348928</td>\n",
       "      <td>9</td>\n",
       "    </tr>\n",
       "    <tr>\n",
       "      <th>1</th>\n",
       "      <td>1</td>\n",
       "      <td>I</td>\n",
       "      <td>1.1000</td>\n",
       "      <td>0.8250</td>\n",
       "      <td>0.2750</td>\n",
       "      <td>10.418441</td>\n",
       "      <td>4.521745</td>\n",
       "      <td>2.324659</td>\n",
       "      <td>3.401940</td>\n",
       "      <td>8</td>\n",
       "    </tr>\n",
       "    <tr>\n",
       "      <th>2</th>\n",
       "      <td>2</td>\n",
       "      <td>M</td>\n",
       "      <td>1.3875</td>\n",
       "      <td>1.1125</td>\n",
       "      <td>0.3750</td>\n",
       "      <td>24.777463</td>\n",
       "      <td>11.339800</td>\n",
       "      <td>5.556502</td>\n",
       "      <td>6.662133</td>\n",
       "      <td>9</td>\n",
       "    </tr>\n",
       "    <tr>\n",
       "      <th>3</th>\n",
       "      <td>3</td>\n",
       "      <td>F</td>\n",
       "      <td>1.7000</td>\n",
       "      <td>1.4125</td>\n",
       "      <td>0.5000</td>\n",
       "      <td>50.660556</td>\n",
       "      <td>20.354941</td>\n",
       "      <td>10.991839</td>\n",
       "      <td>14.996885</td>\n",
       "      <td>11</td>\n",
       "    </tr>\n",
       "    <tr>\n",
       "      <th>4</th>\n",
       "      <td>4</td>\n",
       "      <td>I</td>\n",
       "      <td>1.2500</td>\n",
       "      <td>1.0125</td>\n",
       "      <td>0.3375</td>\n",
       "      <td>23.289114</td>\n",
       "      <td>11.977664</td>\n",
       "      <td>4.507570</td>\n",
       "      <td>5.953395</td>\n",
       "      <td>8</td>\n",
       "    </tr>\n",
       "  </tbody>\n",
       "</table>\n",
       "</div>"
      ],
      "text/plain": [
       "   id Sex  Length  Diameter  Height     Weight  Shucked Weight  \\\n",
       "0   0   I  1.5250    1.1750  0.3750  28.973189       12.728926   \n",
       "1   1   I  1.1000    0.8250  0.2750  10.418441        4.521745   \n",
       "2   2   M  1.3875    1.1125  0.3750  24.777463       11.339800   \n",
       "3   3   F  1.7000    1.4125  0.5000  50.660556       20.354941   \n",
       "4   4   I  1.2500    1.0125  0.3375  23.289114       11.977664   \n",
       "\n",
       "   Viscera Weight  Shell Weight  Age  \n",
       "0        6.647958      8.348928    9  \n",
       "1        2.324659      3.401940    8  \n",
       "2        5.556502      6.662133    9  \n",
       "3       10.991839     14.996885   11  \n",
       "4        4.507570      5.953395    8  "
      ]
     },
     "execution_count": 3,
     "metadata": {},
     "output_type": "execute_result"
    }
   ],
   "source": [
    "train.head()"
   ]
  },
  {
   "cell_type": "code",
   "execution_count": 4,
   "id": "9a9c43e5",
   "metadata": {
    "execution": {
     "iopub.execute_input": "2023-06-04T17:18:42.039077Z",
     "iopub.status.busy": "2023-06-04T17:18:42.038688Z",
     "iopub.status.idle": "2023-06-04T17:18:42.044136Z",
     "shell.execute_reply": "2023-06-04T17:18:42.043383Z"
    },
    "papermill": {
     "duration": 0.013227,
     "end_time": "2023-06-04T17:18:42.046809",
     "exception": false,
     "start_time": "2023-06-04T17:18:42.033582",
     "status": "completed"
    },
    "tags": []
   },
   "outputs": [],
   "source": [
    "train.columns = ['id', 'sex', 'length', 'diameter', 'height', 'weight', 'shucked_weight', 'viscera_weight', 'shell_weight', 'age']\n",
    "test.columns = ['id', 'sex', 'length', 'diameter', 'height', 'weight', 'shucked_weight', 'viscera_weight', 'shell_weight']"
   ]
  },
  {
   "cell_type": "code",
   "execution_count": 5,
   "id": "6840d7fb",
   "metadata": {
    "execution": {
     "iopub.execute_input": "2023-06-04T17:18:42.056493Z",
     "iopub.status.busy": "2023-06-04T17:18:42.056179Z",
     "iopub.status.idle": "2023-06-04T17:18:42.065037Z",
     "shell.execute_reply": "2023-06-04T17:18:42.063774Z"
    },
    "papermill": {
     "duration": 0.016342,
     "end_time": "2023-06-04T17:18:42.067365",
     "exception": false,
     "start_time": "2023-06-04T17:18:42.051023",
     "status": "completed"
    },
    "tags": []
   },
   "outputs": [
    {
     "data": {
      "text/plain": [
       "id                  int64\n",
       "sex                object\n",
       "length            float64\n",
       "diameter          float64\n",
       "height            float64\n",
       "weight            float64\n",
       "shucked_weight    float64\n",
       "viscera_weight    float64\n",
       "shell_weight      float64\n",
       "age                 int64\n",
       "dtype: object"
      ]
     },
     "execution_count": 5,
     "metadata": {},
     "output_type": "execute_result"
    }
   ],
   "source": [
    "train.dtypes"
   ]
  },
  {
   "cell_type": "code",
   "execution_count": 6,
   "id": "1458f687",
   "metadata": {
    "execution": {
     "iopub.execute_input": "2023-06-04T17:18:42.077498Z",
     "iopub.status.busy": "2023-06-04T17:18:42.076970Z",
     "iopub.status.idle": "2023-06-04T17:18:42.118084Z",
     "shell.execute_reply": "2023-06-04T17:18:42.116936Z"
    },
    "papermill": {
     "duration": 0.048505,
     "end_time": "2023-06-04T17:18:42.120051",
     "exception": false,
     "start_time": "2023-06-04T17:18:42.071546",
     "status": "completed"
    },
    "tags": []
   },
   "outputs": [
    {
     "data": {
      "text/plain": [
       "id     sex    length  diameter  height  weight  shucked_weight  viscera_weight  shell_weight  age  \n",
       "False  False  False   False     False   False   False           False           False         False    74051\n",
       "dtype: int64"
      ]
     },
     "execution_count": 6,
     "metadata": {},
     "output_type": "execute_result"
    }
   ],
   "source": [
    "train.isnull().value_counts()"
   ]
  },
  {
   "cell_type": "code",
   "execution_count": 7,
   "id": "e5dc9f84",
   "metadata": {
    "execution": {
     "iopub.execute_input": "2023-06-04T17:18:42.131265Z",
     "iopub.status.busy": "2023-06-04T17:18:42.130949Z",
     "iopub.status.idle": "2023-06-04T17:18:42.144438Z",
     "shell.execute_reply": "2023-06-04T17:18:42.143172Z"
    },
    "papermill": {
     "duration": 0.020749,
     "end_time": "2023-06-04T17:18:42.146605",
     "exception": false,
     "start_time": "2023-06-04T17:18:42.125856",
     "status": "completed"
    },
    "tags": []
   },
   "outputs": [
    {
     "data": {
      "text/plain": [
       "array(['I', 'M', 'F'], dtype=object)"
      ]
     },
     "execution_count": 7,
     "metadata": {},
     "output_type": "execute_result"
    }
   ],
   "source": [
    "train['sex'].unique()"
   ]
  },
  {
   "cell_type": "code",
   "execution_count": 8,
   "id": "026c372b",
   "metadata": {
    "execution": {
     "iopub.execute_input": "2023-06-04T17:18:42.157005Z",
     "iopub.status.busy": "2023-06-04T17:18:42.156611Z",
     "iopub.status.idle": "2023-06-04T17:18:42.162865Z",
     "shell.execute_reply": "2023-06-04T17:18:42.161879Z"
    },
    "papermill": {
     "duration": 0.013676,
     "end_time": "2023-06-04T17:18:42.164752",
     "exception": false,
     "start_time": "2023-06-04T17:18:42.151076",
     "status": "completed"
    },
    "tags": []
   },
   "outputs": [],
   "source": [
    "del train['id']\n",
    "ids = test['id']\n",
    "del test['id']\n",
    "del train['sex']\n",
    "del test['sex']"
   ]
  },
  {
   "cell_type": "code",
   "execution_count": 9,
   "id": "01865ebf",
   "metadata": {
    "execution": {
     "iopub.execute_input": "2023-06-04T17:18:42.174848Z",
     "iopub.status.busy": "2023-06-04T17:18:42.174478Z",
     "iopub.status.idle": "2023-06-04T17:18:43.687925Z",
     "shell.execute_reply": "2023-06-04T17:18:43.686544Z"
    },
    "papermill": {
     "duration": 1.521176,
     "end_time": "2023-06-04T17:18:43.690354",
     "exception": false,
     "start_time": "2023-06-04T17:18:42.169178",
     "status": "completed"
    },
    "tags": []
   },
   "outputs": [],
   "source": [
    "from sklearn.model_selection import train_test_split\n",
    "\n",
    "y = train['age']\n",
    "del train['age']\n",
    "X = train\n",
    "\n",
    "train_X, val_X, train_y, val_y = train_test_split(X, y)"
   ]
  },
  {
   "cell_type": "code",
   "execution_count": 10,
   "id": "29ea281c",
   "metadata": {
    "execution": {
     "iopub.execute_input": "2023-06-04T17:18:43.701031Z",
     "iopub.status.busy": "2023-06-04T17:18:43.700137Z",
     "iopub.status.idle": "2023-06-04T17:18:43.866212Z",
     "shell.execute_reply": "2023-06-04T17:18:43.865263Z"
    },
    "papermill": {
     "duration": 0.174533,
     "end_time": "2023-06-04T17:18:43.869227",
     "exception": false,
     "start_time": "2023-06-04T17:18:43.694694",
     "status": "completed"
    },
    "tags": []
   },
   "outputs": [],
   "source": [
    "from sklearn.linear_model import LinearRegression\n",
    "\n",
    "lr = LinearRegression()\n",
    "lr.fit(train_X, train_y)\n",
    "\n",
    "lr_pred = lr.predict(val_X)"
   ]
  },
  {
   "cell_type": "code",
   "execution_count": 11,
   "id": "8d8c223d",
   "metadata": {
    "execution": {
     "iopub.execute_input": "2023-06-04T17:18:43.894221Z",
     "iopub.status.busy": "2023-06-04T17:18:43.893477Z",
     "iopub.status.idle": "2023-06-04T17:18:43.912541Z",
     "shell.execute_reply": "2023-06-04T17:18:43.911626Z"
    },
    "papermill": {
     "duration": 0.033233,
     "end_time": "2023-06-04T17:18:43.914918",
     "exception": false,
     "start_time": "2023-06-04T17:18:43.881685",
     "status": "completed"
    },
    "tags": []
   },
   "outputs": [],
   "source": [
    "from sklearn.linear_model import Ridge\n",
    "\n",
    "ridge = Ridge()\n",
    "ridge.fit(train_X, train_y)\n",
    "\n",
    "ridge_pred = ridge.predict(val_X)"
   ]
  },
  {
   "cell_type": "code",
   "execution_count": 12,
   "id": "a55b68d4",
   "metadata": {
    "execution": {
     "iopub.execute_input": "2023-06-04T17:18:43.929370Z",
     "iopub.status.busy": "2023-06-04T17:18:43.928637Z",
     "iopub.status.idle": "2023-06-04T17:18:44.375133Z",
     "shell.execute_reply": "2023-06-04T17:18:44.374461Z"
    },
    "papermill": {
     "duration": 0.456562,
     "end_time": "2023-06-04T17:18:44.377145",
     "exception": false,
     "start_time": "2023-06-04T17:18:43.920583",
     "status": "completed"
    },
    "tags": []
   },
   "outputs": [
    {
     "name": "stderr",
     "output_type": "stream",
     "text": [
      "/opt/conda/lib/python3.10/site-packages/xgboost/sklearn.py:835: UserWarning: `early_stopping_rounds` in `fit` method is deprecated for better compatibility with scikit-learn, use `early_stopping_rounds` in constructor or`set_params` instead.\n",
      "  warnings.warn(\n"
     ]
    }
   ],
   "source": [
    "from xgboost import XGBRegressor\n",
    "\n",
    "xgb_model = XGBRegressor(n_estimators = 1000, learning_rate = 1, random_state = 1)\n",
    "xgb_model.fit(train_X, train_y, early_stopping_rounds = 5, eval_set = [(val_X, val_y)], verbose = False)\n",
    "\n",
    "xgb_pred = xgb_model.predict(val_X)"
   ]
  },
  {
   "cell_type": "code",
   "execution_count": 13,
   "id": "ffe1f2b3",
   "metadata": {
    "execution": {
     "iopub.execute_input": "2023-06-04T17:18:44.388843Z",
     "iopub.status.busy": "2023-06-04T17:18:44.387672Z",
     "iopub.status.idle": "2023-06-04T17:18:46.164887Z",
     "shell.execute_reply": "2023-06-04T17:18:46.163785Z"
    },
    "papermill": {
     "duration": 1.7853,
     "end_time": "2023-06-04T17:18:46.167497",
     "exception": false,
     "start_time": "2023-06-04T17:18:44.382197",
     "status": "completed"
    },
    "tags": []
   },
   "outputs": [
    {
     "name": "stdout",
     "output_type": "stream",
     "text": [
      "Learning rate set to 0.255369\n",
      "0:\tlearn: 2.0813546\ttest: 2.0575517\tbest: 2.0575517 (0)\ttotal: 61.6ms\tremaining: 12.2s\n",
      "1:\tlearn: 1.8960378\ttest: 1.8697404\tbest: 1.8697404 (1)\ttotal: 67.9ms\tremaining: 6.72s\n",
      "2:\tlearn: 1.7756180\ttest: 1.7492207\tbest: 1.7492207 (2)\ttotal: 74.6ms\tremaining: 4.9s\n",
      "3:\tlearn: 1.6995799\ttest: 1.6721051\tbest: 1.6721051 (3)\ttotal: 81.1ms\tremaining: 3.97s\n",
      "4:\tlearn: 1.6484148\ttest: 1.6225716\tbest: 1.6225716 (4)\ttotal: 87.5ms\tremaining: 3.41s\n",
      "5:\tlearn: 1.6028901\ttest: 1.5790922\tbest: 1.5790922 (5)\ttotal: 94.1ms\tremaining: 3.04s\n",
      "6:\tlearn: 1.5754920\ttest: 1.5532447\tbest: 1.5532447 (6)\ttotal: 101ms\tremaining: 2.78s\n",
      "7:\tlearn: 1.5547147\ttest: 1.5331465\tbest: 1.5331465 (7)\ttotal: 107ms\tremaining: 2.56s\n",
      "8:\tlearn: 1.5360738\ttest: 1.5166135\tbest: 1.5166135 (8)\ttotal: 114ms\tremaining: 2.41s\n",
      "9:\tlearn: 1.5229780\ttest: 1.5041697\tbest: 1.5041697 (9)\ttotal: 120ms\tremaining: 2.28s\n",
      "10:\tlearn: 1.5162116\ttest: 1.4972804\tbest: 1.4972804 (10)\ttotal: 126ms\tremaining: 2.16s\n",
      "11:\tlearn: 1.5054892\ttest: 1.4884059\tbest: 1.4884059 (11)\ttotal: 132ms\tremaining: 2.06s\n",
      "12:\tlearn: 1.4978858\ttest: 1.4813454\tbest: 1.4813454 (12)\ttotal: 139ms\tremaining: 2s\n",
      "13:\tlearn: 1.4949132\ttest: 1.4784946\tbest: 1.4784946 (13)\ttotal: 145ms\tremaining: 1.93s\n",
      "14:\tlearn: 1.4879194\ttest: 1.4737522\tbest: 1.4737522 (14)\ttotal: 153ms\tremaining: 1.89s\n",
      "15:\tlearn: 1.4847032\ttest: 1.4711786\tbest: 1.4711786 (15)\ttotal: 159ms\tremaining: 1.83s\n",
      "16:\tlearn: 1.4815667\ttest: 1.4685422\tbest: 1.4685422 (16)\ttotal: 166ms\tremaining: 1.79s\n",
      "17:\tlearn: 1.4779494\ttest: 1.4648561\tbest: 1.4648561 (17)\ttotal: 173ms\tremaining: 1.75s\n",
      "18:\tlearn: 1.4752702\ttest: 1.4630609\tbest: 1.4630609 (18)\ttotal: 179ms\tremaining: 1.71s\n",
      "19:\tlearn: 1.4738105\ttest: 1.4616858\tbest: 1.4616858 (19)\ttotal: 188ms\tremaining: 1.69s\n",
      "20:\tlearn: 1.4716423\ttest: 1.4603265\tbest: 1.4603265 (20)\ttotal: 196ms\tremaining: 1.67s\n",
      "21:\tlearn: 1.4693601\ttest: 1.4585339\tbest: 1.4585339 (21)\ttotal: 203ms\tremaining: 1.64s\n",
      "22:\tlearn: 1.4681401\ttest: 1.4571704\tbest: 1.4571704 (22)\ttotal: 209ms\tremaining: 1.61s\n",
      "23:\tlearn: 1.4661281\ttest: 1.4557203\tbest: 1.4557203 (23)\ttotal: 216ms\tremaining: 1.58s\n",
      "24:\tlearn: 1.4635229\ttest: 1.4535908\tbest: 1.4535908 (24)\ttotal: 223ms\tremaining: 1.56s\n",
      "25:\tlearn: 1.4625467\ttest: 1.4525362\tbest: 1.4525362 (25)\ttotal: 230ms\tremaining: 1.54s\n",
      "26:\tlearn: 1.4606537\ttest: 1.4508403\tbest: 1.4508403 (26)\ttotal: 237ms\tremaining: 1.52s\n",
      "27:\tlearn: 1.4586157\ttest: 1.4493912\tbest: 1.4493912 (27)\ttotal: 243ms\tremaining: 1.49s\n",
      "28:\tlearn: 1.4578356\ttest: 1.4490230\tbest: 1.4490230 (28)\ttotal: 249ms\tremaining: 1.47s\n",
      "29:\tlearn: 1.4563310\ttest: 1.4476322\tbest: 1.4476322 (29)\ttotal: 255ms\tremaining: 1.45s\n",
      "30:\tlearn: 1.4549609\ttest: 1.4469604\tbest: 1.4469604 (30)\ttotal: 261ms\tremaining: 1.42s\n",
      "31:\tlearn: 1.4530561\ttest: 1.4458332\tbest: 1.4458332 (31)\ttotal: 268ms\tremaining: 1.41s\n",
      "32:\tlearn: 1.4519711\ttest: 1.4447495\tbest: 1.4447495 (32)\ttotal: 274ms\tremaining: 1.39s\n",
      "33:\tlearn: 1.4509142\ttest: 1.4438734\tbest: 1.4438734 (33)\ttotal: 281ms\tremaining: 1.37s\n",
      "34:\tlearn: 1.4495039\ttest: 1.4430386\tbest: 1.4430386 (34)\ttotal: 288ms\tremaining: 1.36s\n",
      "35:\tlearn: 1.4485459\ttest: 1.4422301\tbest: 1.4422301 (35)\ttotal: 295ms\tremaining: 1.34s\n",
      "36:\tlearn: 1.4470524\ttest: 1.4416295\tbest: 1.4416295 (36)\ttotal: 302ms\tremaining: 1.33s\n",
      "37:\tlearn: 1.4463286\ttest: 1.4414875\tbest: 1.4414875 (37)\ttotal: 309ms\tremaining: 1.32s\n",
      "38:\tlearn: 1.4458063\ttest: 1.4412720\tbest: 1.4412720 (38)\ttotal: 314ms\tremaining: 1.3s\n",
      "39:\tlearn: 1.4447407\ttest: 1.4403304\tbest: 1.4403304 (39)\ttotal: 321ms\tremaining: 1.28s\n",
      "40:\tlearn: 1.4435432\ttest: 1.4399947\tbest: 1.4399947 (40)\ttotal: 328ms\tremaining: 1.27s\n",
      "41:\tlearn: 1.4427327\ttest: 1.4397750\tbest: 1.4397750 (41)\ttotal: 333ms\tremaining: 1.25s\n",
      "42:\tlearn: 1.4423920\ttest: 1.4398730\tbest: 1.4397750 (41)\ttotal: 339ms\tremaining: 1.24s\n",
      "43:\tlearn: 1.4412937\ttest: 1.4394734\tbest: 1.4394734 (43)\ttotal: 345ms\tremaining: 1.22s\n",
      "44:\tlearn: 1.4405996\ttest: 1.4392986\tbest: 1.4392986 (44)\ttotal: 351ms\tremaining: 1.21s\n",
      "45:\tlearn: 1.4400315\ttest: 1.4393111\tbest: 1.4392986 (44)\ttotal: 357ms\tremaining: 1.2s\n",
      "46:\tlearn: 1.4391933\ttest: 1.4387817\tbest: 1.4387817 (46)\ttotal: 364ms\tremaining: 1.18s\n",
      "47:\tlearn: 1.4383499\ttest: 1.4381672\tbest: 1.4381672 (47)\ttotal: 370ms\tremaining: 1.17s\n",
      "48:\tlearn: 1.4371062\ttest: 1.4370516\tbest: 1.4370516 (48)\ttotal: 378ms\tremaining: 1.16s\n",
      "49:\tlearn: 1.4359371\ttest: 1.4365520\tbest: 1.4365520 (49)\ttotal: 385ms\tremaining: 1.15s\n",
      "50:\tlearn: 1.4347943\ttest: 1.4365202\tbest: 1.4365202 (50)\ttotal: 394ms\tremaining: 1.15s\n",
      "51:\tlearn: 1.4336918\ttest: 1.4363511\tbest: 1.4363511 (51)\ttotal: 401ms\tremaining: 1.14s\n",
      "52:\tlearn: 1.4329962\ttest: 1.4361932\tbest: 1.4361932 (52)\ttotal: 407ms\tremaining: 1.13s\n",
      "53:\tlearn: 1.4319766\ttest: 1.4358815\tbest: 1.4358815 (53)\ttotal: 413ms\tremaining: 1.12s\n",
      "54:\tlearn: 1.4310306\ttest: 1.4356885\tbest: 1.4356885 (54)\ttotal: 420ms\tremaining: 1.11s\n",
      "55:\tlearn: 1.4300211\ttest: 1.4353550\tbest: 1.4353550 (55)\ttotal: 427ms\tremaining: 1.1s\n",
      "56:\tlearn: 1.4295686\ttest: 1.4353166\tbest: 1.4353166 (56)\ttotal: 432ms\tremaining: 1.08s\n",
      "57:\tlearn: 1.4283653\ttest: 1.4347155\tbest: 1.4347155 (57)\ttotal: 439ms\tremaining: 1.07s\n",
      "58:\tlearn: 1.4277849\ttest: 1.4346302\tbest: 1.4346302 (58)\ttotal: 444ms\tremaining: 1.06s\n",
      "59:\tlearn: 1.4271481\ttest: 1.4344298\tbest: 1.4344298 (59)\ttotal: 449ms\tremaining: 1.05s\n",
      "60:\tlearn: 1.4261104\ttest: 1.4341439\tbest: 1.4341439 (60)\ttotal: 455ms\tremaining: 1.04s\n",
      "61:\tlearn: 1.4254988\ttest: 1.4340445\tbest: 1.4340445 (61)\ttotal: 461ms\tremaining: 1.02s\n",
      "62:\tlearn: 1.4245346\ttest: 1.4336388\tbest: 1.4336388 (62)\ttotal: 467ms\tremaining: 1.01s\n",
      "63:\tlearn: 1.4244336\ttest: 1.4336083\tbest: 1.4336083 (63)\ttotal: 471ms\tremaining: 1s\n",
      "64:\tlearn: 1.4233283\ttest: 1.4331140\tbest: 1.4331140 (64)\ttotal: 477ms\tremaining: 992ms\n",
      "65:\tlearn: 1.4227607\ttest: 1.4328427\tbest: 1.4328427 (65)\ttotal: 482ms\tremaining: 979ms\n",
      "66:\tlearn: 1.4221092\ttest: 1.4325184\tbest: 1.4325184 (66)\ttotal: 488ms\tremaining: 968ms\n",
      "67:\tlearn: 1.4217853\ttest: 1.4323553\tbest: 1.4323553 (67)\ttotal: 493ms\tremaining: 957ms\n",
      "68:\tlearn: 1.4213005\ttest: 1.4319556\tbest: 1.4319556 (68)\ttotal: 498ms\tremaining: 946ms\n",
      "69:\tlearn: 1.4206854\ttest: 1.4315261\tbest: 1.4315261 (69)\ttotal: 505ms\tremaining: 937ms\n",
      "70:\tlearn: 1.4198485\ttest: 1.4313268\tbest: 1.4313268 (70)\ttotal: 511ms\tremaining: 929ms\n",
      "71:\tlearn: 1.4188479\ttest: 1.4310272\tbest: 1.4310272 (71)\ttotal: 519ms\tremaining: 922ms\n",
      "72:\tlearn: 1.4183564\ttest: 1.4306300\tbest: 1.4306300 (72)\ttotal: 524ms\tremaining: 912ms\n",
      "73:\tlearn: 1.4176964\ttest: 1.4305217\tbest: 1.4305217 (73)\ttotal: 530ms\tremaining: 903ms\n",
      "74:\tlearn: 1.4170436\ttest: 1.4300392\tbest: 1.4300392 (74)\ttotal: 536ms\tremaining: 893ms\n",
      "75:\tlearn: 1.4158281\ttest: 1.4296757\tbest: 1.4296757 (75)\ttotal: 542ms\tremaining: 884ms\n",
      "76:\tlearn: 1.4152836\ttest: 1.4292471\tbest: 1.4292471 (76)\ttotal: 548ms\tremaining: 875ms\n",
      "77:\tlearn: 1.4144689\ttest: 1.4294000\tbest: 1.4292471 (76)\ttotal: 554ms\tremaining: 867ms\n",
      "78:\tlearn: 1.4137893\ttest: 1.4291440\tbest: 1.4291440 (78)\ttotal: 560ms\tremaining: 858ms\n",
      "79:\tlearn: 1.4132999\ttest: 1.4288947\tbest: 1.4288947 (79)\ttotal: 566ms\tremaining: 849ms\n",
      "80:\tlearn: 1.4128677\ttest: 1.4290673\tbest: 1.4288947 (79)\ttotal: 572ms\tremaining: 840ms\n",
      "81:\tlearn: 1.4125376\ttest: 1.4290055\tbest: 1.4288947 (79)\ttotal: 577ms\tremaining: 830ms\n",
      "82:\tlearn: 1.4122093\ttest: 1.4289026\tbest: 1.4288947 (79)\ttotal: 583ms\tremaining: 822ms\n",
      "83:\tlearn: 1.4118164\ttest: 1.4287403\tbest: 1.4287403 (83)\ttotal: 588ms\tremaining: 812ms\n",
      "84:\tlearn: 1.4113685\ttest: 1.4286464\tbest: 1.4286464 (84)\ttotal: 594ms\tremaining: 804ms\n",
      "85:\tlearn: 1.4108100\ttest: 1.4286538\tbest: 1.4286464 (84)\ttotal: 601ms\tremaining: 796ms\n",
      "86:\tlearn: 1.4107125\ttest: 1.4286686\tbest: 1.4286464 (84)\ttotal: 606ms\tremaining: 787ms\n",
      "87:\tlearn: 1.4100052\ttest: 1.4283809\tbest: 1.4283809 (87)\ttotal: 612ms\tremaining: 779ms\n",
      "88:\tlearn: 1.4094532\ttest: 1.4284110\tbest: 1.4283809 (87)\ttotal: 618ms\tremaining: 771ms\n",
      "89:\tlearn: 1.4086393\ttest: 1.4283904\tbest: 1.4283809 (87)\ttotal: 624ms\tremaining: 762ms\n",
      "90:\tlearn: 1.4080157\ttest: 1.4280262\tbest: 1.4280262 (90)\ttotal: 631ms\tremaining: 756ms\n",
      "91:\tlearn: 1.4073230\ttest: 1.4279879\tbest: 1.4279879 (91)\ttotal: 637ms\tremaining: 748ms\n",
      "92:\tlearn: 1.4071107\ttest: 1.4279344\tbest: 1.4279344 (92)\ttotal: 643ms\tremaining: 740ms\n",
      "93:\tlearn: 1.4063740\ttest: 1.4276530\tbest: 1.4276530 (93)\ttotal: 651ms\tremaining: 734ms\n",
      "94:\tlearn: 1.4058129\ttest: 1.4275677\tbest: 1.4275677 (94)\ttotal: 657ms\tremaining: 726ms\n",
      "95:\tlearn: 1.4053982\ttest: 1.4276024\tbest: 1.4275677 (94)\ttotal: 662ms\tremaining: 717ms\n",
      "96:\tlearn: 1.4051610\ttest: 1.4275383\tbest: 1.4275383 (96)\ttotal: 667ms\tremaining: 708ms\n",
      "97:\tlearn: 1.4045906\ttest: 1.4275008\tbest: 1.4275008 (97)\ttotal: 673ms\tremaining: 701ms\n",
      "98:\tlearn: 1.4037850\ttest: 1.4274334\tbest: 1.4274334 (98)\ttotal: 680ms\tremaining: 694ms\n",
      "99:\tlearn: 1.4033861\ttest: 1.4277953\tbest: 1.4274334 (98)\ttotal: 685ms\tremaining: 685ms\n",
      "100:\tlearn: 1.4027014\ttest: 1.4272499\tbest: 1.4272499 (100)\ttotal: 692ms\tremaining: 678ms\n",
      "101:\tlearn: 1.4019182\ttest: 1.4273251\tbest: 1.4272499 (100)\ttotal: 698ms\tremaining: 671ms\n",
      "102:\tlearn: 1.4012830\ttest: 1.4271626\tbest: 1.4271626 (102)\ttotal: 704ms\tremaining: 663ms\n",
      "103:\tlearn: 1.4010574\ttest: 1.4273257\tbest: 1.4271626 (102)\ttotal: 710ms\tremaining: 655ms\n",
      "104:\tlearn: 1.4009327\ttest: 1.4274698\tbest: 1.4271626 (102)\ttotal: 715ms\tremaining: 647ms\n",
      "105:\tlearn: 1.4007457\ttest: 1.4276836\tbest: 1.4271626 (102)\ttotal: 720ms\tremaining: 638ms\n",
      "106:\tlearn: 1.4003038\ttest: 1.4274803\tbest: 1.4271626 (102)\ttotal: 725ms\tremaining: 630ms\n",
      "107:\tlearn: 1.3997988\ttest: 1.4273429\tbest: 1.4271626 (102)\ttotal: 731ms\tremaining: 623ms\n",
      "108:\tlearn: 1.3993322\ttest: 1.4273609\tbest: 1.4271626 (102)\ttotal: 736ms\tremaining: 615ms\n",
      "109:\tlearn: 1.3989645\ttest: 1.4275030\tbest: 1.4271626 (102)\ttotal: 742ms\tremaining: 607ms\n",
      "110:\tlearn: 1.3984917\ttest: 1.4275006\tbest: 1.4271626 (102)\ttotal: 748ms\tremaining: 600ms\n",
      "111:\tlearn: 1.3982547\ttest: 1.4276154\tbest: 1.4271626 (102)\ttotal: 753ms\tremaining: 591ms\n",
      "112:\tlearn: 1.3978988\ttest: 1.4274951\tbest: 1.4271626 (102)\ttotal: 758ms\tremaining: 584ms\n",
      "113:\tlearn: 1.3974378\ttest: 1.4272790\tbest: 1.4271626 (102)\ttotal: 764ms\tremaining: 577ms\n",
      "114:\tlearn: 1.3970492\ttest: 1.4274955\tbest: 1.4271626 (102)\ttotal: 771ms\tremaining: 570ms\n",
      "115:\tlearn: 1.3962644\ttest: 1.4274579\tbest: 1.4271626 (102)\ttotal: 778ms\tremaining: 563ms\n",
      "116:\tlearn: 1.3958243\ttest: 1.4273759\tbest: 1.4271626 (102)\ttotal: 784ms\tremaining: 556ms\n",
      "117:\tlearn: 1.3954992\ttest: 1.4274294\tbest: 1.4271626 (102)\ttotal: 790ms\tremaining: 549ms\n",
      "118:\tlearn: 1.3949010\ttest: 1.4273927\tbest: 1.4271626 (102)\ttotal: 798ms\tremaining: 543ms\n",
      "119:\tlearn: 1.3945817\ttest: 1.4270722\tbest: 1.4270722 (119)\ttotal: 804ms\tremaining: 536ms\n",
      "120:\tlearn: 1.3939979\ttest: 1.4272885\tbest: 1.4270722 (119)\ttotal: 811ms\tremaining: 529ms\n",
      "121:\tlearn: 1.3937019\ttest: 1.4271897\tbest: 1.4270722 (119)\ttotal: 816ms\tremaining: 522ms\n",
      "122:\tlearn: 1.3934469\ttest: 1.4269298\tbest: 1.4269298 (122)\ttotal: 821ms\tremaining: 514ms\n",
      "123:\tlearn: 1.3931840\ttest: 1.4268306\tbest: 1.4268306 (123)\ttotal: 827ms\tremaining: 507ms\n",
      "124:\tlearn: 1.3926682\ttest: 1.4265448\tbest: 1.4265448 (124)\ttotal: 833ms\tremaining: 500ms\n",
      "125:\tlearn: 1.3922126\ttest: 1.4263809\tbest: 1.4263809 (125)\ttotal: 838ms\tremaining: 492ms\n",
      "126:\tlearn: 1.3920432\ttest: 1.4265151\tbest: 1.4263809 (125)\ttotal: 843ms\tremaining: 485ms\n",
      "127:\tlearn: 1.3915434\ttest: 1.4264581\tbest: 1.4263809 (125)\ttotal: 848ms\tremaining: 477ms\n",
      "128:\tlearn: 1.3911460\ttest: 1.4265456\tbest: 1.4263809 (125)\ttotal: 853ms\tremaining: 470ms\n",
      "129:\tlearn: 1.3907148\ttest: 1.4265782\tbest: 1.4263809 (125)\ttotal: 860ms\tremaining: 463ms\n",
      "130:\tlearn: 1.3905582\ttest: 1.4264614\tbest: 1.4263809 (125)\ttotal: 866ms\tremaining: 456ms\n",
      "131:\tlearn: 1.3899839\ttest: 1.4263847\tbest: 1.4263809 (125)\ttotal: 873ms\tremaining: 450ms\n",
      "132:\tlearn: 1.3897824\ttest: 1.4263093\tbest: 1.4263093 (132)\ttotal: 877ms\tremaining: 442ms\n",
      "133:\tlearn: 1.3896043\ttest: 1.4262898\tbest: 1.4262898 (133)\ttotal: 883ms\tremaining: 435ms\n",
      "134:\tlearn: 1.3894240\ttest: 1.4261745\tbest: 1.4261745 (134)\ttotal: 888ms\tremaining: 428ms\n",
      "135:\tlearn: 1.3892653\ttest: 1.4262156\tbest: 1.4261745 (134)\ttotal: 893ms\tremaining: 420ms\n",
      "136:\tlearn: 1.3889437\ttest: 1.4261192\tbest: 1.4261192 (136)\ttotal: 899ms\tremaining: 413ms\n",
      "137:\tlearn: 1.3884766\ttest: 1.4260108\tbest: 1.4260108 (137)\ttotal: 905ms\tremaining: 407ms\n",
      "138:\tlearn: 1.3880377\ttest: 1.4257842\tbest: 1.4257842 (138)\ttotal: 911ms\tremaining: 400ms\n",
      "139:\tlearn: 1.3874964\ttest: 1.4258249\tbest: 1.4257842 (138)\ttotal: 917ms\tremaining: 393ms\n",
      "140:\tlearn: 1.3869361\ttest: 1.4256508\tbest: 1.4256508 (140)\ttotal: 924ms\tremaining: 387ms\n",
      "141:\tlearn: 1.3863933\ttest: 1.4255725\tbest: 1.4255725 (141)\ttotal: 929ms\tremaining: 380ms\n",
      "142:\tlearn: 1.3858989\ttest: 1.4255704\tbest: 1.4255704 (142)\ttotal: 934ms\tremaining: 372ms\n",
      "143:\tlearn: 1.3855636\ttest: 1.4254480\tbest: 1.4254480 (143)\ttotal: 941ms\tremaining: 366ms\n",
      "144:\tlearn: 1.3852248\ttest: 1.4254553\tbest: 1.4254480 (143)\ttotal: 946ms\tremaining: 359ms\n",
      "145:\tlearn: 1.3851516\ttest: 1.4253757\tbest: 1.4253757 (145)\ttotal: 952ms\tremaining: 352ms\n",
      "146:\tlearn: 1.3846653\ttest: 1.4250309\tbest: 1.4250309 (146)\ttotal: 958ms\tremaining: 346ms\n",
      "147:\tlearn: 1.3844180\ttest: 1.4250863\tbest: 1.4250309 (146)\ttotal: 963ms\tremaining: 338ms\n",
      "148:\tlearn: 1.3840559\ttest: 1.4251025\tbest: 1.4250309 (146)\ttotal: 969ms\tremaining: 332ms\n",
      "149:\tlearn: 1.3836030\ttest: 1.4251012\tbest: 1.4250309 (146)\ttotal: 976ms\tremaining: 325ms\n",
      "150:\tlearn: 1.3833421\ttest: 1.4250435\tbest: 1.4250309 (146)\ttotal: 981ms\tremaining: 318ms\n",
      "151:\tlearn: 1.3831437\ttest: 1.4250661\tbest: 1.4250309 (146)\ttotal: 987ms\tremaining: 312ms\n",
      "152:\tlearn: 1.3827368\ttest: 1.4251277\tbest: 1.4250309 (146)\ttotal: 993ms\tremaining: 305ms\n",
      "153:\tlearn: 1.3825156\ttest: 1.4251682\tbest: 1.4250309 (146)\ttotal: 999ms\tremaining: 299ms\n",
      "154:\tlearn: 1.3822547\ttest: 1.4250303\tbest: 1.4250303 (154)\ttotal: 1s\tremaining: 292ms\n",
      "155:\tlearn: 1.3821965\ttest: 1.4250011\tbest: 1.4250011 (155)\ttotal: 1.01s\tremaining: 285ms\n",
      "156:\tlearn: 1.3814491\ttest: 1.4249878\tbest: 1.4249878 (156)\ttotal: 1.02s\tremaining: 279ms\n",
      "157:\tlearn: 1.3809781\ttest: 1.4249522\tbest: 1.4249522 (157)\ttotal: 1.02s\tremaining: 272ms\n",
      "158:\tlearn: 1.3804247\ttest: 1.4249308\tbest: 1.4249308 (158)\ttotal: 1.03s\tremaining: 266ms\n",
      "159:\tlearn: 1.3799077\ttest: 1.4248568\tbest: 1.4248568 (159)\ttotal: 1.04s\tremaining: 260ms\n",
      "160:\tlearn: 1.3796567\ttest: 1.4247097\tbest: 1.4247097 (160)\ttotal: 1.04s\tremaining: 253ms\n",
      "161:\tlearn: 1.3793892\ttest: 1.4247171\tbest: 1.4247097 (160)\ttotal: 1.05s\tremaining: 246ms\n",
      "162:\tlearn: 1.3790674\ttest: 1.4247605\tbest: 1.4247097 (160)\ttotal: 1.05s\tremaining: 239ms\n",
      "163:\tlearn: 1.3785955\ttest: 1.4246703\tbest: 1.4246703 (163)\ttotal: 1.06s\tremaining: 233ms\n",
      "164:\tlearn: 1.3784412\ttest: 1.4247045\tbest: 1.4246703 (163)\ttotal: 1.06s\tremaining: 226ms\n",
      "165:\tlearn: 1.3781112\ttest: 1.4248630\tbest: 1.4246703 (163)\ttotal: 1.07s\tremaining: 220ms\n",
      "166:\tlearn: 1.3778909\ttest: 1.4248939\tbest: 1.4246703 (163)\ttotal: 1.08s\tremaining: 213ms\n",
      "167:\tlearn: 1.3776247\ttest: 1.4250875\tbest: 1.4246703 (163)\ttotal: 1.08s\tremaining: 206ms\n",
      "168:\tlearn: 1.3768736\ttest: 1.4250059\tbest: 1.4246703 (163)\ttotal: 1.09s\tremaining: 200ms\n",
      "169:\tlearn: 1.3764625\ttest: 1.4252880\tbest: 1.4246703 (163)\ttotal: 1.1s\tremaining: 193ms\n",
      "170:\tlearn: 1.3762810\ttest: 1.4252287\tbest: 1.4246703 (163)\ttotal: 1.1s\tremaining: 187ms\n",
      "171:\tlearn: 1.3758712\ttest: 1.4253208\tbest: 1.4246703 (163)\ttotal: 1.11s\tremaining: 180ms\n",
      "172:\tlearn: 1.3754297\ttest: 1.4253833\tbest: 1.4246703 (163)\ttotal: 1.11s\tremaining: 174ms\n",
      "173:\tlearn: 1.3752311\ttest: 1.4253552\tbest: 1.4246703 (163)\ttotal: 1.12s\tremaining: 167ms\n",
      "174:\tlearn: 1.3748223\ttest: 1.4252575\tbest: 1.4246703 (163)\ttotal: 1.12s\tremaining: 161ms\n",
      "175:\tlearn: 1.3745055\ttest: 1.4254996\tbest: 1.4246703 (163)\ttotal: 1.13s\tremaining: 154ms\n",
      "176:\tlearn: 1.3743958\ttest: 1.4254940\tbest: 1.4246703 (163)\ttotal: 1.14s\tremaining: 148ms\n",
      "177:\tlearn: 1.3739762\ttest: 1.4255808\tbest: 1.4246703 (163)\ttotal: 1.14s\tremaining: 141ms\n",
      "178:\tlearn: 1.3737176\ttest: 1.4256748\tbest: 1.4246703 (163)\ttotal: 1.15s\tremaining: 135ms\n",
      "179:\tlearn: 1.3735302\ttest: 1.4255597\tbest: 1.4246703 (163)\ttotal: 1.15s\tremaining: 128ms\n",
      "180:\tlearn: 1.3733765\ttest: 1.4255895\tbest: 1.4246703 (163)\ttotal: 1.16s\tremaining: 122ms\n",
      "181:\tlearn: 1.3728610\ttest: 1.4256550\tbest: 1.4246703 (163)\ttotal: 1.17s\tremaining: 115ms\n",
      "182:\tlearn: 1.3725987\ttest: 1.4255735\tbest: 1.4246703 (163)\ttotal: 1.17s\tremaining: 109ms\n",
      "183:\tlearn: 1.3722073\ttest: 1.4253999\tbest: 1.4246703 (163)\ttotal: 1.18s\tremaining: 102ms\n",
      "184:\tlearn: 1.3720087\ttest: 1.4253839\tbest: 1.4246703 (163)\ttotal: 1.18s\tremaining: 96.1ms\n",
      "185:\tlearn: 1.3716328\ttest: 1.4253033\tbest: 1.4246703 (163)\ttotal: 1.19s\tremaining: 89.7ms\n",
      "186:\tlearn: 1.3712274\ttest: 1.4252145\tbest: 1.4246703 (163)\ttotal: 1.2s\tremaining: 83.3ms\n",
      "187:\tlearn: 1.3709216\ttest: 1.4251476\tbest: 1.4246703 (163)\ttotal: 1.21s\tremaining: 76.9ms\n",
      "188:\tlearn: 1.3706458\ttest: 1.4252421\tbest: 1.4246703 (163)\ttotal: 1.21s\tremaining: 70.6ms\n",
      "189:\tlearn: 1.3700942\ttest: 1.4252003\tbest: 1.4246703 (163)\ttotal: 1.22s\tremaining: 64.2ms\n",
      "190:\tlearn: 1.3698725\ttest: 1.4251342\tbest: 1.4246703 (163)\ttotal: 1.23s\tremaining: 57.8ms\n",
      "191:\tlearn: 1.3695558\ttest: 1.4251514\tbest: 1.4246703 (163)\ttotal: 1.23s\tremaining: 51.3ms\n",
      "192:\tlearn: 1.3694156\ttest: 1.4251184\tbest: 1.4246703 (163)\ttotal: 1.24s\tremaining: 44.9ms\n",
      "193:\tlearn: 1.3690818\ttest: 1.4250334\tbest: 1.4246703 (163)\ttotal: 1.24s\tremaining: 38.4ms\n",
      "194:\tlearn: 1.3689883\ttest: 1.4250742\tbest: 1.4246703 (163)\ttotal: 1.25s\tremaining: 32ms\n",
      "195:\tlearn: 1.3685195\ttest: 1.4255573\tbest: 1.4246703 (163)\ttotal: 1.25s\tremaining: 25.6ms\n",
      "196:\tlearn: 1.3684189\ttest: 1.4255138\tbest: 1.4246703 (163)\ttotal: 1.26s\tremaining: 19.2ms\n",
      "197:\tlearn: 1.3682595\ttest: 1.4253432\tbest: 1.4246703 (163)\ttotal: 1.26s\tremaining: 12.8ms\n",
      "198:\tlearn: 1.3677298\ttest: 1.4250994\tbest: 1.4246703 (163)\ttotal: 1.27s\tremaining: 6.39ms\n",
      "199:\tlearn: 1.3671699\ttest: 1.4250716\tbest: 1.4246703 (163)\ttotal: 1.28s\tremaining: 0us\n",
      "\n",
      "bestTest = 1.424670266\n",
      "bestIteration = 163\n",
      "\n",
      "Shrink model to first 164 iterations.\n"
     ]
    }
   ],
   "source": [
    "from catboost import CatBoostRegressor\n",
    "\n",
    "cb_model = CatBoostRegressor(iterations = 200, random_state = 1, eval_metric = 'MAE')\n",
    "cb_model.fit(train_X, train_y, eval_set = (val_X, val_y))\n",
    "\n",
    "cb_pred = cb_model.predict(val_X)"
   ]
  },
  {
   "cell_type": "code",
   "execution_count": 14,
   "id": "155cab66",
   "metadata": {
    "execution": {
     "iopub.execute_input": "2023-06-04T17:18:46.179776Z",
     "iopub.status.busy": "2023-06-04T17:18:46.179302Z",
     "iopub.status.idle": "2023-06-04T17:18:46.203142Z",
     "shell.execute_reply": "2023-06-04T17:18:46.202367Z"
    },
    "papermill": {
     "duration": 0.032317,
     "end_time": "2023-06-04T17:18:46.205096",
     "exception": false,
     "start_time": "2023-06-04T17:18:46.172779",
     "status": "completed"
    },
    "tags": []
   },
   "outputs": [
    {
     "name": "stdout",
     "output_type": "stream",
     "text": [
      "LR MAE: 1.5023624110221507\n",
      "Ridge MAE: 1.5023807015983084\n",
      "XGB MAE: 1.4563475969396276\n",
      "CB MAE: 1.42467126625157\n",
      "Best MAE: 1.42467126625157\n"
     ]
    }
   ],
   "source": [
    "from sklearn.metrics import mean_absolute_error\n",
    "\n",
    "lr_mae = mean_absolute_error(val_y, lr_pred)\n",
    "ridge_mae = mean_absolute_error(val_y, ridge_pred)\n",
    "xgb_mae = mean_absolute_error(val_y, xgb_pred)\n",
    "cb_mae = mean_absolute_error(val_y, cb_pred)\n",
    "\n",
    "best_mae = sorted([lr_mae, ridge_mae, xgb_mae, cb_mae])[0]\n",
    "\n",
    "model = None\n",
    "if best_mae == lr_mae:\n",
    "    model = lr_model\n",
    "elif best_mae == ridge_mae:\n",
    "    model = ridge_model\n",
    "else:\n",
    "    model = xgb_model\n",
    "\n",
    "pred = model.predict(test)\n",
    "\n",
    "print(\"LR MAE:\", lr_mae)\n",
    "print(\"Ridge MAE:\", ridge_mae)\n",
    "print(\"XGB MAE:\", xgb_mae)\n",
    "print(\"CB MAE:\", cb_mae)\n",
    "print(\"Best MAE:\", best_mae)"
   ]
  },
  {
   "cell_type": "code",
   "execution_count": 15,
   "id": "6d968c5e",
   "metadata": {
    "execution": {
     "iopub.execute_input": "2023-06-04T17:18:46.217228Z",
     "iopub.status.busy": "2023-06-04T17:18:46.216647Z",
     "iopub.status.idle": "2023-06-04T17:18:46.300255Z",
     "shell.execute_reply": "2023-06-04T17:18:46.298692Z"
    },
    "papermill": {
     "duration": 0.093055,
     "end_time": "2023-06-04T17:18:46.303472",
     "exception": false,
     "start_time": "2023-06-04T17:18:46.210417",
     "status": "completed"
    },
    "tags": []
   },
   "outputs": [
    {
     "name": "stdout",
     "output_type": "stream",
     "text": [
      "Your submission was successfully saved!\n"
     ]
    }
   ],
   "source": [
    "output = pd.DataFrame({'id': ids, 'age': pred})\n",
    "output.to_csv('submission.csv', index = False)\n",
    "print('Your submission was successfully saved!')"
   ]
  }
 ],
 "metadata": {
  "kernelspec": {
   "display_name": "Python 3",
   "language": "python",
   "name": "python3"
  },
  "language_info": {
   "codemirror_mode": {
    "name": "ipython",
    "version": 3
   },
   "file_extension": ".py",
   "mimetype": "text/x-python",
   "name": "python",
   "nbconvert_exporter": "python",
   "pygments_lexer": "ipython3",
   "version": "3.10.10"
  },
  "papermill": {
   "default_parameters": {},
   "duration": 15.409845,
   "end_time": "2023-06-04T17:18:47.333141",
   "environment_variables": {},
   "exception": null,
   "input_path": "__notebook__.ipynb",
   "output_path": "__notebook__.ipynb",
   "parameters": {},
   "start_time": "2023-06-04T17:18:31.923296",
   "version": "2.4.0"
  }
 },
 "nbformat": 4,
 "nbformat_minor": 5
}
