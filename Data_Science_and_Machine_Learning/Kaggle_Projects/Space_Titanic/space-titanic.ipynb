{
 "cells": [
  {
   "cell_type": "code",
   "execution_count": 1,
   "id": "11b25f16",
   "metadata": {
    "_cell_guid": "b1076dfc-b9ad-4769-8c92-a6c4dae69d19",
    "_uuid": "8f2839f25d086af736a60e9eeb907d3b93b6e0e5",
    "execution": {
     "iopub.execute_input": "2023-04-16T19:28:44.195896Z",
     "iopub.status.busy": "2023-04-16T19:28:44.195157Z",
     "iopub.status.idle": "2023-04-16T19:28:44.212478Z",
     "shell.execute_reply": "2023-04-16T19:28:44.210535Z"
    },
    "papermill": {
     "duration": 0.038102,
     "end_time": "2023-04-16T19:28:44.215501",
     "exception": false,
     "start_time": "2023-04-16T19:28:44.177399",
     "status": "completed"
    },
    "tags": []
   },
   "outputs": [
    {
     "name": "stdout",
     "output_type": "stream",
     "text": [
      "/kaggle/input/spaceship-titanic/sample_submission.csv\n",
      "/kaggle/input/spaceship-titanic/train.csv\n",
      "/kaggle/input/spaceship-titanic/test.csv\n"
     ]
    }
   ],
   "source": [
    "# This Python 3 environment comes with many helpful analytics libraries installed\n",
    "# It is defined by the kaggle/python Docker image: https://github.com/kaggle/docker-python\n",
    "# For example, here's several helpful packages to load\n",
    "\n",
    "import numpy as np # linear algebra\n",
    "import pandas as pd # data processing, CSV file I/O (e.g. pd.read_csv)\n",
    "\n",
    "# Input data files are available in the read-only \"../input/\" directory\n",
    "# For example, running this (by clicking run or pressing Shift+Enter) will list all files under the input directory\n",
    "\n",
    "import os\n",
    "for dirname, _, filenames in os.walk('/kaggle/input'):\n",
    "    for filename in filenames:\n",
    "        print(os.path.join(dirname, filename))\n",
    "\n",
    "# You can write up to 20GB to the current directory (/kaggle/working/) that gets preserved as output when you create a version using \"Save & Run All\" \n",
    "# You can also write temporary files to /kaggle/temp/, but they won't be saved outside of the current session"
   ]
  },
  {
   "cell_type": "code",
   "execution_count": 2,
   "id": "65fed3ca",
   "metadata": {
    "execution": {
     "iopub.execute_input": "2023-04-16T19:28:44.246012Z",
     "iopub.status.busy": "2023-04-16T19:28:44.245218Z",
     "iopub.status.idle": "2023-04-16T19:28:45.959744Z",
     "shell.execute_reply": "2023-04-16T19:28:45.958204Z"
    },
    "papermill": {
     "duration": 1.733505,
     "end_time": "2023-04-16T19:28:45.963102",
     "exception": false,
     "start_time": "2023-04-16T19:28:44.229597",
     "status": "completed"
    },
    "tags": []
   },
   "outputs": [],
   "source": [
    "import pandas as pd\n",
    "import numpy as np\n",
    "import xgboost as xgb\n",
    "from sklearn.model_selection import train_test_split\n",
    "from sklearn.metrics import balanced_accuracy_score, roc_auc_score, make_scorer\n",
    "from sklearn.model_selection import GridSearchCV\n",
    "from sklearn.metrics import confusion_matrix\n",
    "from sklearn.metrics import plot_confusion_matrix\n",
    "import seaborn"
   ]
  },
  {
   "cell_type": "code",
   "execution_count": 3,
   "id": "bbbda5d4",
   "metadata": {
    "execution": {
     "iopub.execute_input": "2023-04-16T19:28:45.991597Z",
     "iopub.status.busy": "2023-04-16T19:28:45.991174Z",
     "iopub.status.idle": "2023-04-16T19:28:46.069056Z",
     "shell.execute_reply": "2023-04-16T19:28:46.067724Z"
    },
    "papermill": {
     "duration": 0.095744,
     "end_time": "2023-04-16T19:28:46.072137",
     "exception": false,
     "start_time": "2023-04-16T19:28:45.976393",
     "status": "completed"
    },
    "tags": []
   },
   "outputs": [],
   "source": [
    "train = pd.read_csv('/kaggle/input/spaceship-titanic/train.csv')\n",
    "test = pd.read_csv('/kaggle/input/spaceship-titanic/test.csv')"
   ]
  },
  {
   "cell_type": "code",
   "execution_count": 4,
   "id": "fe37c0c7",
   "metadata": {
    "execution": {
     "iopub.execute_input": "2023-04-16T19:28:46.103741Z",
     "iopub.status.busy": "2023-04-16T19:28:46.102557Z",
     "iopub.status.idle": "2023-04-16T19:28:46.112739Z",
     "shell.execute_reply": "2023-04-16T19:28:46.111380Z"
    },
    "papermill": {
     "duration": 0.027675,
     "end_time": "2023-04-16T19:28:46.115401",
     "exception": false,
     "start_time": "2023-04-16T19:28:46.087726",
     "status": "completed"
    },
    "tags": []
   },
   "outputs": [
    {
     "data": {
      "text/plain": [
       "Index(['PassengerId', 'HomePlanet', 'CryoSleep', 'Cabin', 'Destination', 'Age',\n",
       "       'VIP', 'RoomService', 'FoodCourt', 'ShoppingMall', 'Spa', 'VRDeck',\n",
       "       'Name', 'Transported'],\n",
       "      dtype='object')"
      ]
     },
     "execution_count": 4,
     "metadata": {},
     "output_type": "execute_result"
    }
   ],
   "source": [
    "train.columns"
   ]
  },
  {
   "cell_type": "code",
   "execution_count": 5,
   "id": "c41510d6",
   "metadata": {
    "execution": {
     "iopub.execute_input": "2023-04-16T19:28:46.144019Z",
     "iopub.status.busy": "2023-04-16T19:28:46.143570Z",
     "iopub.status.idle": "2023-04-16T19:28:46.150483Z",
     "shell.execute_reply": "2023-04-16T19:28:46.149120Z"
    },
    "papermill": {
     "duration": 0.024654,
     "end_time": "2023-04-16T19:28:46.153219",
     "exception": false,
     "start_time": "2023-04-16T19:28:46.128565",
     "status": "completed"
    },
    "tags": []
   },
   "outputs": [],
   "source": [
    "train.columns = ['passenger_id', 'home_planet', 'cryo_sleep', 'cabin', 'destination', 'age', 'vip', 'room_service', 'food_court', 'shopping_mall', 'spa', 'vr_deck', 'name', 'transported']\n",
    "test.columns = ['PassengerId', 'home_planet', 'cryo_sleep', 'cabin', 'destination', 'age', 'vip', 'room_service', 'food_court', 'shopping_mall', 'spa', 'vr_deck', 'name']"
   ]
  },
  {
   "cell_type": "code",
   "execution_count": 6,
   "id": "8df37a25",
   "metadata": {
    "execution": {
     "iopub.execute_input": "2023-04-16T19:28:46.188040Z",
     "iopub.status.busy": "2023-04-16T19:28:46.187165Z",
     "iopub.status.idle": "2023-04-16T19:28:46.196160Z",
     "shell.execute_reply": "2023-04-16T19:28:46.194893Z"
    },
    "papermill": {
     "duration": 0.029867,
     "end_time": "2023-04-16T19:28:46.199272",
     "exception": false,
     "start_time": "2023-04-16T19:28:46.169405",
     "status": "completed"
    },
    "tags": []
   },
   "outputs": [
    {
     "data": {
      "text/plain": [
       "Index(['passenger_id', 'home_planet', 'cryo_sleep', 'cabin', 'destination',\n",
       "       'age', 'vip', 'room_service', 'food_court', 'shopping_mall', 'spa',\n",
       "       'vr_deck', 'name', 'transported'],\n",
       "      dtype='object')"
      ]
     },
     "execution_count": 6,
     "metadata": {},
     "output_type": "execute_result"
    }
   ],
   "source": [
    "train.columns"
   ]
  },
  {
   "cell_type": "code",
   "execution_count": 7,
   "id": "719419d2",
   "metadata": {
    "execution": {
     "iopub.execute_input": "2023-04-16T19:28:46.230822Z",
     "iopub.status.busy": "2023-04-16T19:28:46.229878Z",
     "iopub.status.idle": "2023-04-16T19:28:46.244242Z",
     "shell.execute_reply": "2023-04-16T19:28:46.242985Z"
    },
    "papermill": {
     "duration": 0.032577,
     "end_time": "2023-04-16T19:28:46.247009",
     "exception": false,
     "start_time": "2023-04-16T19:28:46.214432",
     "status": "completed"
    },
    "tags": []
   },
   "outputs": [
    {
     "data": {
      "text/plain": [
       "passenger_id      object\n",
       "home_planet       object\n",
       "cryo_sleep        object\n",
       "cabin             object\n",
       "destination       object\n",
       "age              float64\n",
       "vip               object\n",
       "room_service     float64\n",
       "food_court       float64\n",
       "shopping_mall    float64\n",
       "spa              float64\n",
       "vr_deck          float64\n",
       "name              object\n",
       "transported         bool\n",
       "dtype: object"
      ]
     },
     "execution_count": 7,
     "metadata": {},
     "output_type": "execute_result"
    }
   ],
   "source": [
    "train.dtypes"
   ]
  },
  {
   "cell_type": "code",
   "execution_count": 8,
   "id": "cd021c41",
   "metadata": {
    "execution": {
     "iopub.execute_input": "2023-04-16T19:28:46.284304Z",
     "iopub.status.busy": "2023-04-16T19:28:46.283509Z",
     "iopub.status.idle": "2023-04-16T19:28:46.298038Z",
     "shell.execute_reply": "2023-04-16T19:28:46.296775Z"
    },
    "papermill": {
     "duration": 0.037833,
     "end_time": "2023-04-16T19:28:46.301088",
     "exception": false,
     "start_time": "2023-04-16T19:28:46.263255",
     "status": "completed"
    },
    "tags": []
   },
   "outputs": [
    {
     "data": {
      "text/plain": [
       "array(['Europa', 'Earth', 'Mars', nan], dtype=object)"
      ]
     },
     "execution_count": 8,
     "metadata": {},
     "output_type": "execute_result"
    }
   ],
   "source": [
    "train['home_planet'].unique()"
   ]
  },
  {
   "cell_type": "code",
   "execution_count": 9,
   "id": "4c51941e",
   "metadata": {
    "execution": {
     "iopub.execute_input": "2023-04-16T19:28:46.331283Z",
     "iopub.status.busy": "2023-04-16T19:28:46.330414Z",
     "iopub.status.idle": "2023-04-16T19:28:46.338635Z",
     "shell.execute_reply": "2023-04-16T19:28:46.337654Z"
    },
    "papermill": {
     "duration": 0.025817,
     "end_time": "2023-04-16T19:28:46.341064",
     "exception": false,
     "start_time": "2023-04-16T19:28:46.315247",
     "status": "completed"
    },
    "tags": []
   },
   "outputs": [
    {
     "data": {
      "text/plain": [
       "array(['Earth', 'Europa', 'Mars', nan], dtype=object)"
      ]
     },
     "execution_count": 9,
     "metadata": {},
     "output_type": "execute_result"
    }
   ],
   "source": [
    "test['home_planet'].unique()"
   ]
  },
  {
   "cell_type": "code",
   "execution_count": 10,
   "id": "ed977490",
   "metadata": {
    "execution": {
     "iopub.execute_input": "2023-04-16T19:28:46.371310Z",
     "iopub.status.busy": "2023-04-16T19:28:46.370487Z",
     "iopub.status.idle": "2023-04-16T19:28:46.415905Z",
     "shell.execute_reply": "2023-04-16T19:28:46.414487Z"
    },
    "papermill": {
     "duration": 0.064404,
     "end_time": "2023-04-16T19:28:46.419058",
     "exception": false,
     "start_time": "2023-04-16T19:28:46.354654",
     "status": "completed"
    },
    "tags": []
   },
   "outputs": [],
   "source": [
    "train['home_planet'].dropna(inplace = True)\n",
    "train[train['home_planet'] == 'Europa'] = 0\n",
    "train[train['home_planet'] == 'Earth'] = 1\n",
    "train[train['home_planet'] == 'Mars'] = 2\n",
    "\n",
    "test['home_planet'].fillna(1, inplace = True)\n",
    "test[test['home_planet'] == 'Europa'] = 0\n",
    "test[test['home_planet'] == 'Earth'] = 1\n",
    "test[test['home_planet'] == 'Mars'] = 2"
   ]
  },
  {
   "cell_type": "code",
   "execution_count": 11,
   "id": "7abdce89",
   "metadata": {
    "execution": {
     "iopub.execute_input": "2023-04-16T19:28:46.449674Z",
     "iopub.status.busy": "2023-04-16T19:28:46.449293Z",
     "iopub.status.idle": "2023-04-16T19:28:46.461490Z",
     "shell.execute_reply": "2023-04-16T19:28:46.460315Z"
    },
    "papermill": {
     "duration": 0.030413,
     "end_time": "2023-04-16T19:28:46.463919",
     "exception": false,
     "start_time": "2023-04-16T19:28:46.433506",
     "status": "completed"
    },
    "tags": []
   },
   "outputs": [
    {
     "data": {
      "text/plain": [
       "1    4602\n",
       "0    2131\n",
       "2    1759\n",
       "Name: home_planet, dtype: int64"
      ]
     },
     "execution_count": 11,
     "metadata": {},
     "output_type": "execute_result"
    }
   ],
   "source": [
    "train['home_planet'].value_counts()"
   ]
  },
  {
   "cell_type": "code",
   "execution_count": 12,
   "id": "45891c77",
   "metadata": {
    "execution": {
     "iopub.execute_input": "2023-04-16T19:28:46.496012Z",
     "iopub.status.busy": "2023-04-16T19:28:46.494705Z",
     "iopub.status.idle": "2023-04-16T19:28:46.505914Z",
     "shell.execute_reply": "2023-04-16T19:28:46.504784Z"
    },
    "papermill": {
     "duration": 0.029412,
     "end_time": "2023-04-16T19:28:46.508513",
     "exception": false,
     "start_time": "2023-04-16T19:28:46.479101",
     "status": "completed"
    },
    "tags": []
   },
   "outputs": [
    {
     "data": {
      "text/plain": [
       "1    2350\n",
       "0    1002\n",
       "2     925\n",
       "Name: home_planet, dtype: int64"
      ]
     },
     "execution_count": 12,
     "metadata": {},
     "output_type": "execute_result"
    }
   ],
   "source": [
    "test['home_planet'].value_counts()"
   ]
  },
  {
   "cell_type": "code",
   "execution_count": 13,
   "id": "1afc20cd",
   "metadata": {
    "execution": {
     "iopub.execute_input": "2023-04-16T19:28:46.547311Z",
     "iopub.status.busy": "2023-04-16T19:28:46.546841Z",
     "iopub.status.idle": "2023-04-16T19:28:46.559179Z",
     "shell.execute_reply": "2023-04-16T19:28:46.557880Z"
    },
    "papermill": {
     "duration": 0.039427,
     "end_time": "2023-04-16T19:28:46.561791",
     "exception": false,
     "start_time": "2023-04-16T19:28:46.522364",
     "status": "completed"
    },
    "tags": []
   },
   "outputs": [
    {
     "data": {
      "text/plain": [
       "array([False,  True])"
      ]
     },
     "execution_count": 13,
     "metadata": {},
     "output_type": "execute_result"
    }
   ],
   "source": [
    "train['cryo_sleep'].isnull().unique()"
   ]
  },
  {
   "cell_type": "code",
   "execution_count": 14,
   "id": "85bdf83f",
   "metadata": {
    "execution": {
     "iopub.execute_input": "2023-04-16T19:28:46.594668Z",
     "iopub.status.busy": "2023-04-16T19:28:46.593723Z",
     "iopub.status.idle": "2023-04-16T19:28:46.603045Z",
     "shell.execute_reply": "2023-04-16T19:28:46.602007Z"
    },
    "papermill": {
     "duration": 0.028308,
     "end_time": "2023-04-16T19:28:46.605576",
     "exception": false,
     "start_time": "2023-04-16T19:28:46.577268",
     "status": "completed"
    },
    "tags": []
   },
   "outputs": [
    {
     "data": {
      "text/plain": [
       "array([False,  True])"
      ]
     },
     "execution_count": 14,
     "metadata": {},
     "output_type": "execute_result"
    }
   ],
   "source": [
    "test['cryo_sleep'].isnull().unique()"
   ]
  },
  {
   "cell_type": "code",
   "execution_count": 15,
   "id": "604ff1d0",
   "metadata": {
    "execution": {
     "iopub.execute_input": "2023-04-16T19:28:46.636624Z",
     "iopub.status.busy": "2023-04-16T19:28:46.635750Z",
     "iopub.status.idle": "2023-04-16T19:28:46.643731Z",
     "shell.execute_reply": "2023-04-16T19:28:46.642728Z"
    },
    "papermill": {
     "duration": 0.02626,
     "end_time": "2023-04-16T19:28:46.646172",
     "exception": false,
     "start_time": "2023-04-16T19:28:46.619912",
     "status": "completed"
    },
    "tags": []
   },
   "outputs": [
    {
     "data": {
      "text/plain": [
       "array([0, 1, 2, nan], dtype=object)"
      ]
     },
     "execution_count": 15,
     "metadata": {},
     "output_type": "execute_result"
    }
   ],
   "source": [
    "train['cryo_sleep'].unique()"
   ]
  },
  {
   "cell_type": "code",
   "execution_count": 16,
   "id": "cbfd5070",
   "metadata": {
    "execution": {
     "iopub.execute_input": "2023-04-16T19:28:46.677355Z",
     "iopub.status.busy": "2023-04-16T19:28:46.676510Z",
     "iopub.status.idle": "2023-04-16T19:28:46.684456Z",
     "shell.execute_reply": "2023-04-16T19:28:46.683316Z"
    },
    "papermill": {
     "duration": 0.0264,
     "end_time": "2023-04-16T19:28:46.687029",
     "exception": false,
     "start_time": "2023-04-16T19:28:46.660629",
     "status": "completed"
    },
    "tags": []
   },
   "outputs": [
    {
     "data": {
      "text/plain": [
       "array([1, 0, 2, nan], dtype=object)"
      ]
     },
     "execution_count": 16,
     "metadata": {},
     "output_type": "execute_result"
    }
   ],
   "source": [
    "test['cryo_sleep'].unique()"
   ]
  },
  {
   "cell_type": "code",
   "execution_count": 17,
   "id": "519169fd",
   "metadata": {
    "execution": {
     "iopub.execute_input": "2023-04-16T19:28:46.718190Z",
     "iopub.status.busy": "2023-04-16T19:28:46.717338Z",
     "iopub.status.idle": "2023-04-16T19:28:46.726997Z",
     "shell.execute_reply": "2023-04-16T19:28:46.725858Z"
    },
    "papermill": {
     "duration": 0.028108,
     "end_time": "2023-04-16T19:28:46.729525",
     "exception": false,
     "start_time": "2023-04-16T19:28:46.701417",
     "status": "completed"
    },
    "tags": []
   },
   "outputs": [
    {
     "data": {
      "text/plain": [
       "1    4677\n",
       "0    2255\n",
       "2    1759\n",
       "Name: cryo_sleep, dtype: int64"
      ]
     },
     "execution_count": 17,
     "metadata": {},
     "output_type": "execute_result"
    }
   ],
   "source": [
    "train['cryo_sleep'].value_counts()"
   ]
  },
  {
   "cell_type": "code",
   "execution_count": 18,
   "id": "7803fc12",
   "metadata": {
    "execution": {
     "iopub.execute_input": "2023-04-16T19:28:46.761144Z",
     "iopub.status.busy": "2023-04-16T19:28:46.760262Z",
     "iopub.status.idle": "2023-04-16T19:28:46.769608Z",
     "shell.execute_reply": "2023-04-16T19:28:46.768608Z"
    },
    "papermill": {
     "duration": 0.028002,
     "end_time": "2023-04-16T19:28:46.772064",
     "exception": false,
     "start_time": "2023-04-16T19:28:46.744062",
     "status": "completed"
    },
    "tags": []
   },
   "outputs": [
    {
     "data": {
      "text/plain": [
       "1    2291\n",
       "0    1058\n",
       "2     925\n",
       "Name: cryo_sleep, dtype: int64"
      ]
     },
     "execution_count": 18,
     "metadata": {},
     "output_type": "execute_result"
    }
   ],
   "source": [
    "test['cryo_sleep'].value_counts()"
   ]
  },
  {
   "cell_type": "code",
   "execution_count": 19,
   "id": "d92b5ead",
   "metadata": {
    "execution": {
     "iopub.execute_input": "2023-04-16T19:28:46.804039Z",
     "iopub.status.busy": "2023-04-16T19:28:46.803189Z",
     "iopub.status.idle": "2023-04-16T19:28:46.810441Z",
     "shell.execute_reply": "2023-04-16T19:28:46.809405Z"
    },
    "papermill": {
     "duration": 0.026352,
     "end_time": "2023-04-16T19:28:46.812999",
     "exception": false,
     "start_time": "2023-04-16T19:28:46.786647",
     "status": "completed"
    },
    "tags": []
   },
   "outputs": [],
   "source": [
    "test['cryo_sleep'].fillna(1, inplace = True)"
   ]
  },
  {
   "cell_type": "code",
   "execution_count": 20,
   "id": "4448a737",
   "metadata": {
    "execution": {
     "iopub.execute_input": "2023-04-16T19:28:46.845992Z",
     "iopub.status.busy": "2023-04-16T19:28:46.845141Z",
     "iopub.status.idle": "2023-04-16T19:28:46.856107Z",
     "shell.execute_reply": "2023-04-16T19:28:46.854633Z"
    },
    "papermill": {
     "duration": 0.031029,
     "end_time": "2023-04-16T19:28:46.859269",
     "exception": false,
     "start_time": "2023-04-16T19:28:46.828240",
     "status": "completed"
    },
    "tags": []
   },
   "outputs": [],
   "source": [
    "test[test['cryo_sleep'] == False] = 0"
   ]
  },
  {
   "cell_type": "code",
   "execution_count": 21,
   "id": "cead040f",
   "metadata": {
    "execution": {
     "iopub.execute_input": "2023-04-16T19:28:46.890782Z",
     "iopub.status.busy": "2023-04-16T19:28:46.890381Z",
     "iopub.status.idle": "2023-04-16T19:28:46.897768Z",
     "shell.execute_reply": "2023-04-16T19:28:46.896633Z"
    },
    "papermill": {
     "duration": 0.026301,
     "end_time": "2023-04-16T19:28:46.900360",
     "exception": false,
     "start_time": "2023-04-16T19:28:46.874059",
     "status": "completed"
    },
    "tags": []
   },
   "outputs": [
    {
     "data": {
      "text/plain": [
       "array([1, 0, 2], dtype=object)"
      ]
     },
     "execution_count": 21,
     "metadata": {},
     "output_type": "execute_result"
    }
   ],
   "source": [
    "test['cryo_sleep'].unique()"
   ]
  },
  {
   "cell_type": "code",
   "execution_count": 22,
   "id": "71872250",
   "metadata": {
    "execution": {
     "iopub.execute_input": "2023-04-16T19:28:46.934016Z",
     "iopub.status.busy": "2023-04-16T19:28:46.932559Z",
     "iopub.status.idle": "2023-04-16T19:28:46.942764Z",
     "shell.execute_reply": "2023-04-16T19:28:46.941635Z"
    },
    "papermill": {
     "duration": 0.029669,
     "end_time": "2023-04-16T19:28:46.945497",
     "exception": false,
     "start_time": "2023-04-16T19:28:46.915828",
     "status": "completed"
    },
    "tags": []
   },
   "outputs": [
    {
     "data": {
      "text/plain": [
       "array([0, 1, 2, 'E/3/S', 'A/0/P', 'D/6/P', 'F/46/S', 'C/11/S', 'G/41/S',\n",
       "       'G/42/S', 'F/61/S', 'G/64/P', 'D/15/S', 'F/99/P', 'E/25/S',\n",
       "       'F/86/S', 'B/19/S', 'F/92/S', 'C/18/P', 'F/95/S', 'F/103/S',\n",
       "       'E/39/S', 'F/141/P', 'E/56/S', 'A/9/S', 'F/189/P', 'G/151/S',\n",
       "       'G/152/P', 'F/218/P', 'B/38/P', 'T/0/P', 'D/41/P', 'F/271/P',\n",
       "       'G/213/P', 'G/223/S', 'E/111/S', nan, 'E/125/S', 'F/357/P',\n",
       "       'G/292/S', 'G/305/S', 'G/311/S', 'G/322/S', 'G/330/P', 'G/327/S',\n",
       "       'G/369/S', 'G/373/P', 'G/386/P', 'C/86/S', 'D/72/P', 'G/395/S',\n",
       "       'G/396/S', 'E/149/P', 'A/19/P', 'F/500/S', 'E/159/P', 'G/430/P',\n",
       "       'F/557/P', 'G/433/S', 'G/447/S', 'G/455/P', 'F/584/P', 'G/450/S',\n",
       "       'F/553/S', 'E/179/P', 'F/570/S', 'F/629/P', 'G/492/S', 'F/659/P',\n",
       "       'G/508/S', 'F/631/S', 'D/108/S', 'F/703/P', 'B/130/S', 'G/578/P',\n",
       "       'F/664/S', 'G/574/S', 'G/594/P', 'F/768/P', 'E/222/P', 'G/620/P',\n",
       "       'G/626/S', 'F/797/P', 'C/140/S', 'F/736/S', 'G/661/S', 'G/667/P',\n",
       "       'F/856/P', 'B/163/S', 'G/690/S', 'B/134/P', 'G/704/S', 'F/898/P',\n",
       "       'C/158/S', 'F/911/P', 'F/914/P', 'G/735/S', 'G/751/S', 'B/183/S',\n",
       "       'F/874/S', 'B/154/P', 'F/981/P', 'F/915/S', 'G/788/P', 'F/938/S',\n",
       "       'D/162/P', 'G/821/P', 'G/839/S', 'E/324/P', 'F/1099/P', 'C/209/S',\n",
       "       'F/1035/S', 'E/342/P', 'F/1118/P', 'F/1125/P', 'F/1127/P',\n",
       "       'F/1132/P', 'G/896/S', 'E/365/S', 'B/218/S', 'F/1108/S', 'E/366/P',\n",
       "       'E/367/P', 'E/385/S', 'F/1140/S', 'F/1141/S', 'F/1146/S',\n",
       "       'E/397/S', 'C/225/S', 'E/398/S', 'F/1166/S', 'D/195/P', 'B/213/P',\n",
       "       'D/190/S', 'G/1022/P', 'F/1316/P', 'G/1026/P', 'F/1320/P',\n",
       "       'G/1032/P', 'F/1224/S', 'C/201/P', 'A/80/S', 'G/1061/P', 'B/253/S',\n",
       "       'B/218/P', 'E/450/S', 'F/1435/P', 'E/445/P', 'G/1126/P',\n",
       "       'F/1331/S', 'G/1138/S', 'G/1131/P', 'G/1142/S', 'C/228/P',\n",
       "       'F/1473/P', 'E/482/S', 'C/268/S', 'F/1411/S', 'F/1432/S',\n",
       "       'B/288/S', 'G/1224/P', 'G/1251/S', 'D/241/P', 'F/1490/S',\n",
       "       'F/1617/P', 'G/1264/S', 'G/1268/S', 'F/1502/S', 'F/1504/S',\n",
       "       'F/1634/P', 'G/1287/P', 'C/297/S', 'G/1299/P', 'G/1302/P',\n",
       "       'C/306/S', 'F/1704/P', 'F/1592/S', 'D/245/S', 'C/312/S',\n",
       "       'F/1763/P', 'G/1399/P', 'F/1773/P', 'B/340/S', 'F/1824/P',\n",
       "       'F/1825/P', 'G/1438/P', 'G/1439/P', 'F/1729/S', 'F/1839/P',\n",
       "       'G/1465/P', 'F/1848/P', 'F/1758/S', 'E/582/P', 'E/603/S',\n",
       "       'F/1792/S', 'F/1892/P', 'G/1508/P'], dtype=object)"
      ]
     },
     "execution_count": 22,
     "metadata": {},
     "output_type": "execute_result"
    }
   ],
   "source": [
    "train['cabin'].unique()"
   ]
  },
  {
   "cell_type": "code",
   "execution_count": 23,
   "id": "7e1f9a64",
   "metadata": {
    "execution": {
     "iopub.execute_input": "2023-04-16T19:28:46.979506Z",
     "iopub.status.busy": "2023-04-16T19:28:46.977944Z",
     "iopub.status.idle": "2023-04-16T19:28:46.986501Z",
     "shell.execute_reply": "2023-04-16T19:28:46.985189Z"
    },
    "papermill": {
     "duration": 0.028046,
     "end_time": "2023-04-16T19:28:46.989447",
     "exception": false,
     "start_time": "2023-04-16T19:28:46.961401",
     "status": "completed"
    },
    "tags": []
   },
   "outputs": [],
   "source": [
    "del train['cabin']"
   ]
  },
  {
   "cell_type": "code",
   "execution_count": 24,
   "id": "e249909a",
   "metadata": {
    "execution": {
     "iopub.execute_input": "2023-04-16T19:28:47.022657Z",
     "iopub.status.busy": "2023-04-16T19:28:47.021123Z",
     "iopub.status.idle": "2023-04-16T19:28:47.030749Z",
     "shell.execute_reply": "2023-04-16T19:28:47.029857Z"
    },
    "papermill": {
     "duration": 0.028957,
     "end_time": "2023-04-16T19:28:47.033608",
     "exception": false,
     "start_time": "2023-04-16T19:28:47.004651",
     "status": "completed"
    },
    "tags": []
   },
   "outputs": [
    {
     "data": {
      "text/plain": [
       "1           2263\n",
       "0           1058\n",
       "2            925\n",
       "G/1399/S       1\n",
       "C/322/S        1\n",
       "F/1730/P       1\n",
       "G/1255/P       1\n",
       "C/280/S        1\n",
       "F/1441/S       1\n",
       "G/747/S        1\n",
       "A/83/S         1\n",
       "E/415/S        1\n",
       "F/1256/P       1\n",
       "F/1207/P       1\n",
       "F/947/S        1\n",
       "G/771/P        1\n",
       "C/177/S        1\n",
       "E/471/S        1\n",
       "G/731/P        1\n",
       "E/286/S        1\n",
       "F/832/S        1\n",
       "F/798/S        1\n",
       "G/587/P        1\n",
       "E/228/S        1\n",
       "C/124/S        1\n",
       "D/87/P         1\n",
       "G/430/S        1\n",
       "G/400/S        1\n",
       "A/17/P         1\n",
       "G/332/P        1\n",
       "G/226/S        1\n",
       "C/44/S         1\n",
       "G/157/P        1\n",
       "D/275/P        1\n",
       "Name: cabin, dtype: int64"
      ]
     },
     "execution_count": 24,
     "metadata": {},
     "output_type": "execute_result"
    }
   ],
   "source": [
    "test['cabin'].value_counts()"
   ]
  },
  {
   "cell_type": "code",
   "execution_count": 25,
   "id": "8be35894",
   "metadata": {
    "execution": {
     "iopub.execute_input": "2023-04-16T19:28:47.073089Z",
     "iopub.status.busy": "2023-04-16T19:28:47.071781Z",
     "iopub.status.idle": "2023-04-16T19:28:47.078985Z",
     "shell.execute_reply": "2023-04-16T19:28:47.077426Z"
    },
    "papermill": {
     "duration": 0.027608,
     "end_time": "2023-04-16T19:28:47.081780",
     "exception": false,
     "start_time": "2023-04-16T19:28:47.054172",
     "status": "completed"
    },
    "tags": []
   },
   "outputs": [],
   "source": [
    "del test['cabin']"
   ]
  },
  {
   "cell_type": "code",
   "execution_count": 26,
   "id": "e23715ba",
   "metadata": {
    "execution": {
     "iopub.execute_input": "2023-04-16T19:28:47.118279Z",
     "iopub.status.busy": "2023-04-16T19:28:47.117459Z",
     "iopub.status.idle": "2023-04-16T19:28:47.124386Z",
     "shell.execute_reply": "2023-04-16T19:28:47.123213Z"
    },
    "papermill": {
     "duration": 0.029766,
     "end_time": "2023-04-16T19:28:47.126998",
     "exception": false,
     "start_time": "2023-04-16T19:28:47.097232",
     "status": "completed"
    },
    "tags": []
   },
   "outputs": [
    {
     "data": {
      "text/plain": [
       "Index(['passenger_id', 'home_planet', 'cryo_sleep', 'destination', 'age',\n",
       "       'vip', 'room_service', 'food_court', 'shopping_mall', 'spa', 'vr_deck',\n",
       "       'name', 'transported'],\n",
       "      dtype='object')"
      ]
     },
     "execution_count": 26,
     "metadata": {},
     "output_type": "execute_result"
    }
   ],
   "source": [
    "train.columns"
   ]
  },
  {
   "cell_type": "code",
   "execution_count": 27,
   "id": "5d9e80c0",
   "metadata": {
    "execution": {
     "iopub.execute_input": "2023-04-16T19:28:47.159810Z",
     "iopub.status.busy": "2023-04-16T19:28:47.159126Z",
     "iopub.status.idle": "2023-04-16T19:28:47.167332Z",
     "shell.execute_reply": "2023-04-16T19:28:47.165976Z"
    },
    "papermill": {
     "duration": 0.027825,
     "end_time": "2023-04-16T19:28:47.169970",
     "exception": false,
     "start_time": "2023-04-16T19:28:47.142145",
     "status": "completed"
    },
    "tags": []
   },
   "outputs": [
    {
     "data": {
      "text/plain": [
       "array([0, 1, 2, 'TRAPPIST-1e', '55 Cancri e', 'PSO J318.5-22', nan],\n",
       "      dtype=object)"
      ]
     },
     "execution_count": 27,
     "metadata": {},
     "output_type": "execute_result"
    }
   ],
   "source": [
    "train['destination'].unique()"
   ]
  },
  {
   "cell_type": "code",
   "execution_count": 28,
   "id": "8b16666f",
   "metadata": {
    "execution": {
     "iopub.execute_input": "2023-04-16T19:28:47.204387Z",
     "iopub.status.busy": "2023-04-16T19:28:47.203270Z",
     "iopub.status.idle": "2023-04-16T19:28:47.212611Z",
     "shell.execute_reply": "2023-04-16T19:28:47.211526Z"
    },
    "papermill": {
     "duration": 0.02926,
     "end_time": "2023-04-16T19:28:47.215127",
     "exception": false,
     "start_time": "2023-04-16T19:28:47.185867",
     "status": "completed"
    },
    "tags": []
   },
   "outputs": [
    {
     "data": {
      "text/plain": [
       "array([1, 0, 2, 'TRAPPIST-1e', 'PSO J318.5-22', '55 Cancri e'],\n",
       "      dtype=object)"
      ]
     },
     "execution_count": 28,
     "metadata": {},
     "output_type": "execute_result"
    }
   ],
   "source": [
    "test['destination'].unique()"
   ]
  },
  {
   "cell_type": "code",
   "execution_count": 29,
   "id": "b313a053",
   "metadata": {
    "execution": {
     "iopub.execute_input": "2023-04-16T19:28:47.249132Z",
     "iopub.status.busy": "2023-04-16T19:28:47.247825Z",
     "iopub.status.idle": "2023-04-16T19:28:47.269855Z",
     "shell.execute_reply": "2023-04-16T19:28:47.268751Z"
    },
    "papermill": {
     "duration": 0.041857,
     "end_time": "2023-04-16T19:28:47.272848",
     "exception": false,
     "start_time": "2023-04-16T19:28:47.230991",
     "status": "completed"
    },
    "tags": []
   },
   "outputs": [],
   "source": [
    "train['destination'].dropna(inplace = True)\n",
    "train[train['destination'] == 'TRAPPIST-1e'] = 3\n",
    "train[train['destination'] == '55 Cancri e'] = 4\n",
    "train[train['destination'] == 'PSO J318.5-22'] = 5"
   ]
  },
  {
   "cell_type": "code",
   "execution_count": 30,
   "id": "80c01e65",
   "metadata": {
    "execution": {
     "iopub.execute_input": "2023-04-16T19:28:47.306208Z",
     "iopub.status.busy": "2023-04-16T19:28:47.305089Z",
     "iopub.status.idle": "2023-04-16T19:28:47.323531Z",
     "shell.execute_reply": "2023-04-16T19:28:47.322152Z"
    },
    "papermill": {
     "duration": 0.038286,
     "end_time": "2023-04-16T19:28:47.326480",
     "exception": false,
     "start_time": "2023-04-16T19:28:47.288194",
     "status": "completed"
    },
    "tags": []
   },
   "outputs": [],
   "source": [
    "test['destination'].fillna(1, inplace = True)\n",
    "test[test['destination'] == 'TRAPPIST-1e'] = 3\n",
    "test[test['destination'] == '55 Cancri e'] = 4\n",
    "test[test['destination'] == 'PSO J318.5-22'] = 5"
   ]
  },
  {
   "cell_type": "code",
   "execution_count": 31,
   "id": "a5c3f7bb",
   "metadata": {
    "execution": {
     "iopub.execute_input": "2023-04-16T19:28:47.360209Z",
     "iopub.status.busy": "2023-04-16T19:28:47.359725Z",
     "iopub.status.idle": "2023-04-16T19:28:47.368798Z",
     "shell.execute_reply": "2023-04-16T19:28:47.367964Z"
    },
    "papermill": {
     "duration": 0.027914,
     "end_time": "2023-04-16T19:28:47.371030",
     "exception": false,
     "start_time": "2023-04-16T19:28:47.343116",
     "status": "completed"
    },
    "tags": []
   },
   "outputs": [
    {
     "data": {
      "text/plain": [
       "1    4602\n",
       "0    2131\n",
       "2    1759\n",
       "3     150\n",
       "4      31\n",
       "5      16\n",
       "Name: destination, dtype: int64"
      ]
     },
     "execution_count": 31,
     "metadata": {},
     "output_type": "execute_result"
    }
   ],
   "source": [
    "train['destination'].value_counts()"
   ]
  },
  {
   "cell_type": "code",
   "execution_count": 32,
   "id": "001368c6",
   "metadata": {
    "execution": {
     "iopub.execute_input": "2023-04-16T19:28:47.404298Z",
     "iopub.status.busy": "2023-04-16T19:28:47.403820Z",
     "iopub.status.idle": "2023-04-16T19:28:47.412074Z",
     "shell.execute_reply": "2023-04-16T19:28:47.411217Z"
    },
    "papermill": {
     "duration": 0.0276,
     "end_time": "2023-04-16T19:28:47.414144",
     "exception": false,
     "start_time": "2023-04-16T19:28:47.386544",
     "status": "completed"
    },
    "tags": []
   },
   "outputs": [
    {
     "data": {
      "text/plain": [
       "1    2263\n",
       "0    1058\n",
       "2     925\n",
       "3      18\n",
       "4       9\n",
       "5       4\n",
       "Name: destination, dtype: int64"
      ]
     },
     "execution_count": 32,
     "metadata": {},
     "output_type": "execute_result"
    }
   ],
   "source": [
    "test['destination'].value_counts()"
   ]
  },
  {
   "cell_type": "code",
   "execution_count": 33,
   "id": "2b15ab42",
   "metadata": {
    "execution": {
     "iopub.execute_input": "2023-04-16T19:28:47.447171Z",
     "iopub.status.busy": "2023-04-16T19:28:47.446428Z",
     "iopub.status.idle": "2023-04-16T19:28:47.456169Z",
     "shell.execute_reply": "2023-04-16T19:28:47.454897Z"
    },
    "papermill": {
     "duration": 0.029354,
     "end_time": "2023-04-16T19:28:47.458741",
     "exception": false,
     "start_time": "2023-04-16T19:28:47.429387",
     "status": "completed"
    },
    "tags": []
   },
   "outputs": [
    {
     "data": {
      "text/plain": [
       "array([ 0.,  1.,  2.,  3.,  4.,  5., 23., 43., 52., 12.])"
      ]
     },
     "execution_count": 33,
     "metadata": {},
     "output_type": "execute_result"
    }
   ],
   "source": [
    "train['age'].unique()"
   ]
  },
  {
   "cell_type": "code",
   "execution_count": 34,
   "id": "c1a02d01",
   "metadata": {
    "execution": {
     "iopub.execute_input": "2023-04-16T19:28:47.492095Z",
     "iopub.status.busy": "2023-04-16T19:28:47.491593Z",
     "iopub.status.idle": "2023-04-16T19:28:47.499505Z",
     "shell.execute_reply": "2023-04-16T19:28:47.498552Z"
    },
    "papermill": {
     "duration": 0.027385,
     "end_time": "2023-04-16T19:28:47.501793",
     "exception": false,
     "start_time": "2023-04-16T19:28:47.474408",
     "status": "completed"
    },
    "tags": []
   },
   "outputs": [
    {
     "data": {
      "text/plain": [
       "array([0, 1, 2, 3, 4, 5, nan], dtype=object)"
      ]
     },
     "execution_count": 34,
     "metadata": {},
     "output_type": "execute_result"
    }
   ],
   "source": [
    "train['vip'].unique()"
   ]
  },
  {
   "cell_type": "code",
   "execution_count": 35,
   "id": "e012fe29",
   "metadata": {
    "execution": {
     "iopub.execute_input": "2023-04-16T19:28:47.535631Z",
     "iopub.status.busy": "2023-04-16T19:28:47.535208Z",
     "iopub.status.idle": "2023-04-16T19:28:47.544022Z",
     "shell.execute_reply": "2023-04-16T19:28:47.542749Z"
    },
    "papermill": {
     "duration": 0.029097,
     "end_time": "2023-04-16T19:28:47.546827",
     "exception": false,
     "start_time": "2023-04-16T19:28:47.517730",
     "status": "completed"
    },
    "tags": []
   },
   "outputs": [
    {
     "data": {
      "text/plain": [
       "array([1, 0, 2, 3, 5, 4], dtype=object)"
      ]
     },
     "execution_count": 35,
     "metadata": {},
     "output_type": "execute_result"
    }
   ],
   "source": [
    "test['vip'].unique()"
   ]
  },
  {
   "cell_type": "code",
   "execution_count": 36,
   "id": "46604778",
   "metadata": {
    "execution": {
     "iopub.execute_input": "2023-04-16T19:28:47.580789Z",
     "iopub.status.busy": "2023-04-16T19:28:47.580355Z",
     "iopub.status.idle": "2023-04-16T19:28:47.586963Z",
     "shell.execute_reply": "2023-04-16T19:28:47.585740Z"
    },
    "papermill": {
     "duration": 0.026255,
     "end_time": "2023-04-16T19:28:47.589312",
     "exception": false,
     "start_time": "2023-04-16T19:28:47.563057",
     "status": "completed"
    },
    "tags": []
   },
   "outputs": [],
   "source": [
    "train['vip'].dropna(inplace = True)"
   ]
  },
  {
   "cell_type": "code",
   "execution_count": 37,
   "id": "8c33eb1d",
   "metadata": {
    "execution": {
     "iopub.execute_input": "2023-04-16T19:28:47.622760Z",
     "iopub.status.busy": "2023-04-16T19:28:47.622346Z",
     "iopub.status.idle": "2023-04-16T19:28:47.632622Z",
     "shell.execute_reply": "2023-04-16T19:28:47.631176Z"
    },
    "papermill": {
     "duration": 0.029824,
     "end_time": "2023-04-16T19:28:47.634995",
     "exception": false,
     "start_time": "2023-04-16T19:28:47.605171",
     "status": "completed"
    },
    "tags": []
   },
   "outputs": [
    {
     "data": {
      "text/plain": [
       "1    4602\n",
       "0    2134\n",
       "2    1759\n",
       "3     150\n",
       "4      31\n",
       "5      16\n",
       "Name: vip, dtype: int64"
      ]
     },
     "execution_count": 37,
     "metadata": {},
     "output_type": "execute_result"
    }
   ],
   "source": [
    "train['vip'].value_counts()"
   ]
  },
  {
   "cell_type": "code",
   "execution_count": 38,
   "id": "6f16d09f",
   "metadata": {
    "execution": {
     "iopub.execute_input": "2023-04-16T19:28:47.668844Z",
     "iopub.status.busy": "2023-04-16T19:28:47.667781Z",
     "iopub.status.idle": "2023-04-16T19:28:47.678201Z",
     "shell.execute_reply": "2023-04-16T19:28:47.677001Z"
    },
    "papermill": {
     "duration": 0.029837,
     "end_time": "2023-04-16T19:28:47.680550",
     "exception": false,
     "start_time": "2023-04-16T19:28:47.650713",
     "status": "completed"
    },
    "tags": []
   },
   "outputs": [
    {
     "data": {
      "text/plain": [
       "1    2263\n",
       "0    1058\n",
       "2     925\n",
       "3      18\n",
       "4       9\n",
       "5       4\n",
       "Name: vip, dtype: int64"
      ]
     },
     "execution_count": 38,
     "metadata": {},
     "output_type": "execute_result"
    }
   ],
   "source": [
    "test['vip'].value_counts()"
   ]
  },
  {
   "cell_type": "code",
   "execution_count": 39,
   "id": "987bdd0c",
   "metadata": {
    "execution": {
     "iopub.execute_input": "2023-04-16T19:28:47.714124Z",
     "iopub.status.busy": "2023-04-16T19:28:47.713628Z",
     "iopub.status.idle": "2023-04-16T19:28:47.723248Z",
     "shell.execute_reply": "2023-04-16T19:28:47.722019Z"
    },
    "papermill": {
     "duration": 0.029344,
     "end_time": "2023-04-16T19:28:47.725739",
     "exception": false,
     "start_time": "2023-04-16T19:28:47.696395",
     "status": "completed"
    },
    "tags": []
   },
   "outputs": [
    {
     "data": {
      "text/plain": [
       "array([  0.,   1.,   2.,   3.,   4.,   5., 348.])"
      ]
     },
     "execution_count": 39,
     "metadata": {},
     "output_type": "execute_result"
    }
   ],
   "source": [
    "train['room_service'].unique()"
   ]
  },
  {
   "cell_type": "code",
   "execution_count": 40,
   "id": "84cb2e82",
   "metadata": {
    "execution": {
     "iopub.execute_input": "2023-04-16T19:28:47.760370Z",
     "iopub.status.busy": "2023-04-16T19:28:47.759903Z",
     "iopub.status.idle": "2023-04-16T19:28:47.768452Z",
     "shell.execute_reply": "2023-04-16T19:28:47.767263Z"
    },
    "papermill": {
     "duration": 0.028446,
     "end_time": "2023-04-16T19:28:47.770810",
     "exception": false,
     "start_time": "2023-04-16T19:28:47.742364",
     "status": "completed"
    },
    "tags": []
   },
   "outputs": [
    {
     "data": {
      "text/plain": [
       "array([  0.,   1.,   2.,   3.,   4.,   5., 645.])"
      ]
     },
     "execution_count": 40,
     "metadata": {},
     "output_type": "execute_result"
    }
   ],
   "source": [
    "train['food_court'].unique()"
   ]
  },
  {
   "cell_type": "code",
   "execution_count": 41,
   "id": "851b7031",
   "metadata": {
    "execution": {
     "iopub.execute_input": "2023-04-16T19:28:47.805149Z",
     "iopub.status.busy": "2023-04-16T19:28:47.804704Z",
     "iopub.status.idle": "2023-04-16T19:28:47.812841Z",
     "shell.execute_reply": "2023-04-16T19:28:47.811561Z"
    },
    "papermill": {
     "duration": 0.028511,
     "end_time": "2023-04-16T19:28:47.815365",
     "exception": false,
     "start_time": "2023-04-16T19:28:47.786854",
     "status": "completed"
    },
    "tags": []
   },
   "outputs": [
    {
     "data": {
      "text/plain": [
       "array([  0.,   1.,   2.,   3.,   4.,   5., 213.])"
      ]
     },
     "execution_count": 41,
     "metadata": {},
     "output_type": "execute_result"
    }
   ],
   "source": [
    "train['shopping_mall'].unique()"
   ]
  },
  {
   "cell_type": "code",
   "execution_count": 42,
   "id": "fb656676",
   "metadata": {
    "execution": {
     "iopub.execute_input": "2023-04-16T19:28:47.850365Z",
     "iopub.status.busy": "2023-04-16T19:28:47.849884Z",
     "iopub.status.idle": "2023-04-16T19:28:47.858031Z",
     "shell.execute_reply": "2023-04-16T19:28:47.856785Z"
    },
    "papermill": {
     "duration": 0.028694,
     "end_time": "2023-04-16T19:28:47.860716",
     "exception": false,
     "start_time": "2023-04-16T19:28:47.832022",
     "status": "completed"
    },
    "tags": []
   },
   "outputs": [
    {
     "data": {
      "text/plain": [
       "array([0., 1., 2., 3., 4., 5., 7.])"
      ]
     },
     "execution_count": 42,
     "metadata": {},
     "output_type": "execute_result"
    }
   ],
   "source": [
    "train['spa'].unique()"
   ]
  },
  {
   "cell_type": "code",
   "execution_count": 43,
   "id": "83b5bc96",
   "metadata": {
    "execution": {
     "iopub.execute_input": "2023-04-16T19:28:47.896078Z",
     "iopub.status.busy": "2023-04-16T19:28:47.894977Z",
     "iopub.status.idle": "2023-04-16T19:28:47.903357Z",
     "shell.execute_reply": "2023-04-16T19:28:47.902139Z"
    },
    "papermill": {
     "duration": 0.028721,
     "end_time": "2023-04-16T19:28:47.905922",
     "exception": false,
     "start_time": "2023-04-16T19:28:47.877201",
     "status": "completed"
    },
    "tags": []
   },
   "outputs": [
    {
     "data": {
      "text/plain": [
       "array([0, 1, 2, 3, 4, 5, 'Blanie Floydendley', 'Winia Blanglison',\n",
       "       'Bobara Alshipson', 'Walles Bakerrison'], dtype=object)"
      ]
     },
     "execution_count": 43,
     "metadata": {},
     "output_type": "execute_result"
    }
   ],
   "source": [
    "train['name'].unique()"
   ]
  },
  {
   "cell_type": "code",
   "execution_count": 44,
   "id": "3ac24973",
   "metadata": {
    "execution": {
     "iopub.execute_input": "2023-04-16T19:28:47.940664Z",
     "iopub.status.busy": "2023-04-16T19:28:47.940239Z",
     "iopub.status.idle": "2023-04-16T19:28:47.945904Z",
     "shell.execute_reply": "2023-04-16T19:28:47.944385Z"
    },
    "papermill": {
     "duration": 0.026248,
     "end_time": "2023-04-16T19:28:47.948609",
     "exception": false,
     "start_time": "2023-04-16T19:28:47.922361",
     "status": "completed"
    },
    "tags": []
   },
   "outputs": [],
   "source": [
    "del train['name']"
   ]
  },
  {
   "cell_type": "code",
   "execution_count": 45,
   "id": "133528e9",
   "metadata": {
    "execution": {
     "iopub.execute_input": "2023-04-16T19:28:47.984964Z",
     "iopub.status.busy": "2023-04-16T19:28:47.984477Z",
     "iopub.status.idle": "2023-04-16T19:28:47.993362Z",
     "shell.execute_reply": "2023-04-16T19:28:47.992130Z"
    },
    "papermill": {
     "duration": 0.029671,
     "end_time": "2023-04-16T19:28:47.995780",
     "exception": false,
     "start_time": "2023-04-16T19:28:47.966109",
     "status": "completed"
    },
    "tags": []
   },
   "outputs": [
    {
     "data": {
      "text/plain": [
       "array([1, 0, 2, 3, 5, 4], dtype=object)"
      ]
     },
     "execution_count": 45,
     "metadata": {},
     "output_type": "execute_result"
    }
   ],
   "source": [
    "test['name'].unique()"
   ]
  },
  {
   "cell_type": "code",
   "execution_count": 46,
   "id": "6b8c1ab9",
   "metadata": {
    "execution": {
     "iopub.execute_input": "2023-04-16T19:28:48.032015Z",
     "iopub.status.busy": "2023-04-16T19:28:48.031168Z",
     "iopub.status.idle": "2023-04-16T19:28:48.037858Z",
     "shell.execute_reply": "2023-04-16T19:28:48.036384Z"
    },
    "papermill": {
     "duration": 0.027487,
     "end_time": "2023-04-16T19:28:48.040664",
     "exception": false,
     "start_time": "2023-04-16T19:28:48.013177",
     "status": "completed"
    },
    "tags": []
   },
   "outputs": [],
   "source": [
    "del test['name']"
   ]
  },
  {
   "cell_type": "code",
   "execution_count": 47,
   "id": "98e68e61",
   "metadata": {
    "execution": {
     "iopub.execute_input": "2023-04-16T19:28:48.076459Z",
     "iopub.status.busy": "2023-04-16T19:28:48.076055Z",
     "iopub.status.idle": "2023-04-16T19:28:48.083882Z",
     "shell.execute_reply": "2023-04-16T19:28:48.082658Z"
    },
    "papermill": {
     "duration": 0.029054,
     "end_time": "2023-04-16T19:28:48.086335",
     "exception": false,
     "start_time": "2023-04-16T19:28:48.057281",
     "status": "completed"
    },
    "tags": []
   },
   "outputs": [
    {
     "data": {
      "text/plain": [
       "Index(['passenger_id', 'home_planet', 'cryo_sleep', 'destination', 'age',\n",
       "       'vip', 'room_service', 'food_court', 'shopping_mall', 'spa', 'vr_deck',\n",
       "       'transported'],\n",
       "      dtype='object')"
      ]
     },
     "execution_count": 47,
     "metadata": {},
     "output_type": "execute_result"
    }
   ],
   "source": [
    "train.columns"
   ]
  },
  {
   "cell_type": "code",
   "execution_count": 48,
   "id": "cb10e627",
   "metadata": {
    "execution": {
     "iopub.execute_input": "2023-04-16T19:28:48.122483Z",
     "iopub.status.busy": "2023-04-16T19:28:48.121511Z",
     "iopub.status.idle": "2023-04-16T19:28:48.131097Z",
     "shell.execute_reply": "2023-04-16T19:28:48.129735Z"
    },
    "papermill": {
     "duration": 0.030485,
     "end_time": "2023-04-16T19:28:48.133597",
     "exception": false,
     "start_time": "2023-04-16T19:28:48.103112",
     "status": "completed"
    },
    "tags": []
   },
   "outputs": [
    {
     "data": {
      "text/plain": [
       "array([  0.,   1.,   2.,   3.,   4.,   5., 368., 701., 395.])"
      ]
     },
     "execution_count": 48,
     "metadata": {},
     "output_type": "execute_result"
    }
   ],
   "source": [
    "train['vr_deck'].unique()"
   ]
  },
  {
   "cell_type": "code",
   "execution_count": 49,
   "id": "0537f1b1",
   "metadata": {
    "execution": {
     "iopub.execute_input": "2023-04-16T19:28:48.169537Z",
     "iopub.status.busy": "2023-04-16T19:28:48.168339Z",
     "iopub.status.idle": "2023-04-16T19:28:48.177006Z",
     "shell.execute_reply": "2023-04-16T19:28:48.175905Z"
    },
    "papermill": {
     "duration": 0.029234,
     "end_time": "2023-04-16T19:28:48.179515",
     "exception": false,
     "start_time": "2023-04-16T19:28:48.150281",
     "status": "completed"
    },
    "tags": []
   },
   "outputs": [
    {
     "data": {
      "text/plain": [
       "array([0, 1, 2, 3, 4, 5], dtype=object)"
      ]
     },
     "execution_count": 49,
     "metadata": {},
     "output_type": "execute_result"
    }
   ],
   "source": [
    "train['transported'].unique()"
   ]
  },
  {
   "cell_type": "code",
   "execution_count": 50,
   "id": "6be5f5f6",
   "metadata": {
    "execution": {
     "iopub.execute_input": "2023-04-16T19:28:48.216908Z",
     "iopub.status.busy": "2023-04-16T19:28:48.216475Z",
     "iopub.status.idle": "2023-04-16T19:28:48.227099Z",
     "shell.execute_reply": "2023-04-16T19:28:48.226017Z"
    },
    "papermill": {
     "duration": 0.032222,
     "end_time": "2023-04-16T19:28:48.229492",
     "exception": false,
     "start_time": "2023-04-16T19:28:48.197270",
     "status": "completed"
    },
    "tags": []
   },
   "outputs": [
    {
     "data": {
      "text/plain": [
       "1    4604\n",
       "0    2133\n",
       "2    1759\n",
       "3     150\n",
       "4      31\n",
       "5      16\n",
       "Name: transported, dtype: int64"
      ]
     },
     "execution_count": 50,
     "metadata": {},
     "output_type": "execute_result"
    }
   ],
   "source": [
    "train['transported'].value_counts()"
   ]
  },
  {
   "cell_type": "code",
   "execution_count": 51,
   "id": "aae8f4e7",
   "metadata": {
    "execution": {
     "iopub.execute_input": "2023-04-16T19:28:48.265483Z",
     "iopub.status.busy": "2023-04-16T19:28:48.265080Z",
     "iopub.status.idle": "2023-04-16T19:28:48.274193Z",
     "shell.execute_reply": "2023-04-16T19:28:48.272716Z"
    },
    "papermill": {
     "duration": 0.030171,
     "end_time": "2023-04-16T19:28:48.276637",
     "exception": false,
     "start_time": "2023-04-16T19:28:48.246466",
     "status": "completed"
    },
    "tags": []
   },
   "outputs": [
    {
     "data": {
      "text/plain": [
       "passenger_id      object\n",
       "home_planet       object\n",
       "cryo_sleep        object\n",
       "destination       object\n",
       "age              float64\n",
       "vip               object\n",
       "room_service     float64\n",
       "food_court       float64\n",
       "shopping_mall    float64\n",
       "spa              float64\n",
       "vr_deck          float64\n",
       "transported       object\n",
       "dtype: object"
      ]
     },
     "execution_count": 51,
     "metadata": {},
     "output_type": "execute_result"
    }
   ],
   "source": [
    "train.dtypes"
   ]
  },
  {
   "cell_type": "code",
   "execution_count": 52,
   "id": "7416be40",
   "metadata": {
    "execution": {
     "iopub.execute_input": "2023-04-16T19:28:48.313000Z",
     "iopub.status.busy": "2023-04-16T19:28:48.312569Z",
     "iopub.status.idle": "2023-04-16T19:28:48.356531Z",
     "shell.execute_reply": "2023-04-16T19:28:48.355376Z"
    },
    "papermill": {
     "duration": 0.065509,
     "end_time": "2023-04-16T19:28:48.359317",
     "exception": false,
     "start_time": "2023-04-16T19:28:48.293808",
     "status": "completed"
    },
    "tags": []
   },
   "outputs": [],
   "source": [
    "train.dropna(axis = 0, inplace = True)\n",
    "\n",
    "train['home_planet'] = train['home_planet'].astype(str).astype(int)\n",
    "train['cryo_sleep'] = train['cryo_sleep'].astype(str).astype(int)\n",
    "train['destination'] = train['destination'].astype(str).astype(int)\n",
    "train['vip'] = train['vip'].astype(str).astype(int)\n",
    "train['transported'] = train['transported'].astype(str).astype(int)\n",
    "\n",
    "test['home_planet'] = test['home_planet'].astype(str).astype(int)\n",
    "test['cryo_sleep'] = test['cryo_sleep'].astype(str).astype(int)\n",
    "test['destination'] = test['destination'].astype(str).astype(int)\n",
    "test['vip'] = test['vip'].astype(str).astype(int)"
   ]
  },
  {
   "cell_type": "code",
   "execution_count": 53,
   "id": "ccd0bfc9",
   "metadata": {
    "execution": {
     "iopub.execute_input": "2023-04-16T19:28:48.395668Z",
     "iopub.status.busy": "2023-04-16T19:28:48.395273Z",
     "iopub.status.idle": "2023-04-16T19:28:48.404491Z",
     "shell.execute_reply": "2023-04-16T19:28:48.403241Z"
    },
    "papermill": {
     "duration": 0.03063,
     "end_time": "2023-04-16T19:28:48.407041",
     "exception": false,
     "start_time": "2023-04-16T19:28:48.376411",
     "status": "completed"
    },
    "tags": []
   },
   "outputs": [
    {
     "data": {
      "text/plain": [
       "passenger_id      object\n",
       "home_planet        int64\n",
       "cryo_sleep         int64\n",
       "destination        int64\n",
       "age              float64\n",
       "vip                int64\n",
       "room_service     float64\n",
       "food_court       float64\n",
       "shopping_mall    float64\n",
       "spa              float64\n",
       "vr_deck          float64\n",
       "transported        int64\n",
       "dtype: object"
      ]
     },
     "execution_count": 53,
     "metadata": {},
     "output_type": "execute_result"
    }
   ],
   "source": [
    "train.dtypes"
   ]
  },
  {
   "cell_type": "code",
   "execution_count": 54,
   "id": "ce07f625",
   "metadata": {
    "execution": {
     "iopub.execute_input": "2023-04-16T19:28:48.443422Z",
     "iopub.status.busy": "2023-04-16T19:28:48.442643Z",
     "iopub.status.idle": "2023-04-16T19:28:48.468787Z",
     "shell.execute_reply": "2023-04-16T19:28:48.467219Z"
    },
    "papermill": {
     "duration": 0.047558,
     "end_time": "2023-04-16T19:28:48.471797",
     "exception": false,
     "start_time": "2023-04-16T19:28:48.424239",
     "status": "completed"
    },
    "tags": []
   },
   "outputs": [],
   "source": [
    "X = train.drop('transported', axis = 1)\n",
    "\n",
    "y = train['transported'].astype(str).astype(int)\n",
    "\n",
    "X = train.drop('passenger_id', axis = 1)\n",
    "\n",
    "y = train['passenger_id'].astype(str).astype(int)\n",
    "\n",
    "train_x, val_x, train_y, val_y = train_test_split(X, y)"
   ]
  },
  {
   "cell_type": "code",
   "execution_count": 55,
   "id": "94ab2e27",
   "metadata": {
    "execution": {
     "iopub.execute_input": "2023-04-16T19:28:48.508767Z",
     "iopub.status.busy": "2023-04-16T19:28:48.508337Z",
     "iopub.status.idle": "2023-04-16T19:28:48.516907Z",
     "shell.execute_reply": "2023-04-16T19:28:48.515658Z"
    },
    "papermill": {
     "duration": 0.030578,
     "end_time": "2023-04-16T19:28:48.519967",
     "exception": false,
     "start_time": "2023-04-16T19:28:48.489389",
     "status": "completed"
    },
    "tags": []
   },
   "outputs": [
    {
     "data": {
      "text/plain": [
       "home_planet        int64\n",
       "cryo_sleep         int64\n",
       "destination        int64\n",
       "age              float64\n",
       "vip                int64\n",
       "room_service     float64\n",
       "food_court       float64\n",
       "shopping_mall    float64\n",
       "spa              float64\n",
       "vr_deck          float64\n",
       "transported        int64\n",
       "dtype: object"
      ]
     },
     "execution_count": 55,
     "metadata": {},
     "output_type": "execute_result"
    }
   ],
   "source": [
    "X.dtypes"
   ]
  },
  {
   "cell_type": "code",
   "execution_count": 56,
   "id": "b9a4a447",
   "metadata": {
    "execution": {
     "iopub.execute_input": "2023-04-16T19:28:48.557157Z",
     "iopub.status.busy": "2023-04-16T19:28:48.556697Z",
     "iopub.status.idle": "2023-04-16T19:28:48.565443Z",
     "shell.execute_reply": "2023-04-16T19:28:48.564285Z"
    },
    "papermill": {
     "duration": 0.030586,
     "end_time": "2023-04-16T19:28:48.568231",
     "exception": false,
     "start_time": "2023-04-16T19:28:48.537645",
     "status": "completed"
    },
    "tags": []
   },
   "outputs": [
    {
     "data": {
      "text/plain": [
       "array([0, 1, 2, 3, 4, 5])"
      ]
     },
     "execution_count": 56,
     "metadata": {},
     "output_type": "execute_result"
    }
   ],
   "source": [
    "X['destination'].unique()"
   ]
  },
  {
   "cell_type": "code",
   "execution_count": 57,
   "id": "4ffc2bba",
   "metadata": {
    "execution": {
     "iopub.execute_input": "2023-04-16T19:28:48.608099Z",
     "iopub.status.busy": "2023-04-16T19:28:48.607629Z",
     "iopub.status.idle": "2023-04-16T19:28:51.197955Z",
     "shell.execute_reply": "2023-04-16T19:28:51.196461Z"
    },
    "papermill": {
     "duration": 2.612121,
     "end_time": "2023-04-16T19:28:51.200310",
     "exception": false,
     "start_time": "2023-04-16T19:28:48.588189",
     "status": "completed"
    },
    "tags": []
   },
   "outputs": [
    {
     "name": "stdout",
     "output_type": "stream",
     "text": [
      "100.0\n",
      "1\n",
      "5\n"
     ]
    }
   ],
   "source": [
    "from sklearn.ensemble import RandomForestClassifier\n",
    "from sklearn.metrics import mean_absolute_error\n",
    "\n",
    "max_accuracy = 0\n",
    "mn = 0\n",
    "md = 0\n",
    "\n",
    "for n in range(1, 11):\n",
    "    for d in range(1, 11):        \n",
    "        model = RandomForestClassifier(n_estimators = n, max_depth = d, random_state = 1)\n",
    "        model.fit(train_x, train_y)\n",
    "        predictions = model.predict(val_x)\n",
    "        \n",
    "        accuracy = 100 - (100 * (mean_absolute_error(predictions, val_y)))\n",
    "        \n",
    "        if accuracy > max_accuracy:\n",
    "            max_accuracy = accuracy\n",
    "            mn = n\n",
    "            md = d\n",
    "\n",
    "print(max_accuracy)\n",
    "print(mn)\n",
    "print(md)"
   ]
  },
  {
   "cell_type": "code",
   "execution_count": 58,
   "id": "22f01e75",
   "metadata": {
    "execution": {
     "iopub.execute_input": "2023-04-16T19:28:51.237369Z",
     "iopub.status.busy": "2023-04-16T19:28:51.236955Z",
     "iopub.status.idle": "2023-04-16T19:28:51.272427Z",
     "shell.execute_reply": "2023-04-16T19:28:51.271000Z"
    },
    "papermill": {
     "duration": 0.057273,
     "end_time": "2023-04-16T19:28:51.275080",
     "exception": false,
     "start_time": "2023-04-16T19:28:51.217807",
     "status": "completed"
    },
    "tags": []
   },
   "outputs": [
    {
     "name": "stdout",
     "output_type": "stream",
     "text": [
      "Your submission was successfully saved!\n"
     ]
    },
    {
     "name": "stderr",
     "output_type": "stream",
     "text": [
      "/opt/conda/lib/python3.7/site-packages/sklearn/base.py:493: FutureWarning: The feature names should match those that were passed during fit. Starting version 1.2, an error will be raised.\n",
      "Feature names unseen at fit time:\n",
      "- PassengerId\n",
      "Feature names seen at fit time, yet now missing:\n",
      "- transported\n",
      "\n",
      "  warnings.warn(message, FutureWarning)\n"
     ]
    }
   ],
   "source": [
    "model = RandomForestClassifier(n_estimators = mn, max_depth = md, random_state = 1)\n",
    "model.fit(train_x, train_y)\n",
    "\n",
    "predictions = model.predict(test)\n",
    "\n",
    "output = pd.DataFrame({'PassengerId': test.PassengerId, 'Transported': predictions})\n",
    "output.to_csv('submission.csv', index = False)\n",
    "print('Your submission was successfully saved!')"
   ]
  }
 ],
 "metadata": {
  "kernelspec": {
   "display_name": "Python 3",
   "language": "python",
   "name": "python3"
  },
  "language_info": {
   "codemirror_mode": {
    "name": "ipython",
    "version": 3
   },
   "file_extension": ".py",
   "mimetype": "text/x-python",
   "name": "python",
   "nbconvert_exporter": "python",
   "pygments_lexer": "ipython3",
   "version": "3.7.12"
  },
  "papermill": {
   "default_parameters": {},
   "duration": 19.222361,
   "end_time": "2023-04-16T19:28:52.117003",
   "environment_variables": {},
   "exception": null,
   "input_path": "__notebook__.ipynb",
   "output_path": "__notebook__.ipynb",
   "parameters": {},
   "start_time": "2023-04-16T19:28:32.894642",
   "version": "2.4.0"
  }
 },
 "nbformat": 4,
 "nbformat_minor": 5
}
