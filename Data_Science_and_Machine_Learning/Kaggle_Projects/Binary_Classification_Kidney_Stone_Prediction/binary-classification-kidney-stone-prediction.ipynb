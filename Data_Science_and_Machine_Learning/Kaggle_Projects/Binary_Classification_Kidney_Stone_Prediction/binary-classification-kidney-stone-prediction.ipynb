{
 "cells": [
  {
   "cell_type": "code",
   "execution_count": 1,
   "id": "b4eda338",
   "metadata": {
    "_cell_guid": "b1076dfc-b9ad-4769-8c92-a6c4dae69d19",
    "_uuid": "8f2839f25d086af736a60e9eeb907d3b93b6e0e5",
    "execution": {
     "iopub.execute_input": "2023-04-11T18:46:44.089466Z",
     "iopub.status.busy": "2023-04-11T18:46:44.089027Z",
     "iopub.status.idle": "2023-04-11T18:46:44.102206Z",
     "shell.execute_reply": "2023-04-11T18:46:44.100535Z"
    },
    "papermill": {
     "duration": 0.021276,
     "end_time": "2023-04-11T18:46:44.104266",
     "exception": false,
     "start_time": "2023-04-11T18:46:44.082990",
     "status": "completed"
    },
    "tags": []
   },
   "outputs": [
    {
     "name": "stdout",
     "output_type": "stream",
     "text": [
      "/kaggle/input/playground-series-s3e12/sample_submission.csv\n",
      "/kaggle/input/playground-series-s3e12/train.csv\n",
      "/kaggle/input/playground-series-s3e12/test.csv\n"
     ]
    }
   ],
   "source": [
    "# This Python 3 environment comes with many helpful analytics libraries installed\n",
    "# It is defined by the kaggle/python Docker image: https://github.com/kaggle/docker-python\n",
    "# For example, here's several helpful packages to load\n",
    "\n",
    "import numpy as np # linear algebra\n",
    "import pandas as pd # data processing, CSV file I/O (e.g. pd.read_csv)\n",
    "\n",
    "# Input data files are available in the read-only \"../input/\" directory\n",
    "# For example, running this (by clicking run or pressing Shift+Enter) will list all files under the input directory\n",
    "\n",
    "import os\n",
    "for dirname, _, filenames in os.walk('/kaggle/input'):\n",
    "    for filename in filenames:\n",
    "        print(os.path.join(dirname, filename))\n",
    "\n",
    "# You can write up to 20GB to the current directory (/kaggle/working/) that gets preserved as output when you create a version using \"Save & Run All\" \n",
    "# You can also write temporary files to /kaggle/temp/, but they won't be saved outside of the current session"
   ]
  },
  {
   "cell_type": "code",
   "execution_count": 2,
   "id": "0efb63c1",
   "metadata": {
    "execution": {
     "iopub.execute_input": "2023-04-11T18:46:44.112001Z",
     "iopub.status.busy": "2023-04-11T18:46:44.111671Z",
     "iopub.status.idle": "2023-04-11T18:46:44.138637Z",
     "shell.execute_reply": "2023-04-11T18:46:44.137652Z"
    },
    "papermill": {
     "duration": 0.033495,
     "end_time": "2023-04-11T18:46:44.141040",
     "exception": false,
     "start_time": "2023-04-11T18:46:44.107545",
     "status": "completed"
    },
    "tags": []
   },
   "outputs": [],
   "source": [
    "train = pd.read_csv('/kaggle/input/playground-series-s3e12/train.csv')\n",
    "test = pd.read_csv('/kaggle/input/playground-series-s3e12/test.csv')"
   ]
  },
  {
   "cell_type": "code",
   "execution_count": 3,
   "id": "9b0bfdaa",
   "metadata": {
    "execution": {
     "iopub.execute_input": "2023-04-11T18:46:44.149763Z",
     "iopub.status.busy": "2023-04-11T18:46:44.149118Z",
     "iopub.status.idle": "2023-04-11T18:46:44.174773Z",
     "shell.execute_reply": "2023-04-11T18:46:44.173851Z"
    },
    "papermill": {
     "duration": 0.032967,
     "end_time": "2023-04-11T18:46:44.177318",
     "exception": false,
     "start_time": "2023-04-11T18:46:44.144351",
     "status": "completed"
    },
    "tags": []
   },
   "outputs": [
    {
     "data": {
      "text/html": [
       "<div>\n",
       "<style scoped>\n",
       "    .dataframe tbody tr th:only-of-type {\n",
       "        vertical-align: middle;\n",
       "    }\n",
       "\n",
       "    .dataframe tbody tr th {\n",
       "        vertical-align: top;\n",
       "    }\n",
       "\n",
       "    .dataframe thead th {\n",
       "        text-align: right;\n",
       "    }\n",
       "</style>\n",
       "<table border=\"1\" class=\"dataframe\">\n",
       "  <thead>\n",
       "    <tr style=\"text-align: right;\">\n",
       "      <th></th>\n",
       "      <th>id</th>\n",
       "      <th>gravity</th>\n",
       "      <th>ph</th>\n",
       "      <th>osmo</th>\n",
       "      <th>cond</th>\n",
       "      <th>urea</th>\n",
       "      <th>calc</th>\n",
       "      <th>target</th>\n",
       "    </tr>\n",
       "  </thead>\n",
       "  <tbody>\n",
       "    <tr>\n",
       "      <th>0</th>\n",
       "      <td>0</td>\n",
       "      <td>1.013</td>\n",
       "      <td>6.19</td>\n",
       "      <td>443</td>\n",
       "      <td>14.8</td>\n",
       "      <td>124</td>\n",
       "      <td>1.45</td>\n",
       "      <td>0</td>\n",
       "    </tr>\n",
       "    <tr>\n",
       "      <th>1</th>\n",
       "      <td>1</td>\n",
       "      <td>1.025</td>\n",
       "      <td>5.40</td>\n",
       "      <td>703</td>\n",
       "      <td>23.6</td>\n",
       "      <td>394</td>\n",
       "      <td>4.18</td>\n",
       "      <td>0</td>\n",
       "    </tr>\n",
       "    <tr>\n",
       "      <th>2</th>\n",
       "      <td>2</td>\n",
       "      <td>1.009</td>\n",
       "      <td>6.13</td>\n",
       "      <td>371</td>\n",
       "      <td>24.5</td>\n",
       "      <td>159</td>\n",
       "      <td>9.04</td>\n",
       "      <td>0</td>\n",
       "    </tr>\n",
       "    <tr>\n",
       "      <th>3</th>\n",
       "      <td>3</td>\n",
       "      <td>1.021</td>\n",
       "      <td>4.91</td>\n",
       "      <td>442</td>\n",
       "      <td>20.8</td>\n",
       "      <td>398</td>\n",
       "      <td>6.63</td>\n",
       "      <td>1</td>\n",
       "    </tr>\n",
       "    <tr>\n",
       "      <th>4</th>\n",
       "      <td>4</td>\n",
       "      <td>1.021</td>\n",
       "      <td>5.53</td>\n",
       "      <td>874</td>\n",
       "      <td>17.8</td>\n",
       "      <td>385</td>\n",
       "      <td>2.21</td>\n",
       "      <td>1</td>\n",
       "    </tr>\n",
       "  </tbody>\n",
       "</table>\n",
       "</div>"
      ],
      "text/plain": [
       "   id  gravity    ph  osmo  cond  urea  calc  target\n",
       "0   0    1.013  6.19   443  14.8   124  1.45       0\n",
       "1   1    1.025  5.40   703  23.6   394  4.18       0\n",
       "2   2    1.009  6.13   371  24.5   159  9.04       0\n",
       "3   3    1.021  4.91   442  20.8   398  6.63       1\n",
       "4   4    1.021  5.53   874  17.8   385  2.21       1"
      ]
     },
     "execution_count": 3,
     "metadata": {},
     "output_type": "execute_result"
    }
   ],
   "source": [
    "train.head()"
   ]
  },
  {
   "cell_type": "code",
   "execution_count": 4,
   "id": "153dc584",
   "metadata": {
    "execution": {
     "iopub.execute_input": "2023-04-11T18:46:44.186007Z",
     "iopub.status.busy": "2023-04-11T18:46:44.185643Z",
     "iopub.status.idle": "2023-04-11T18:46:44.199399Z",
     "shell.execute_reply": "2023-04-11T18:46:44.198390Z"
    },
    "papermill": {
     "duration": 0.020415,
     "end_time": "2023-04-11T18:46:44.201383",
     "exception": false,
     "start_time": "2023-04-11T18:46:44.180968",
     "status": "completed"
    },
    "tags": []
   },
   "outputs": [
    {
     "data": {
      "text/html": [
       "<div>\n",
       "<style scoped>\n",
       "    .dataframe tbody tr th:only-of-type {\n",
       "        vertical-align: middle;\n",
       "    }\n",
       "\n",
       "    .dataframe tbody tr th {\n",
       "        vertical-align: top;\n",
       "    }\n",
       "\n",
       "    .dataframe thead th {\n",
       "        text-align: right;\n",
       "    }\n",
       "</style>\n",
       "<table border=\"1\" class=\"dataframe\">\n",
       "  <thead>\n",
       "    <tr style=\"text-align: right;\">\n",
       "      <th></th>\n",
       "      <th>id</th>\n",
       "      <th>gravity</th>\n",
       "      <th>ph</th>\n",
       "      <th>osmo</th>\n",
       "      <th>cond</th>\n",
       "      <th>urea</th>\n",
       "      <th>calc</th>\n",
       "    </tr>\n",
       "  </thead>\n",
       "  <tbody>\n",
       "    <tr>\n",
       "      <th>0</th>\n",
       "      <td>414</td>\n",
       "      <td>1.017</td>\n",
       "      <td>5.24</td>\n",
       "      <td>345</td>\n",
       "      <td>11.5</td>\n",
       "      <td>152</td>\n",
       "      <td>1.16</td>\n",
       "    </tr>\n",
       "    <tr>\n",
       "      <th>1</th>\n",
       "      <td>415</td>\n",
       "      <td>1.020</td>\n",
       "      <td>5.68</td>\n",
       "      <td>874</td>\n",
       "      <td>29.0</td>\n",
       "      <td>385</td>\n",
       "      <td>3.46</td>\n",
       "    </tr>\n",
       "    <tr>\n",
       "      <th>2</th>\n",
       "      <td>416</td>\n",
       "      <td>1.024</td>\n",
       "      <td>5.36</td>\n",
       "      <td>698</td>\n",
       "      <td>19.5</td>\n",
       "      <td>354</td>\n",
       "      <td>13.00</td>\n",
       "    </tr>\n",
       "    <tr>\n",
       "      <th>3</th>\n",
       "      <td>417</td>\n",
       "      <td>1.020</td>\n",
       "      <td>5.33</td>\n",
       "      <td>668</td>\n",
       "      <td>25.3</td>\n",
       "      <td>252</td>\n",
       "      <td>3.46</td>\n",
       "    </tr>\n",
       "    <tr>\n",
       "      <th>4</th>\n",
       "      <td>418</td>\n",
       "      <td>1.011</td>\n",
       "      <td>5.87</td>\n",
       "      <td>567</td>\n",
       "      <td>29.0</td>\n",
       "      <td>457</td>\n",
       "      <td>2.36</td>\n",
       "    </tr>\n",
       "  </tbody>\n",
       "</table>\n",
       "</div>"
      ],
      "text/plain": [
       "    id  gravity    ph  osmo  cond  urea   calc\n",
       "0  414    1.017  5.24   345  11.5   152   1.16\n",
       "1  415    1.020  5.68   874  29.0   385   3.46\n",
       "2  416    1.024  5.36   698  19.5   354  13.00\n",
       "3  417    1.020  5.33   668  25.3   252   3.46\n",
       "4  418    1.011  5.87   567  29.0   457   2.36"
      ]
     },
     "execution_count": 4,
     "metadata": {},
     "output_type": "execute_result"
    }
   ],
   "source": [
    "test.head()"
   ]
  },
  {
   "cell_type": "code",
   "execution_count": 5,
   "id": "9dc4951a",
   "metadata": {
    "execution": {
     "iopub.execute_input": "2023-04-11T18:46:44.209511Z",
     "iopub.status.busy": "2023-04-11T18:46:44.209224Z",
     "iopub.status.idle": "2023-04-11T18:46:44.217169Z",
     "shell.execute_reply": "2023-04-11T18:46:44.216117Z"
    },
    "papermill": {
     "duration": 0.01474,
     "end_time": "2023-04-11T18:46:44.219565",
     "exception": false,
     "start_time": "2023-04-11T18:46:44.204825",
     "status": "completed"
    },
    "tags": []
   },
   "outputs": [
    {
     "data": {
      "text/plain": [
       "id           int64\n",
       "gravity    float64\n",
       "ph         float64\n",
       "osmo         int64\n",
       "cond       float64\n",
       "urea         int64\n",
       "calc       float64\n",
       "target       int64\n",
       "dtype: object"
      ]
     },
     "execution_count": 5,
     "metadata": {},
     "output_type": "execute_result"
    }
   ],
   "source": [
    "train.dtypes"
   ]
  },
  {
   "cell_type": "code",
   "execution_count": 6,
   "id": "9ee66024",
   "metadata": {
    "execution": {
     "iopub.execute_input": "2023-04-11T18:46:44.229990Z",
     "iopub.status.busy": "2023-04-11T18:46:44.229556Z",
     "iopub.status.idle": "2023-04-11T18:46:44.252244Z",
     "shell.execute_reply": "2023-04-11T18:46:44.250547Z"
    },
    "papermill": {
     "duration": 0.031371,
     "end_time": "2023-04-11T18:46:44.255383",
     "exception": false,
     "start_time": "2023-04-11T18:46:44.224012",
     "status": "completed"
    },
    "tags": []
   },
   "outputs": [
    {
     "data": {
      "text/plain": [
       "id     gravity  ph     osmo   cond   urea   calc   target\n",
       "False  False    False  False  False  False  False  False     414\n",
       "dtype: int64"
      ]
     },
     "execution_count": 6,
     "metadata": {},
     "output_type": "execute_result"
    }
   ],
   "source": [
    "train.isnull().value_counts()"
   ]
  },
  {
   "cell_type": "code",
   "execution_count": 7,
   "id": "edd177dd",
   "metadata": {
    "execution": {
     "iopub.execute_input": "2023-04-11T18:46:44.265302Z",
     "iopub.status.busy": "2023-04-11T18:46:44.264691Z",
     "iopub.status.idle": "2023-04-11T18:46:44.280710Z",
     "shell.execute_reply": "2023-04-11T18:46:44.279416Z"
    },
    "papermill": {
     "duration": 0.024225,
     "end_time": "2023-04-11T18:46:44.283869",
     "exception": false,
     "start_time": "2023-04-11T18:46:44.259644",
     "status": "completed"
    },
    "tags": []
   },
   "outputs": [
    {
     "data": {
      "text/html": [
       "<div>\n",
       "<style scoped>\n",
       "    .dataframe tbody tr th:only-of-type {\n",
       "        vertical-align: middle;\n",
       "    }\n",
       "\n",
       "    .dataframe tbody tr th {\n",
       "        vertical-align: top;\n",
       "    }\n",
       "\n",
       "    .dataframe thead th {\n",
       "        text-align: right;\n",
       "    }\n",
       "</style>\n",
       "<table border=\"1\" class=\"dataframe\">\n",
       "  <thead>\n",
       "    <tr style=\"text-align: right;\">\n",
       "      <th></th>\n",
       "      <th>id</th>\n",
       "      <th>gravity</th>\n",
       "      <th>ph</th>\n",
       "      <th>osmo</th>\n",
       "      <th>cond</th>\n",
       "      <th>urea</th>\n",
       "      <th>calc</th>\n",
       "      <th>target</th>\n",
       "    </tr>\n",
       "  </thead>\n",
       "  <tbody>\n",
       "    <tr>\n",
       "      <th>id</th>\n",
       "      <td>1.000000</td>\n",
       "      <td>-0.004775</td>\n",
       "      <td>-0.086619</td>\n",
       "      <td>0.008030</td>\n",
       "      <td>0.032843</td>\n",
       "      <td>-0.023822</td>\n",
       "      <td>0.032360</td>\n",
       "      <td>0.018222</td>\n",
       "    </tr>\n",
       "    <tr>\n",
       "      <th>gravity</th>\n",
       "      <td>-0.004775</td>\n",
       "      <td>1.000000</td>\n",
       "      <td>-0.290349</td>\n",
       "      <td>0.692317</td>\n",
       "      <td>0.470433</td>\n",
       "      <td>0.631710</td>\n",
       "      <td>0.494304</td>\n",
       "      <td>0.282577</td>\n",
       "    </tr>\n",
       "    <tr>\n",
       "      <th>ph</th>\n",
       "      <td>-0.086619</td>\n",
       "      <td>-0.290349</td>\n",
       "      <td>1.000000</td>\n",
       "      <td>-0.309495</td>\n",
       "      <td>-0.190185</td>\n",
       "      <td>-0.279749</td>\n",
       "      <td>-0.214402</td>\n",
       "      <td>-0.094983</td>\n",
       "    </tr>\n",
       "    <tr>\n",
       "      <th>osmo</th>\n",
       "      <td>0.008030</td>\n",
       "      <td>0.692317</td>\n",
       "      <td>-0.309495</td>\n",
       "      <td>1.000000</td>\n",
       "      <td>0.708480</td>\n",
       "      <td>0.809880</td>\n",
       "      <td>0.472114</td>\n",
       "      <td>0.244770</td>\n",
       "    </tr>\n",
       "    <tr>\n",
       "      <th>cond</th>\n",
       "      <td>0.032843</td>\n",
       "      <td>0.470433</td>\n",
       "      <td>-0.190185</td>\n",
       "      <td>0.708480</td>\n",
       "      <td>1.000000</td>\n",
       "      <td>0.499109</td>\n",
       "      <td>0.330609</td>\n",
       "      <td>0.172224</td>\n",
       "    </tr>\n",
       "    <tr>\n",
       "      <th>urea</th>\n",
       "      <td>-0.023822</td>\n",
       "      <td>0.631710</td>\n",
       "      <td>-0.279749</td>\n",
       "      <td>0.809880</td>\n",
       "      <td>0.499109</td>\n",
       "      <td>1.000000</td>\n",
       "      <td>0.489879</td>\n",
       "      <td>0.265211</td>\n",
       "    </tr>\n",
       "    <tr>\n",
       "      <th>calc</th>\n",
       "      <td>0.032360</td>\n",
       "      <td>0.494304</td>\n",
       "      <td>-0.214402</td>\n",
       "      <td>0.472114</td>\n",
       "      <td>0.330609</td>\n",
       "      <td>0.489879</td>\n",
       "      <td>1.000000</td>\n",
       "      <td>0.467439</td>\n",
       "    </tr>\n",
       "    <tr>\n",
       "      <th>target</th>\n",
       "      <td>0.018222</td>\n",
       "      <td>0.282577</td>\n",
       "      <td>-0.094983</td>\n",
       "      <td>0.244770</td>\n",
       "      <td>0.172224</td>\n",
       "      <td>0.265211</td>\n",
       "      <td>0.467439</td>\n",
       "      <td>1.000000</td>\n",
       "    </tr>\n",
       "  </tbody>\n",
       "</table>\n",
       "</div>"
      ],
      "text/plain": [
       "               id   gravity        ph      osmo      cond      urea      calc  \\\n",
       "id       1.000000 -0.004775 -0.086619  0.008030  0.032843 -0.023822  0.032360   \n",
       "gravity -0.004775  1.000000 -0.290349  0.692317  0.470433  0.631710  0.494304   \n",
       "ph      -0.086619 -0.290349  1.000000 -0.309495 -0.190185 -0.279749 -0.214402   \n",
       "osmo     0.008030  0.692317 -0.309495  1.000000  0.708480  0.809880  0.472114   \n",
       "cond     0.032843  0.470433 -0.190185  0.708480  1.000000  0.499109  0.330609   \n",
       "urea    -0.023822  0.631710 -0.279749  0.809880  0.499109  1.000000  0.489879   \n",
       "calc     0.032360  0.494304 -0.214402  0.472114  0.330609  0.489879  1.000000   \n",
       "target   0.018222  0.282577 -0.094983  0.244770  0.172224  0.265211  0.467439   \n",
       "\n",
       "           target  \n",
       "id       0.018222  \n",
       "gravity  0.282577  \n",
       "ph      -0.094983  \n",
       "osmo     0.244770  \n",
       "cond     0.172224  \n",
       "urea     0.265211  \n",
       "calc     0.467439  \n",
       "target   1.000000  "
      ]
     },
     "execution_count": 7,
     "metadata": {},
     "output_type": "execute_result"
    }
   ],
   "source": [
    "train.corr()"
   ]
  },
  {
   "cell_type": "code",
   "execution_count": 8,
   "id": "324aec83",
   "metadata": {
    "execution": {
     "iopub.execute_input": "2023-04-11T18:46:44.294311Z",
     "iopub.status.busy": "2023-04-11T18:46:44.293822Z",
     "iopub.status.idle": "2023-04-11T18:46:45.294872Z",
     "shell.execute_reply": "2023-04-11T18:46:45.292991Z"
    },
    "papermill": {
     "duration": 1.00936,
     "end_time": "2023-04-11T18:46:45.297706",
     "exception": false,
     "start_time": "2023-04-11T18:46:44.288346",
     "status": "completed"
    },
    "tags": []
   },
   "outputs": [],
   "source": [
    "from sklearn.model_selection import train_test_split\n",
    "from sklearn.metrics import mean_absolute_error"
   ]
  },
  {
   "cell_type": "code",
   "execution_count": 9,
   "id": "dbacb1ba",
   "metadata": {
    "execution": {
     "iopub.execute_input": "2023-04-11T18:46:45.309766Z",
     "iopub.status.busy": "2023-04-11T18:46:45.309178Z",
     "iopub.status.idle": "2023-04-11T18:46:45.322152Z",
     "shell.execute_reply": "2023-04-11T18:46:45.321050Z"
    },
    "papermill": {
     "duration": 0.021563,
     "end_time": "2023-04-11T18:46:45.324860",
     "exception": false,
     "start_time": "2023-04-11T18:46:45.303297",
     "status": "completed"
    },
    "tags": []
   },
   "outputs": [],
   "source": [
    "X = train.drop('target', axis = 1)\n",
    "\n",
    "y = train['target']\n",
    "\n",
    "train_x, val_x, train_y, val_y = train_test_split(X, y)"
   ]
  },
  {
   "cell_type": "code",
   "execution_count": 10,
   "id": "ef6850aa",
   "metadata": {
    "execution": {
     "iopub.execute_input": "2023-04-11T18:46:45.335943Z",
     "iopub.status.busy": "2023-04-11T18:46:45.335176Z",
     "iopub.status.idle": "2023-04-11T18:46:45.693229Z",
     "shell.execute_reply": "2023-04-11T18:46:45.691599Z"
    },
    "papermill": {
     "duration": 0.365757,
     "end_time": "2023-04-11T18:46:45.695955",
     "exception": false,
     "start_time": "2023-04-11T18:46:45.330198",
     "status": "completed"
    },
    "tags": []
   },
   "outputs": [
    {
     "name": "stdout",
     "output_type": "stream",
     "text": [
      "Accuracy: 68.26923076923077\n"
     ]
    }
   ],
   "source": [
    "from sklearn.ensemble import RandomForestClassifier\n",
    "\n",
    "model = RandomForestClassifier(n_estimators = 25, max_depth = 4, random_state = 1)\n",
    "model.fit(train_x, train_y)\n",
    "predictions = model.predict(val_x)\n",
    "\n",
    "print(\"Accuracy: \" + str(100 - 100 * (mean_absolute_error(predictions, val_y))))"
   ]
  },
  {
   "cell_type": "code",
   "execution_count": 11,
   "id": "a19a30d9",
   "metadata": {
    "execution": {
     "iopub.execute_input": "2023-04-11T18:46:45.705880Z",
     "iopub.status.busy": "2023-04-11T18:46:45.705493Z",
     "iopub.status.idle": "2023-04-11T18:46:45.722818Z",
     "shell.execute_reply": "2023-04-11T18:46:45.721783Z"
    },
    "papermill": {
     "duration": 0.024582,
     "end_time": "2023-04-11T18:46:45.724806",
     "exception": false,
     "start_time": "2023-04-11T18:46:45.700224",
     "status": "completed"
    },
    "tags": []
   },
   "outputs": [
    {
     "name": "stdout",
     "output_type": "stream",
     "text": [
      "Your submission was successfully saved!\n"
     ]
    }
   ],
   "source": [
    "predictions = model.predict(test)\n",
    "\n",
    "output = pd.DataFrame({'id': test.id, 'target': predictions})\n",
    "output.to_csv('submission.csv', index = False)\n",
    "print('Your submission was successfully saved!')"
   ]
  }
 ],
 "metadata": {
  "kernelspec": {
   "display_name": "Python 3",
   "language": "python",
   "name": "python3"
  },
  "language_info": {
   "codemirror_mode": {
    "name": "ipython",
    "version": 3
   },
   "file_extension": ".py",
   "mimetype": "text/x-python",
   "name": "python",
   "nbconvert_exporter": "python",
   "pygments_lexer": "ipython3",
   "version": "3.7.12"
  },
  "papermill": {
   "default_parameters": {},
   "duration": 11.27991,
   "end_time": "2023-04-11T18:46:46.450370",
   "environment_variables": {},
   "exception": null,
   "input_path": "__notebook__.ipynb",
   "output_path": "__notebook__.ipynb",
   "parameters": {},
   "start_time": "2023-04-11T18:46:35.170460",
   "version": "2.4.0"
  }
 },
 "nbformat": 4,
 "nbformat_minor": 5
}
