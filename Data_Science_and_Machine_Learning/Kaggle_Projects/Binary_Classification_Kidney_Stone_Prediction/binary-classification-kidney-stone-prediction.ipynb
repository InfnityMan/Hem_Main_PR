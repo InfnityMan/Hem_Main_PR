{
 "cells": [
  {
   "cell_type": "code",
   "execution_count": 1,
   "id": "6e357892",
   "metadata": {
    "_cell_guid": "b1076dfc-b9ad-4769-8c92-a6c4dae69d19",
    "_uuid": "8f2839f25d086af736a60e9eeb907d3b93b6e0e5",
    "execution": {
     "iopub.execute_input": "2023-04-10T21:11:55.376396Z",
     "iopub.status.busy": "2023-04-10T21:11:55.375648Z",
     "iopub.status.idle": "2023-04-10T21:11:55.391828Z",
     "shell.execute_reply": "2023-04-10T21:11:55.390466Z"
    },
    "papermill": {
     "duration": 0.025193,
     "end_time": "2023-04-10T21:11:55.394721",
     "exception": false,
     "start_time": "2023-04-10T21:11:55.369528",
     "status": "completed"
    },
    "tags": []
   },
   "outputs": [
    {
     "name": "stdout",
     "output_type": "stream",
     "text": [
      "/kaggle/input/playground-series-s3e12/sample_submission.csv\n",
      "/kaggle/input/playground-series-s3e12/train.csv\n",
      "/kaggle/input/playground-series-s3e12/test.csv\n"
     ]
    }
   ],
   "source": [
    "# This Python 3 environment comes with many helpful analytics libraries installed\n",
    "# It is defined by the kaggle/python Docker image: https://github.com/kaggle/docker-python\n",
    "# For example, here's several helpful packages to load\n",
    "\n",
    "import numpy as np # linear algebra\n",
    "import pandas as pd # data processing, CSV file I/O (e.g. pd.read_csv)\n",
    "\n",
    "# Input data files are available in the read-only \"../input/\" directory\n",
    "# For example, running this (by clicking run or pressing Shift+Enter) will list all files under the input directory\n",
    "\n",
    "import os\n",
    "for dirname, _, filenames in os.walk('/kaggle/input'):\n",
    "    for filename in filenames:\n",
    "        print(os.path.join(dirname, filename))\n",
    "\n",
    "# You can write up to 20GB to the current directory (/kaggle/working/) that gets preserved as output when you create a version using \"Save & Run All\" \n",
    "# You can also write temporary files to /kaggle/temp/, but they won't be saved outside of the current session"
   ]
  },
  {
   "cell_type": "code",
   "execution_count": 2,
   "id": "22f886fe",
   "metadata": {
    "execution": {
     "iopub.execute_input": "2023-04-10T21:11:55.403174Z",
     "iopub.status.busy": "2023-04-10T21:11:55.402752Z",
     "iopub.status.idle": "2023-04-10T21:11:55.426829Z",
     "shell.execute_reply": "2023-04-10T21:11:55.425723Z"
    },
    "papermill": {
     "duration": 0.03132,
     "end_time": "2023-04-10T21:11:55.429505",
     "exception": false,
     "start_time": "2023-04-10T21:11:55.398185",
     "status": "completed"
    },
    "tags": []
   },
   "outputs": [],
   "source": [
    "train = pd.read_csv('/kaggle/input/playground-series-s3e12/train.csv')\n",
    "test = pd.read_csv('/kaggle/input/playground-series-s3e12/test.csv')"
   ]
  },
  {
   "cell_type": "code",
   "execution_count": 3,
   "id": "2e49b936",
   "metadata": {
    "execution": {
     "iopub.execute_input": "2023-04-10T21:11:55.438368Z",
     "iopub.status.busy": "2023-04-10T21:11:55.437727Z",
     "iopub.status.idle": "2023-04-10T21:11:55.466908Z",
     "shell.execute_reply": "2023-04-10T21:11:55.465605Z"
    },
    "papermill": {
     "duration": 0.036399,
     "end_time": "2023-04-10T21:11:55.469295",
     "exception": false,
     "start_time": "2023-04-10T21:11:55.432896",
     "status": "completed"
    },
    "tags": []
   },
   "outputs": [
    {
     "data": {
      "text/html": [
       "<div>\n",
       "<style scoped>\n",
       "    .dataframe tbody tr th:only-of-type {\n",
       "        vertical-align: middle;\n",
       "    }\n",
       "\n",
       "    .dataframe tbody tr th {\n",
       "        vertical-align: top;\n",
       "    }\n",
       "\n",
       "    .dataframe thead th {\n",
       "        text-align: right;\n",
       "    }\n",
       "</style>\n",
       "<table border=\"1\" class=\"dataframe\">\n",
       "  <thead>\n",
       "    <tr style=\"text-align: right;\">\n",
       "      <th></th>\n",
       "      <th>id</th>\n",
       "      <th>gravity</th>\n",
       "      <th>ph</th>\n",
       "      <th>osmo</th>\n",
       "      <th>cond</th>\n",
       "      <th>urea</th>\n",
       "      <th>calc</th>\n",
       "      <th>target</th>\n",
       "    </tr>\n",
       "  </thead>\n",
       "  <tbody>\n",
       "    <tr>\n",
       "      <th>0</th>\n",
       "      <td>0</td>\n",
       "      <td>1.013</td>\n",
       "      <td>6.19</td>\n",
       "      <td>443</td>\n",
       "      <td>14.8</td>\n",
       "      <td>124</td>\n",
       "      <td>1.45</td>\n",
       "      <td>0</td>\n",
       "    </tr>\n",
       "    <tr>\n",
       "      <th>1</th>\n",
       "      <td>1</td>\n",
       "      <td>1.025</td>\n",
       "      <td>5.40</td>\n",
       "      <td>703</td>\n",
       "      <td>23.6</td>\n",
       "      <td>394</td>\n",
       "      <td>4.18</td>\n",
       "      <td>0</td>\n",
       "    </tr>\n",
       "    <tr>\n",
       "      <th>2</th>\n",
       "      <td>2</td>\n",
       "      <td>1.009</td>\n",
       "      <td>6.13</td>\n",
       "      <td>371</td>\n",
       "      <td>24.5</td>\n",
       "      <td>159</td>\n",
       "      <td>9.04</td>\n",
       "      <td>0</td>\n",
       "    </tr>\n",
       "    <tr>\n",
       "      <th>3</th>\n",
       "      <td>3</td>\n",
       "      <td>1.021</td>\n",
       "      <td>4.91</td>\n",
       "      <td>442</td>\n",
       "      <td>20.8</td>\n",
       "      <td>398</td>\n",
       "      <td>6.63</td>\n",
       "      <td>1</td>\n",
       "    </tr>\n",
       "    <tr>\n",
       "      <th>4</th>\n",
       "      <td>4</td>\n",
       "      <td>1.021</td>\n",
       "      <td>5.53</td>\n",
       "      <td>874</td>\n",
       "      <td>17.8</td>\n",
       "      <td>385</td>\n",
       "      <td>2.21</td>\n",
       "      <td>1</td>\n",
       "    </tr>\n",
       "  </tbody>\n",
       "</table>\n",
       "</div>"
      ],
      "text/plain": [
       "   id  gravity    ph  osmo  cond  urea  calc  target\n",
       "0   0    1.013  6.19   443  14.8   124  1.45       0\n",
       "1   1    1.025  5.40   703  23.6   394  4.18       0\n",
       "2   2    1.009  6.13   371  24.5   159  9.04       0\n",
       "3   3    1.021  4.91   442  20.8   398  6.63       1\n",
       "4   4    1.021  5.53   874  17.8   385  2.21       1"
      ]
     },
     "execution_count": 3,
     "metadata": {},
     "output_type": "execute_result"
    }
   ],
   "source": [
    "train.head()"
   ]
  },
  {
   "cell_type": "code",
   "execution_count": 4,
   "id": "78ac2564",
   "metadata": {
    "execution": {
     "iopub.execute_input": "2023-04-10T21:11:55.478274Z",
     "iopub.status.busy": "2023-04-10T21:11:55.477852Z",
     "iopub.status.idle": "2023-04-10T21:11:55.491819Z",
     "shell.execute_reply": "2023-04-10T21:11:55.490391Z"
    },
    "papermill": {
     "duration": 0.020888,
     "end_time": "2023-04-10T21:11:55.494111",
     "exception": false,
     "start_time": "2023-04-10T21:11:55.473223",
     "status": "completed"
    },
    "tags": []
   },
   "outputs": [
    {
     "data": {
      "text/html": [
       "<div>\n",
       "<style scoped>\n",
       "    .dataframe tbody tr th:only-of-type {\n",
       "        vertical-align: middle;\n",
       "    }\n",
       "\n",
       "    .dataframe tbody tr th {\n",
       "        vertical-align: top;\n",
       "    }\n",
       "\n",
       "    .dataframe thead th {\n",
       "        text-align: right;\n",
       "    }\n",
       "</style>\n",
       "<table border=\"1\" class=\"dataframe\">\n",
       "  <thead>\n",
       "    <tr style=\"text-align: right;\">\n",
       "      <th></th>\n",
       "      <th>id</th>\n",
       "      <th>gravity</th>\n",
       "      <th>ph</th>\n",
       "      <th>osmo</th>\n",
       "      <th>cond</th>\n",
       "      <th>urea</th>\n",
       "      <th>calc</th>\n",
       "    </tr>\n",
       "  </thead>\n",
       "  <tbody>\n",
       "    <tr>\n",
       "      <th>0</th>\n",
       "      <td>414</td>\n",
       "      <td>1.017</td>\n",
       "      <td>5.24</td>\n",
       "      <td>345</td>\n",
       "      <td>11.5</td>\n",
       "      <td>152</td>\n",
       "      <td>1.16</td>\n",
       "    </tr>\n",
       "    <tr>\n",
       "      <th>1</th>\n",
       "      <td>415</td>\n",
       "      <td>1.020</td>\n",
       "      <td>5.68</td>\n",
       "      <td>874</td>\n",
       "      <td>29.0</td>\n",
       "      <td>385</td>\n",
       "      <td>3.46</td>\n",
       "    </tr>\n",
       "    <tr>\n",
       "      <th>2</th>\n",
       "      <td>416</td>\n",
       "      <td>1.024</td>\n",
       "      <td>5.36</td>\n",
       "      <td>698</td>\n",
       "      <td>19.5</td>\n",
       "      <td>354</td>\n",
       "      <td>13.00</td>\n",
       "    </tr>\n",
       "    <tr>\n",
       "      <th>3</th>\n",
       "      <td>417</td>\n",
       "      <td>1.020</td>\n",
       "      <td>5.33</td>\n",
       "      <td>668</td>\n",
       "      <td>25.3</td>\n",
       "      <td>252</td>\n",
       "      <td>3.46</td>\n",
       "    </tr>\n",
       "    <tr>\n",
       "      <th>4</th>\n",
       "      <td>418</td>\n",
       "      <td>1.011</td>\n",
       "      <td>5.87</td>\n",
       "      <td>567</td>\n",
       "      <td>29.0</td>\n",
       "      <td>457</td>\n",
       "      <td>2.36</td>\n",
       "    </tr>\n",
       "  </tbody>\n",
       "</table>\n",
       "</div>"
      ],
      "text/plain": [
       "    id  gravity    ph  osmo  cond  urea   calc\n",
       "0  414    1.017  5.24   345  11.5   152   1.16\n",
       "1  415    1.020  5.68   874  29.0   385   3.46\n",
       "2  416    1.024  5.36   698  19.5   354  13.00\n",
       "3  417    1.020  5.33   668  25.3   252   3.46\n",
       "4  418    1.011  5.87   567  29.0   457   2.36"
      ]
     },
     "execution_count": 4,
     "metadata": {},
     "output_type": "execute_result"
    }
   ],
   "source": [
    "test.head()"
   ]
  },
  {
   "cell_type": "code",
   "execution_count": 5,
   "id": "88cecc7b",
   "metadata": {
    "execution": {
     "iopub.execute_input": "2023-04-10T21:11:55.503520Z",
     "iopub.status.busy": "2023-04-10T21:11:55.503119Z",
     "iopub.status.idle": "2023-04-10T21:11:55.512628Z",
     "shell.execute_reply": "2023-04-10T21:11:55.511402Z"
    },
    "papermill": {
     "duration": 0.017661,
     "end_time": "2023-04-10T21:11:55.515417",
     "exception": false,
     "start_time": "2023-04-10T21:11:55.497756",
     "status": "completed"
    },
    "tags": []
   },
   "outputs": [
    {
     "data": {
      "text/plain": [
       "id           int64\n",
       "gravity    float64\n",
       "ph         float64\n",
       "osmo         int64\n",
       "cond       float64\n",
       "urea         int64\n",
       "calc       float64\n",
       "target       int64\n",
       "dtype: object"
      ]
     },
     "execution_count": 5,
     "metadata": {},
     "output_type": "execute_result"
    }
   ],
   "source": [
    "train.dtypes"
   ]
  },
  {
   "cell_type": "code",
   "execution_count": 6,
   "id": "baccd06e",
   "metadata": {
    "execution": {
     "iopub.execute_input": "2023-04-10T21:11:55.525084Z",
     "iopub.status.busy": "2023-04-10T21:11:55.524663Z",
     "iopub.status.idle": "2023-04-10T21:11:55.547203Z",
     "shell.execute_reply": "2023-04-10T21:11:55.546139Z"
    },
    "papermill": {
     "duration": 0.030409,
     "end_time": "2023-04-10T21:11:55.549753",
     "exception": false,
     "start_time": "2023-04-10T21:11:55.519344",
     "status": "completed"
    },
    "tags": []
   },
   "outputs": [
    {
     "data": {
      "text/plain": [
       "id     gravity  ph     osmo   cond   urea   calc   target\n",
       "False  False    False  False  False  False  False  False     414\n",
       "dtype: int64"
      ]
     },
     "execution_count": 6,
     "metadata": {},
     "output_type": "execute_result"
    }
   ],
   "source": [
    "train.isnull().value_counts()"
   ]
  },
  {
   "cell_type": "code",
   "execution_count": 7,
   "id": "9f91ef3c",
   "metadata": {
    "execution": {
     "iopub.execute_input": "2023-04-10T21:11:55.559435Z",
     "iopub.status.busy": "2023-04-10T21:11:55.559063Z",
     "iopub.status.idle": "2023-04-10T21:11:55.579318Z",
     "shell.execute_reply": "2023-04-10T21:11:55.578017Z"
    },
    "papermill": {
     "duration": 0.028485,
     "end_time": "2023-04-10T21:11:55.582223",
     "exception": false,
     "start_time": "2023-04-10T21:11:55.553738",
     "status": "completed"
    },
    "tags": []
   },
   "outputs": [
    {
     "data": {
      "text/html": [
       "<div>\n",
       "<style scoped>\n",
       "    .dataframe tbody tr th:only-of-type {\n",
       "        vertical-align: middle;\n",
       "    }\n",
       "\n",
       "    .dataframe tbody tr th {\n",
       "        vertical-align: top;\n",
       "    }\n",
       "\n",
       "    .dataframe thead th {\n",
       "        text-align: right;\n",
       "    }\n",
       "</style>\n",
       "<table border=\"1\" class=\"dataframe\">\n",
       "  <thead>\n",
       "    <tr style=\"text-align: right;\">\n",
       "      <th></th>\n",
       "      <th>id</th>\n",
       "      <th>gravity</th>\n",
       "      <th>ph</th>\n",
       "      <th>osmo</th>\n",
       "      <th>cond</th>\n",
       "      <th>urea</th>\n",
       "      <th>calc</th>\n",
       "      <th>target</th>\n",
       "    </tr>\n",
       "  </thead>\n",
       "  <tbody>\n",
       "    <tr>\n",
       "      <th>id</th>\n",
       "      <td>1.000000</td>\n",
       "      <td>-0.004775</td>\n",
       "      <td>-0.086619</td>\n",
       "      <td>0.008030</td>\n",
       "      <td>0.032843</td>\n",
       "      <td>-0.023822</td>\n",
       "      <td>0.032360</td>\n",
       "      <td>0.018222</td>\n",
       "    </tr>\n",
       "    <tr>\n",
       "      <th>gravity</th>\n",
       "      <td>-0.004775</td>\n",
       "      <td>1.000000</td>\n",
       "      <td>-0.290349</td>\n",
       "      <td>0.692317</td>\n",
       "      <td>0.470433</td>\n",
       "      <td>0.631710</td>\n",
       "      <td>0.494304</td>\n",
       "      <td>0.282577</td>\n",
       "    </tr>\n",
       "    <tr>\n",
       "      <th>ph</th>\n",
       "      <td>-0.086619</td>\n",
       "      <td>-0.290349</td>\n",
       "      <td>1.000000</td>\n",
       "      <td>-0.309495</td>\n",
       "      <td>-0.190185</td>\n",
       "      <td>-0.279749</td>\n",
       "      <td>-0.214402</td>\n",
       "      <td>-0.094983</td>\n",
       "    </tr>\n",
       "    <tr>\n",
       "      <th>osmo</th>\n",
       "      <td>0.008030</td>\n",
       "      <td>0.692317</td>\n",
       "      <td>-0.309495</td>\n",
       "      <td>1.000000</td>\n",
       "      <td>0.708480</td>\n",
       "      <td>0.809880</td>\n",
       "      <td>0.472114</td>\n",
       "      <td>0.244770</td>\n",
       "    </tr>\n",
       "    <tr>\n",
       "      <th>cond</th>\n",
       "      <td>0.032843</td>\n",
       "      <td>0.470433</td>\n",
       "      <td>-0.190185</td>\n",
       "      <td>0.708480</td>\n",
       "      <td>1.000000</td>\n",
       "      <td>0.499109</td>\n",
       "      <td>0.330609</td>\n",
       "      <td>0.172224</td>\n",
       "    </tr>\n",
       "    <tr>\n",
       "      <th>urea</th>\n",
       "      <td>-0.023822</td>\n",
       "      <td>0.631710</td>\n",
       "      <td>-0.279749</td>\n",
       "      <td>0.809880</td>\n",
       "      <td>0.499109</td>\n",
       "      <td>1.000000</td>\n",
       "      <td>0.489879</td>\n",
       "      <td>0.265211</td>\n",
       "    </tr>\n",
       "    <tr>\n",
       "      <th>calc</th>\n",
       "      <td>0.032360</td>\n",
       "      <td>0.494304</td>\n",
       "      <td>-0.214402</td>\n",
       "      <td>0.472114</td>\n",
       "      <td>0.330609</td>\n",
       "      <td>0.489879</td>\n",
       "      <td>1.000000</td>\n",
       "      <td>0.467439</td>\n",
       "    </tr>\n",
       "    <tr>\n",
       "      <th>target</th>\n",
       "      <td>0.018222</td>\n",
       "      <td>0.282577</td>\n",
       "      <td>-0.094983</td>\n",
       "      <td>0.244770</td>\n",
       "      <td>0.172224</td>\n",
       "      <td>0.265211</td>\n",
       "      <td>0.467439</td>\n",
       "      <td>1.000000</td>\n",
       "    </tr>\n",
       "  </tbody>\n",
       "</table>\n",
       "</div>"
      ],
      "text/plain": [
       "               id   gravity        ph      osmo      cond      urea      calc  \\\n",
       "id       1.000000 -0.004775 -0.086619  0.008030  0.032843 -0.023822  0.032360   \n",
       "gravity -0.004775  1.000000 -0.290349  0.692317  0.470433  0.631710  0.494304   \n",
       "ph      -0.086619 -0.290349  1.000000 -0.309495 -0.190185 -0.279749 -0.214402   \n",
       "osmo     0.008030  0.692317 -0.309495  1.000000  0.708480  0.809880  0.472114   \n",
       "cond     0.032843  0.470433 -0.190185  0.708480  1.000000  0.499109  0.330609   \n",
       "urea    -0.023822  0.631710 -0.279749  0.809880  0.499109  1.000000  0.489879   \n",
       "calc     0.032360  0.494304 -0.214402  0.472114  0.330609  0.489879  1.000000   \n",
       "target   0.018222  0.282577 -0.094983  0.244770  0.172224  0.265211  0.467439   \n",
       "\n",
       "           target  \n",
       "id       0.018222  \n",
       "gravity  0.282577  \n",
       "ph      -0.094983  \n",
       "osmo     0.244770  \n",
       "cond     0.172224  \n",
       "urea     0.265211  \n",
       "calc     0.467439  \n",
       "target   1.000000  "
      ]
     },
     "execution_count": 7,
     "metadata": {},
     "output_type": "execute_result"
    }
   ],
   "source": [
    "train.corr()"
   ]
  },
  {
   "cell_type": "code",
   "execution_count": 8,
   "id": "e0695a78",
   "metadata": {
    "execution": {
     "iopub.execute_input": "2023-04-10T21:11:55.593065Z",
     "iopub.status.busy": "2023-04-10T21:11:55.592683Z",
     "iopub.status.idle": "2023-04-10T21:11:55.601015Z",
     "shell.execute_reply": "2023-04-10T21:11:55.599510Z"
    },
    "papermill": {
     "duration": 0.016861,
     "end_time": "2023-04-10T21:11:55.603415",
     "exception": false,
     "start_time": "2023-04-10T21:11:55.586554",
     "status": "completed"
    },
    "tags": []
   },
   "outputs": [],
   "source": [
    "X = train.drop('target', axis = 1)\n",
    "\n",
    "y = train['target']"
   ]
  },
  {
   "cell_type": "code",
   "execution_count": 9,
   "id": "8697affc",
   "metadata": {
    "execution": {
     "iopub.execute_input": "2023-04-10T21:11:55.613749Z",
     "iopub.status.busy": "2023-04-10T21:11:55.613267Z",
     "iopub.status.idle": "2023-04-10T21:11:57.302369Z",
     "shell.execute_reply": "2023-04-10T21:11:57.300862Z"
    },
    "papermill": {
     "duration": 1.697426,
     "end_time": "2023-04-10T21:11:57.305023",
     "exception": false,
     "start_time": "2023-04-10T21:11:55.607597",
     "status": "completed"
    },
    "tags": []
   },
   "outputs": [
    {
     "name": "stdout",
     "output_type": "stream",
     "text": [
      "Your submission was successfully saved!\n"
     ]
    }
   ],
   "source": [
    "from sklearn.ensemble import RandomForestClassifier\n",
    "\n",
    "model = RandomForestClassifier(n_estimators = 100, max_depth = 5, random_state = 1)\n",
    "model.fit(X, y)\n",
    "predictions = model.predict(test)\n",
    "\n",
    "output = pd.DataFrame({'id': test.id, 'target': predictions})\n",
    "output.to_csv('submission.csv', index = False)\n",
    "print('Your submission was successfully saved!')"
   ]
  }
 ],
 "metadata": {
  "kernelspec": {
   "display_name": "Python 3",
   "language": "python",
   "name": "python3"
  },
  "language_info": {
   "codemirror_mode": {
    "name": "ipython",
    "version": 3
   },
   "file_extension": ".py",
   "mimetype": "text/x-python",
   "name": "python",
   "nbconvert_exporter": "python",
   "pygments_lexer": "ipython3",
   "version": "3.7.12"
  },
  "papermill": {
   "default_parameters": {},
   "duration": 13.319235,
   "end_time": "2023-04-10T21:11:58.133299",
   "environment_variables": {},
   "exception": null,
   "input_path": "__notebook__.ipynb",
   "output_path": "__notebook__.ipynb",
   "parameters": {},
   "start_time": "2023-04-10T21:11:44.814064",
   "version": "2.4.0"
  }
 },
 "nbformat": 4,
 "nbformat_minor": 5
}
