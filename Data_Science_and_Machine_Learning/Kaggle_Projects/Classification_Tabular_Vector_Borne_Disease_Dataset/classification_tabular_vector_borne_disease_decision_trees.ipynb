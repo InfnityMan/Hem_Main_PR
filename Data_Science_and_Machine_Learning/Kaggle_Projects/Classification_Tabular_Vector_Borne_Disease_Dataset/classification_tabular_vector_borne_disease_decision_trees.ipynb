{
 "cells": [
  {
   "cell_type": "code",
   "execution_count": 1,
   "id": "6418ab20",
   "metadata": {
    "_cell_guid": "b1076dfc-b9ad-4769-8c92-a6c4dae69d19",
    "_uuid": "8f2839f25d086af736a60e9eeb907d3b93b6e0e5",
    "execution": {
     "iopub.execute_input": "2023-04-23T17:10:51.871633Z",
     "iopub.status.busy": "2023-04-23T17:10:51.870573Z",
     "iopub.status.idle": "2023-04-23T17:10:51.888931Z",
     "shell.execute_reply": "2023-04-23T17:10:51.887685Z"
    },
    "papermill": {
     "duration": 0.028898,
     "end_time": "2023-04-23T17:10:51.892107",
     "exception": false,
     "start_time": "2023-04-23T17:10:51.863209",
     "status": "completed"
    },
    "tags": []
   },
   "outputs": [
    {
     "name": "stdout",
     "output_type": "stream",
     "text": [
      "/kaggle/input/playground-series-s3e13/sample_submission.csv\n",
      "/kaggle/input/playground-series-s3e13/train.csv\n",
      "/kaggle/input/playground-series-s3e13/test.csv\n"
     ]
    }
   ],
   "source": [
    "# This Python 3 environment comes with many helpful analytics libraries installed\n",
    "# It is defined by the kaggle/python Docker image: https://github.com/kaggle/docker-python\n",
    "# For example, here's several helpful packages to load\n",
    "\n",
    "import numpy as np # linear algebra\n",
    "import pandas as pd # data processing, CSV file I/O (e.g. pd.read_csv)\n",
    "\n",
    "# Input data files are available in the read-only \"../input/\" directory\n",
    "# For example, running this (by clicking run or pressing Shift+Enter) will list all files under the input directory\n",
    "\n",
    "import os\n",
    "for dirname, _, filenames in os.walk('/kaggle/input'):\n",
    "    for filename in filenames:\n",
    "        print(os.path.join(dirname, filename))\n",
    "\n",
    "# You can write up to 20GB to the current directory (/kaggle/working/) that gets preserved as output when you create a version using \"Save & Run All\" \n",
    "# You can also write temporary files to /kaggle/temp/, but they won't be saved outside of the current session"
   ]
  },
  {
   "cell_type": "code",
   "execution_count": 2,
   "id": "9be6675b",
   "metadata": {
    "execution": {
     "iopub.execute_input": "2023-04-23T17:10:51.902839Z",
     "iopub.status.busy": "2023-04-23T17:10:51.902088Z",
     "iopub.status.idle": "2023-04-23T17:10:51.942537Z",
     "shell.execute_reply": "2023-04-23T17:10:51.941104Z"
    },
    "papermill": {
     "duration": 0.049396,
     "end_time": "2023-04-23T17:10:51.945910",
     "exception": false,
     "start_time": "2023-04-23T17:10:51.896514",
     "status": "completed"
    },
    "tags": []
   },
   "outputs": [],
   "source": [
    "train = pd.read_csv('/kaggle/input/playground-series-s3e13/train.csv')\n",
    "test = pd.read_csv('/kaggle/input/playground-series-s3e13/test.csv')"
   ]
  },
  {
   "cell_type": "code",
   "execution_count": 3,
   "id": "b8ddc118",
   "metadata": {
    "execution": {
     "iopub.execute_input": "2023-04-23T17:10:51.956486Z",
     "iopub.status.busy": "2023-04-23T17:10:51.955989Z",
     "iopub.status.idle": "2023-04-23T17:10:52.008194Z",
     "shell.execute_reply": "2023-04-23T17:10:52.006806Z"
    },
    "papermill": {
     "duration": 0.060602,
     "end_time": "2023-04-23T17:10:52.010805",
     "exception": false,
     "start_time": "2023-04-23T17:10:51.950203",
     "status": "completed"
    },
    "tags": []
   },
   "outputs": [
    {
     "data": {
      "text/html": [
       "<div>\n",
       "<style scoped>\n",
       "    .dataframe tbody tr th:only-of-type {\n",
       "        vertical-align: middle;\n",
       "    }\n",
       "\n",
       "    .dataframe tbody tr th {\n",
       "        vertical-align: top;\n",
       "    }\n",
       "\n",
       "    .dataframe thead th {\n",
       "        text-align: right;\n",
       "    }\n",
       "</style>\n",
       "<table border=\"1\" class=\"dataframe\">\n",
       "  <thead>\n",
       "    <tr style=\"text-align: right;\">\n",
       "      <th></th>\n",
       "      <th>id</th>\n",
       "      <th>sudden_fever</th>\n",
       "      <th>headache</th>\n",
       "      <th>mouth_bleed</th>\n",
       "      <th>nose_bleed</th>\n",
       "      <th>muscle_pain</th>\n",
       "      <th>joint_pain</th>\n",
       "      <th>vomiting</th>\n",
       "      <th>rash</th>\n",
       "      <th>diarrhea</th>\n",
       "      <th>...</th>\n",
       "      <th>breathing_restriction</th>\n",
       "      <th>toe_inflammation</th>\n",
       "      <th>finger_inflammation</th>\n",
       "      <th>lips_irritation</th>\n",
       "      <th>itchiness</th>\n",
       "      <th>ulcers</th>\n",
       "      <th>toenail_loss</th>\n",
       "      <th>speech_problem</th>\n",
       "      <th>bullseye_rash</th>\n",
       "      <th>prognosis</th>\n",
       "    </tr>\n",
       "  </thead>\n",
       "  <tbody>\n",
       "    <tr>\n",
       "      <th>0</th>\n",
       "      <td>0</td>\n",
       "      <td>1.0</td>\n",
       "      <td>1.0</td>\n",
       "      <td>0.0</td>\n",
       "      <td>1.0</td>\n",
       "      <td>1.0</td>\n",
       "      <td>1.0</td>\n",
       "      <td>1.0</td>\n",
       "      <td>0.0</td>\n",
       "      <td>1.0</td>\n",
       "      <td>...</td>\n",
       "      <td>0.0</td>\n",
       "      <td>0.0</td>\n",
       "      <td>0.0</td>\n",
       "      <td>0.0</td>\n",
       "      <td>0.0</td>\n",
       "      <td>0.0</td>\n",
       "      <td>0.0</td>\n",
       "      <td>0.0</td>\n",
       "      <td>0.0</td>\n",
       "      <td>Lyme_disease</td>\n",
       "    </tr>\n",
       "    <tr>\n",
       "      <th>1</th>\n",
       "      <td>1</td>\n",
       "      <td>0.0</td>\n",
       "      <td>0.0</td>\n",
       "      <td>0.0</td>\n",
       "      <td>0.0</td>\n",
       "      <td>0.0</td>\n",
       "      <td>0.0</td>\n",
       "      <td>1.0</td>\n",
       "      <td>0.0</td>\n",
       "      <td>1.0</td>\n",
       "      <td>...</td>\n",
       "      <td>0.0</td>\n",
       "      <td>0.0</td>\n",
       "      <td>0.0</td>\n",
       "      <td>0.0</td>\n",
       "      <td>0.0</td>\n",
       "      <td>0.0</td>\n",
       "      <td>0.0</td>\n",
       "      <td>0.0</td>\n",
       "      <td>0.0</td>\n",
       "      <td>Tungiasis</td>\n",
       "    </tr>\n",
       "    <tr>\n",
       "      <th>2</th>\n",
       "      <td>2</td>\n",
       "      <td>0.0</td>\n",
       "      <td>1.0</td>\n",
       "      <td>1.0</td>\n",
       "      <td>1.0</td>\n",
       "      <td>0.0</td>\n",
       "      <td>1.0</td>\n",
       "      <td>1.0</td>\n",
       "      <td>1.0</td>\n",
       "      <td>1.0</td>\n",
       "      <td>...</td>\n",
       "      <td>1.0</td>\n",
       "      <td>1.0</td>\n",
       "      <td>1.0</td>\n",
       "      <td>1.0</td>\n",
       "      <td>1.0</td>\n",
       "      <td>0.0</td>\n",
       "      <td>1.0</td>\n",
       "      <td>1.0</td>\n",
       "      <td>1.0</td>\n",
       "      <td>Lyme_disease</td>\n",
       "    </tr>\n",
       "    <tr>\n",
       "      <th>3</th>\n",
       "      <td>3</td>\n",
       "      <td>0.0</td>\n",
       "      <td>0.0</td>\n",
       "      <td>1.0</td>\n",
       "      <td>1.0</td>\n",
       "      <td>1.0</td>\n",
       "      <td>1.0</td>\n",
       "      <td>0.0</td>\n",
       "      <td>1.0</td>\n",
       "      <td>0.0</td>\n",
       "      <td>...</td>\n",
       "      <td>0.0</td>\n",
       "      <td>0.0</td>\n",
       "      <td>0.0</td>\n",
       "      <td>0.0</td>\n",
       "      <td>0.0</td>\n",
       "      <td>0.0</td>\n",
       "      <td>0.0</td>\n",
       "      <td>0.0</td>\n",
       "      <td>0.0</td>\n",
       "      <td>Zika</td>\n",
       "    </tr>\n",
       "    <tr>\n",
       "      <th>4</th>\n",
       "      <td>4</td>\n",
       "      <td>0.0</td>\n",
       "      <td>0.0</td>\n",
       "      <td>0.0</td>\n",
       "      <td>0.0</td>\n",
       "      <td>0.0</td>\n",
       "      <td>0.0</td>\n",
       "      <td>0.0</td>\n",
       "      <td>0.0</td>\n",
       "      <td>1.0</td>\n",
       "      <td>...</td>\n",
       "      <td>0.0</td>\n",
       "      <td>1.0</td>\n",
       "      <td>0.0</td>\n",
       "      <td>0.0</td>\n",
       "      <td>1.0</td>\n",
       "      <td>1.0</td>\n",
       "      <td>1.0</td>\n",
       "      <td>0.0</td>\n",
       "      <td>0.0</td>\n",
       "      <td>Rift_Valley_fever</td>\n",
       "    </tr>\n",
       "  </tbody>\n",
       "</table>\n",
       "<p>5 rows × 66 columns</p>\n",
       "</div>"
      ],
      "text/plain": [
       "   id  sudden_fever  headache  mouth_bleed  nose_bleed  muscle_pain  \\\n",
       "0   0           1.0       1.0          0.0         1.0          1.0   \n",
       "1   1           0.0       0.0          0.0         0.0          0.0   \n",
       "2   2           0.0       1.0          1.0         1.0          0.0   \n",
       "3   3           0.0       0.0          1.0         1.0          1.0   \n",
       "4   4           0.0       0.0          0.0         0.0          0.0   \n",
       "\n",
       "   joint_pain  vomiting  rash  diarrhea  ...  breathing_restriction  \\\n",
       "0         1.0       1.0   0.0       1.0  ...                    0.0   \n",
       "1         0.0       1.0   0.0       1.0  ...                    0.0   \n",
       "2         1.0       1.0   1.0       1.0  ...                    1.0   \n",
       "3         1.0       0.0   1.0       0.0  ...                    0.0   \n",
       "4         0.0       0.0   0.0       1.0  ...                    0.0   \n",
       "\n",
       "   toe_inflammation  finger_inflammation  lips_irritation  itchiness  ulcers  \\\n",
       "0               0.0                  0.0              0.0        0.0     0.0   \n",
       "1               0.0                  0.0              0.0        0.0     0.0   \n",
       "2               1.0                  1.0              1.0        1.0     0.0   \n",
       "3               0.0                  0.0              0.0        0.0     0.0   \n",
       "4               1.0                  0.0              0.0        1.0     1.0   \n",
       "\n",
       "   toenail_loss  speech_problem  bullseye_rash          prognosis  \n",
       "0           0.0             0.0            0.0       Lyme_disease  \n",
       "1           0.0             0.0            0.0          Tungiasis  \n",
       "2           1.0             1.0            1.0       Lyme_disease  \n",
       "3           0.0             0.0            0.0               Zika  \n",
       "4           1.0             0.0            0.0  Rift_Valley_fever  \n",
       "\n",
       "[5 rows x 66 columns]"
      ]
     },
     "execution_count": 3,
     "metadata": {},
     "output_type": "execute_result"
    }
   ],
   "source": [
    "train.head()"
   ]
  },
  {
   "cell_type": "code",
   "execution_count": 4,
   "id": "ddb2b2b4",
   "metadata": {
    "execution": {
     "iopub.execute_input": "2023-04-23T17:10:52.022265Z",
     "iopub.status.busy": "2023-04-23T17:10:52.021402Z",
     "iopub.status.idle": "2023-04-23T17:10:52.054242Z",
     "shell.execute_reply": "2023-04-23T17:10:52.052917Z"
    },
    "papermill": {
     "duration": 0.041317,
     "end_time": "2023-04-23T17:10:52.056695",
     "exception": false,
     "start_time": "2023-04-23T17:10:52.015378",
     "status": "completed"
    },
    "tags": []
   },
   "outputs": [
    {
     "data": {
      "text/html": [
       "<div>\n",
       "<style scoped>\n",
       "    .dataframe tbody tr th:only-of-type {\n",
       "        vertical-align: middle;\n",
       "    }\n",
       "\n",
       "    .dataframe tbody tr th {\n",
       "        vertical-align: top;\n",
       "    }\n",
       "\n",
       "    .dataframe thead th {\n",
       "        text-align: right;\n",
       "    }\n",
       "</style>\n",
       "<table border=\"1\" class=\"dataframe\">\n",
       "  <thead>\n",
       "    <tr style=\"text-align: right;\">\n",
       "      <th></th>\n",
       "      <th>id</th>\n",
       "      <th>sudden_fever</th>\n",
       "      <th>headache</th>\n",
       "      <th>mouth_bleed</th>\n",
       "      <th>nose_bleed</th>\n",
       "      <th>muscle_pain</th>\n",
       "      <th>joint_pain</th>\n",
       "      <th>vomiting</th>\n",
       "      <th>rash</th>\n",
       "      <th>diarrhea</th>\n",
       "      <th>...</th>\n",
       "      <th>lymph_swells</th>\n",
       "      <th>breathing_restriction</th>\n",
       "      <th>toe_inflammation</th>\n",
       "      <th>finger_inflammation</th>\n",
       "      <th>lips_irritation</th>\n",
       "      <th>itchiness</th>\n",
       "      <th>ulcers</th>\n",
       "      <th>toenail_loss</th>\n",
       "      <th>speech_problem</th>\n",
       "      <th>bullseye_rash</th>\n",
       "    </tr>\n",
       "  </thead>\n",
       "  <tbody>\n",
       "    <tr>\n",
       "      <th>0</th>\n",
       "      <td>707</td>\n",
       "      <td>0.0</td>\n",
       "      <td>0.0</td>\n",
       "      <td>0.0</td>\n",
       "      <td>0.0</td>\n",
       "      <td>0.0</td>\n",
       "      <td>0.0</td>\n",
       "      <td>0.0</td>\n",
       "      <td>0.0</td>\n",
       "      <td>0.0</td>\n",
       "      <td>...</td>\n",
       "      <td>0.0</td>\n",
       "      <td>0.0</td>\n",
       "      <td>0.0</td>\n",
       "      <td>0.0</td>\n",
       "      <td>0.0</td>\n",
       "      <td>0.0</td>\n",
       "      <td>0.0</td>\n",
       "      <td>0.0</td>\n",
       "      <td>0.0</td>\n",
       "      <td>0.0</td>\n",
       "    </tr>\n",
       "    <tr>\n",
       "      <th>1</th>\n",
       "      <td>708</td>\n",
       "      <td>1.0</td>\n",
       "      <td>1.0</td>\n",
       "      <td>0.0</td>\n",
       "      <td>1.0</td>\n",
       "      <td>0.0</td>\n",
       "      <td>1.0</td>\n",
       "      <td>1.0</td>\n",
       "      <td>1.0</td>\n",
       "      <td>1.0</td>\n",
       "      <td>...</td>\n",
       "      <td>0.0</td>\n",
       "      <td>0.0</td>\n",
       "      <td>0.0</td>\n",
       "      <td>0.0</td>\n",
       "      <td>0.0</td>\n",
       "      <td>0.0</td>\n",
       "      <td>0.0</td>\n",
       "      <td>0.0</td>\n",
       "      <td>0.0</td>\n",
       "      <td>0.0</td>\n",
       "    </tr>\n",
       "    <tr>\n",
       "      <th>2</th>\n",
       "      <td>709</td>\n",
       "      <td>1.0</td>\n",
       "      <td>1.0</td>\n",
       "      <td>0.0</td>\n",
       "      <td>1.0</td>\n",
       "      <td>1.0</td>\n",
       "      <td>1.0</td>\n",
       "      <td>1.0</td>\n",
       "      <td>0.0</td>\n",
       "      <td>1.0</td>\n",
       "      <td>...</td>\n",
       "      <td>0.0</td>\n",
       "      <td>0.0</td>\n",
       "      <td>0.0</td>\n",
       "      <td>0.0</td>\n",
       "      <td>0.0</td>\n",
       "      <td>1.0</td>\n",
       "      <td>0.0</td>\n",
       "      <td>0.0</td>\n",
       "      <td>0.0</td>\n",
       "      <td>0.0</td>\n",
       "    </tr>\n",
       "    <tr>\n",
       "      <th>3</th>\n",
       "      <td>710</td>\n",
       "      <td>0.0</td>\n",
       "      <td>1.0</td>\n",
       "      <td>0.0</td>\n",
       "      <td>0.0</td>\n",
       "      <td>0.0</td>\n",
       "      <td>1.0</td>\n",
       "      <td>1.0</td>\n",
       "      <td>1.0</td>\n",
       "      <td>0.0</td>\n",
       "      <td>...</td>\n",
       "      <td>0.0</td>\n",
       "      <td>0.0</td>\n",
       "      <td>0.0</td>\n",
       "      <td>0.0</td>\n",
       "      <td>0.0</td>\n",
       "      <td>0.0</td>\n",
       "      <td>0.0</td>\n",
       "      <td>0.0</td>\n",
       "      <td>0.0</td>\n",
       "      <td>0.0</td>\n",
       "    </tr>\n",
       "    <tr>\n",
       "      <th>4</th>\n",
       "      <td>711</td>\n",
       "      <td>0.0</td>\n",
       "      <td>0.0</td>\n",
       "      <td>1.0</td>\n",
       "      <td>0.0</td>\n",
       "      <td>1.0</td>\n",
       "      <td>1.0</td>\n",
       "      <td>0.0</td>\n",
       "      <td>0.0</td>\n",
       "      <td>1.0</td>\n",
       "      <td>...</td>\n",
       "      <td>0.0</td>\n",
       "      <td>0.0</td>\n",
       "      <td>0.0</td>\n",
       "      <td>0.0</td>\n",
       "      <td>0.0</td>\n",
       "      <td>0.0</td>\n",
       "      <td>0.0</td>\n",
       "      <td>0.0</td>\n",
       "      <td>0.0</td>\n",
       "      <td>0.0</td>\n",
       "    </tr>\n",
       "  </tbody>\n",
       "</table>\n",
       "<p>5 rows × 65 columns</p>\n",
       "</div>"
      ],
      "text/plain": [
       "    id  sudden_fever  headache  mouth_bleed  nose_bleed  muscle_pain  \\\n",
       "0  707           0.0       0.0          0.0         0.0          0.0   \n",
       "1  708           1.0       1.0          0.0         1.0          0.0   \n",
       "2  709           1.0       1.0          0.0         1.0          1.0   \n",
       "3  710           0.0       1.0          0.0         0.0          0.0   \n",
       "4  711           0.0       0.0          1.0         0.0          1.0   \n",
       "\n",
       "   joint_pain  vomiting  rash  diarrhea  ...  lymph_swells  \\\n",
       "0         0.0       0.0   0.0       0.0  ...           0.0   \n",
       "1         1.0       1.0   1.0       1.0  ...           0.0   \n",
       "2         1.0       1.0   0.0       1.0  ...           0.0   \n",
       "3         1.0       1.0   1.0       0.0  ...           0.0   \n",
       "4         1.0       0.0   0.0       1.0  ...           0.0   \n",
       "\n",
       "   breathing_restriction  toe_inflammation  finger_inflammation  \\\n",
       "0                    0.0               0.0                  0.0   \n",
       "1                    0.0               0.0                  0.0   \n",
       "2                    0.0               0.0                  0.0   \n",
       "3                    0.0               0.0                  0.0   \n",
       "4                    0.0               0.0                  0.0   \n",
       "\n",
       "   lips_irritation  itchiness  ulcers  toenail_loss  speech_problem  \\\n",
       "0              0.0        0.0     0.0           0.0             0.0   \n",
       "1              0.0        0.0     0.0           0.0             0.0   \n",
       "2              0.0        1.0     0.0           0.0             0.0   \n",
       "3              0.0        0.0     0.0           0.0             0.0   \n",
       "4              0.0        0.0     0.0           0.0             0.0   \n",
       "\n",
       "   bullseye_rash  \n",
       "0            0.0  \n",
       "1            0.0  \n",
       "2            0.0  \n",
       "3            0.0  \n",
       "4            0.0  \n",
       "\n",
       "[5 rows x 65 columns]"
      ]
     },
     "execution_count": 4,
     "metadata": {},
     "output_type": "execute_result"
    }
   ],
   "source": [
    "test.head()"
   ]
  },
  {
   "cell_type": "code",
   "execution_count": 5,
   "id": "5d7eb1c7",
   "metadata": {
    "execution": {
     "iopub.execute_input": "2023-04-23T17:10:52.068616Z",
     "iopub.status.busy": "2023-04-23T17:10:52.067895Z",
     "iopub.status.idle": "2023-04-23T17:10:52.081445Z",
     "shell.execute_reply": "2023-04-23T17:10:52.080180Z"
    },
    "papermill": {
     "duration": 0.022323,
     "end_time": "2023-04-23T17:10:52.083939",
     "exception": false,
     "start_time": "2023-04-23T17:10:52.061616",
     "status": "completed"
    },
    "tags": []
   },
   "outputs": [
    {
     "data": {
      "text/plain": [
       "array(['Lyme_disease', 'Tungiasis', 'Zika', 'Rift_Valley_fever',\n",
       "       'West_Nile_fever', 'Malaria', 'Chikungunya', 'Plague', 'Dengue',\n",
       "       'Yellow_Fever', 'Japanese_encephalitis'], dtype=object)"
      ]
     },
     "execution_count": 5,
     "metadata": {},
     "output_type": "execute_result"
    }
   ],
   "source": [
    "train['prognosis'].unique()"
   ]
  },
  {
   "cell_type": "code",
   "execution_count": 6,
   "id": "4bd45048",
   "metadata": {
    "execution": {
     "iopub.execute_input": "2023-04-23T17:10:52.095857Z",
     "iopub.status.busy": "2023-04-23T17:10:52.095424Z",
     "iopub.status.idle": "2023-04-23T17:10:52.291830Z",
     "shell.execute_reply": "2023-04-23T17:10:52.290504Z"
    },
    "papermill": {
     "duration": 0.205404,
     "end_time": "2023-04-23T17:10:52.294429",
     "exception": false,
     "start_time": "2023-04-23T17:10:52.089025",
     "status": "completed"
    },
    "tags": []
   },
   "outputs": [],
   "source": [
    "train[train['prognosis'] == 'Lyme_disease'] = 0\n",
    "train[train['prognosis'] == 'Tungiasis'] = 1\n",
    "train[train['prognosis'] == 'Zika'] = 2\n",
    "train[train['prognosis'] == 'Rift_Valley_fever'] = 3\n",
    "train[train['prognosis'] == 'West_Nile_fever'] = 4\n",
    "train[train['prognosis'] == 'Malaria'] = 5\n",
    "train[train['prognosis'] == 'Chikungunya'] = 6\n",
    "train[train['prognosis'] == 'Plague'] = 7\n",
    "train[train['prognosis'] == 'Dengue'] = 8\n",
    "train[train['prognosis'] == 'Yellow_Fever'] = 9\n",
    "train[train['prognosis'] == 'Japanese_encephalitis'] = 10"
   ]
  },
  {
   "cell_type": "code",
   "execution_count": 7,
   "id": "2048d7ad",
   "metadata": {
    "execution": {
     "iopub.execute_input": "2023-04-23T17:10:52.306972Z",
     "iopub.status.busy": "2023-04-23T17:10:52.306511Z",
     "iopub.status.idle": "2023-04-23T17:10:52.316619Z",
     "shell.execute_reply": "2023-04-23T17:10:52.315259Z"
    },
    "papermill": {
     "duration": 0.020129,
     "end_time": "2023-04-23T17:10:52.319664",
     "exception": false,
     "start_time": "2023-04-23T17:10:52.299535",
     "status": "completed"
    },
    "tags": []
   },
   "outputs": [
    {
     "data": {
      "text/plain": [
       "id                  int64\n",
       "sudden_fever      float64\n",
       "headache          float64\n",
       "mouth_bleed       float64\n",
       "nose_bleed        float64\n",
       "                   ...   \n",
       "ulcers            float64\n",
       "toenail_loss      float64\n",
       "speech_problem    float64\n",
       "bullseye_rash     float64\n",
       "prognosis          object\n",
       "Length: 66, dtype: object"
      ]
     },
     "execution_count": 7,
     "metadata": {},
     "output_type": "execute_result"
    }
   ],
   "source": [
    "train.dtypes"
   ]
  },
  {
   "cell_type": "code",
   "execution_count": 8,
   "id": "6ed6e118",
   "metadata": {
    "execution": {
     "iopub.execute_input": "2023-04-23T17:10:52.332447Z",
     "iopub.status.busy": "2023-04-23T17:10:52.331478Z",
     "iopub.status.idle": "2023-04-23T17:10:52.338624Z",
     "shell.execute_reply": "2023-04-23T17:10:52.337393Z"
    },
    "papermill": {
     "duration": 0.016131,
     "end_time": "2023-04-23T17:10:52.341017",
     "exception": false,
     "start_time": "2023-04-23T17:10:52.324886",
     "status": "completed"
    },
    "tags": []
   },
   "outputs": [],
   "source": [
    "train['prognosis'] = train['prognosis'].astype(str).astype(int)"
   ]
  },
  {
   "cell_type": "code",
   "execution_count": 9,
   "id": "f056d4e2",
   "metadata": {
    "execution": {
     "iopub.execute_input": "2023-04-23T17:10:52.353335Z",
     "iopub.status.busy": "2023-04-23T17:10:52.352132Z",
     "iopub.status.idle": "2023-04-23T17:10:52.362252Z",
     "shell.execute_reply": "2023-04-23T17:10:52.360500Z"
    },
    "papermill": {
     "duration": 0.018888,
     "end_time": "2023-04-23T17:10:52.364891",
     "exception": false,
     "start_time": "2023-04-23T17:10:52.346003",
     "status": "completed"
    },
    "tags": []
   },
   "outputs": [],
   "source": [
    "X = train.drop('prognosis', axis = 1)\n",
    "\n",
    "y = train['prognosis']"
   ]
  },
  {
   "cell_type": "code",
   "execution_count": 10,
   "id": "db6d88c8",
   "metadata": {
    "execution": {
     "iopub.execute_input": "2023-04-23T17:10:52.378350Z",
     "iopub.status.busy": "2023-04-23T17:10:52.377018Z",
     "iopub.status.idle": "2023-04-23T17:10:53.525677Z",
     "shell.execute_reply": "2023-04-23T17:10:53.524255Z"
    },
    "papermill": {
     "duration": 1.158622,
     "end_time": "2023-04-23T17:10:53.528956",
     "exception": false,
     "start_time": "2023-04-23T17:10:52.370334",
     "status": "completed"
    },
    "tags": []
   },
   "outputs": [],
   "source": [
    "from sklearn.model_selection import train_test_split\n",
    "train_x, val_x, train_y, val_y = train_test_split(X, y)"
   ]
  },
  {
   "cell_type": "code",
   "execution_count": 11,
   "id": "2ad5809a",
   "metadata": {
    "execution": {
     "iopub.execute_input": "2023-04-23T17:10:53.541293Z",
     "iopub.status.busy": "2023-04-23T17:10:53.540767Z",
     "iopub.status.idle": "2023-04-23T17:10:53.788938Z",
     "shell.execute_reply": "2023-04-23T17:10:53.787325Z"
    },
    "papermill": {
     "duration": 0.257783,
     "end_time": "2023-04-23T17:10:53.791970",
     "exception": false,
     "start_time": "2023-04-23T17:10:53.534187",
     "status": "completed"
    },
    "tags": []
   },
   "outputs": [
    {
     "name": "stdout",
     "output_type": "stream",
     "text": [
      "Accuracy: 100.0\n"
     ]
    }
   ],
   "source": [
    "from sklearn.tree import DecisionTreeRegressor\n",
    "from sklearn.metrics import mean_absolute_error\n",
    "\n",
    "model = DecisionTreeRegressor()\n",
    "model.fit(train_x, train_y)\n",
    "predictions = model.predict(val_x)\n",
    "\n",
    "d_max_accuracy = 100 - (100 * (mean_absolute_error(predictions, val_y)))\n",
    "print(\"Accuracy: \" + str(d_max_accuracy))"
   ]
  },
  {
   "cell_type": "code",
   "execution_count": 12,
   "id": "f340f04c",
   "metadata": {
    "execution": {
     "iopub.execute_input": "2023-04-23T17:10:53.804048Z",
     "iopub.status.busy": "2023-04-23T17:10:53.803628Z",
     "iopub.status.idle": "2023-04-23T17:10:53.982715Z",
     "shell.execute_reply": "2023-04-23T17:10:53.981219Z"
    },
    "papermill": {
     "duration": 0.188938,
     "end_time": "2023-04-23T17:10:53.985900",
     "exception": false,
     "start_time": "2023-04-23T17:10:53.796962",
     "status": "completed"
    },
    "tags": []
   },
   "outputs": [
    {
     "name": "stdout",
     "output_type": "stream",
     "text": [
      "Your submission was successfully saved!\n"
     ]
    }
   ],
   "source": [
    "model.fit(train_x, train_y)\n",
    "predictions = model.predict(test)\n",
    "\n",
    "train[train['prognosis'] == 0] = 'Lyme_disease'\n",
    "train[train['prognosis'] == 1] = 'Tungiasis'\n",
    "train[train['prognosis'] == 2] = 'Zika'\n",
    "train[train['prognosis'] == 3] = 'Rift_Valley_fever'\n",
    "train[train['prognosis'] == 4] = 'West_Nile_fever'\n",
    "train[train['prognosis'] == 5] = 'Malaria'\n",
    "train[train['prognosis'] == 6] = 'Chikungunya'\n",
    "train[train['prognosis'] == 7] = 'Plague'\n",
    "train[train['prognosis'] == 8] = 'Dengue'\n",
    "train[train['prognosis'] == 9] = 'Yellow_Fever'\n",
    "train[train['prognosis'] == 10] = 'Japanese_encephalitis'\n",
    "\n",
    "output = pd.DataFrame({'id': test.id, 'prognosis': predictions})\n",
    "output.to_csv('submission.csv', index = False)\n",
    "print('Your submission was successfully saved!')"
   ]
  }
 ],
 "metadata": {
  "kernelspec": {
   "display_name": "Python 3",
   "language": "python",
   "name": "python3"
  },
  "language_info": {
   "codemirror_mode": {
    "name": "ipython",
    "version": 3
   },
   "file_extension": ".py",
   "mimetype": "text/x-python",
   "name": "python",
   "nbconvert_exporter": "python",
   "pygments_lexer": "ipython3",
   "version": "3.7.12"
  },
  "papermill": {
   "default_parameters": {},
   "duration": 15.189672,
   "end_time": "2023-04-23T17:10:54.916639",
   "environment_variables": {},
   "exception": null,
   "input_path": "__notebook__.ipynb",
   "output_path": "__notebook__.ipynb",
   "parameters": {},
   "start_time": "2023-04-23T17:10:39.726967",
   "version": "2.4.0"
  }
 },
 "nbformat": 4,
 "nbformat_minor": 5
}
