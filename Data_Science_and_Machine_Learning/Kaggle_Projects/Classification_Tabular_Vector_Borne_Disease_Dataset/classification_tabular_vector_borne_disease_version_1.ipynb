{
 "cells": [
  {
   "cell_type": "code",
   "execution_count": 1,
   "id": "35797be8",
   "metadata": {
    "_cell_guid": "b1076dfc-b9ad-4769-8c92-a6c4dae69d19",
    "_uuid": "8f2839f25d086af736a60e9eeb907d3b93b6e0e5",
    "execution": {
     "iopub.execute_input": "2023-04-22T22:17:08.913072Z",
     "iopub.status.busy": "2023-04-22T22:17:08.912688Z",
     "iopub.status.idle": "2023-04-22T22:17:08.926419Z",
     "shell.execute_reply": "2023-04-22T22:17:08.924831Z"
    },
    "papermill": {
     "duration": 0.022901,
     "end_time": "2023-04-22T22:17:08.928746",
     "exception": false,
     "start_time": "2023-04-22T22:17:08.905845",
     "status": "completed"
    },
    "tags": []
   },
   "outputs": [
    {
     "name": "stdout",
     "output_type": "stream",
     "text": [
      "/kaggle/input/playground-series-s3e13/sample_submission.csv\n",
      "/kaggle/input/playground-series-s3e13/train.csv\n",
      "/kaggle/input/playground-series-s3e13/test.csv\n"
     ]
    }
   ],
   "source": [
    "# This Python 3 environment comes with many helpful analytics libraries installed\n",
    "# It is defined by the kaggle/python Docker image: https://github.com/kaggle/docker-python\n",
    "# For example, here's several helpful packages to load\n",
    "\n",
    "import numpy as np # linear algebra\n",
    "import pandas as pd # data processing, CSV file I/O (e.g. pd.read_csv)\n",
    "\n",
    "# Input data files are available in the read-only \"../input/\" directory\n",
    "# For example, running this (by clicking run or pressing Shift+Enter) will list all files under the input directory\n",
    "\n",
    "import os\n",
    "for dirname, _, filenames in os.walk('/kaggle/input'):\n",
    "    for filename in filenames:\n",
    "        print(os.path.join(dirname, filename))\n",
    "\n",
    "# You can write up to 20GB to the current directory (/kaggle/working/) that gets preserved as output when you create a version using \"Save & Run All\" \n",
    "# You can also write temporary files to /kaggle/temp/, but they won't be saved outside of the current session"
   ]
  },
  {
   "cell_type": "code",
   "execution_count": 2,
   "id": "74af731d",
   "metadata": {
    "execution": {
     "iopub.execute_input": "2023-04-22T22:17:08.937981Z",
     "iopub.status.busy": "2023-04-22T22:17:08.937651Z",
     "iopub.status.idle": "2023-04-22T22:17:08.973022Z",
     "shell.execute_reply": "2023-04-22T22:17:08.971927Z"
    },
    "papermill": {
     "duration": 0.04315,
     "end_time": "2023-04-22T22:17:08.975956",
     "exception": false,
     "start_time": "2023-04-22T22:17:08.932806",
     "status": "completed"
    },
    "tags": []
   },
   "outputs": [],
   "source": [
    "train = pd.read_csv('/kaggle/input/playground-series-s3e13/train.csv')\n",
    "test = pd.read_csv('/kaggle/input/playground-series-s3e13/test.csv')"
   ]
  },
  {
   "cell_type": "code",
   "execution_count": 3,
   "id": "fc5b8d17",
   "metadata": {
    "execution": {
     "iopub.execute_input": "2023-04-22T22:17:08.985998Z",
     "iopub.status.busy": "2023-04-22T22:17:08.985020Z",
     "iopub.status.idle": "2023-04-22T22:17:09.032630Z",
     "shell.execute_reply": "2023-04-22T22:17:09.031459Z"
    },
    "papermill": {
     "duration": 0.055387,
     "end_time": "2023-04-22T22:17:09.035375",
     "exception": false,
     "start_time": "2023-04-22T22:17:08.979988",
     "status": "completed"
    },
    "tags": []
   },
   "outputs": [
    {
     "data": {
      "text/html": [
       "<div>\n",
       "<style scoped>\n",
       "    .dataframe tbody tr th:only-of-type {\n",
       "        vertical-align: middle;\n",
       "    }\n",
       "\n",
       "    .dataframe tbody tr th {\n",
       "        vertical-align: top;\n",
       "    }\n",
       "\n",
       "    .dataframe thead th {\n",
       "        text-align: right;\n",
       "    }\n",
       "</style>\n",
       "<table border=\"1\" class=\"dataframe\">\n",
       "  <thead>\n",
       "    <tr style=\"text-align: right;\">\n",
       "      <th></th>\n",
       "      <th>id</th>\n",
       "      <th>sudden_fever</th>\n",
       "      <th>headache</th>\n",
       "      <th>mouth_bleed</th>\n",
       "      <th>nose_bleed</th>\n",
       "      <th>muscle_pain</th>\n",
       "      <th>joint_pain</th>\n",
       "      <th>vomiting</th>\n",
       "      <th>rash</th>\n",
       "      <th>diarrhea</th>\n",
       "      <th>...</th>\n",
       "      <th>breathing_restriction</th>\n",
       "      <th>toe_inflammation</th>\n",
       "      <th>finger_inflammation</th>\n",
       "      <th>lips_irritation</th>\n",
       "      <th>itchiness</th>\n",
       "      <th>ulcers</th>\n",
       "      <th>toenail_loss</th>\n",
       "      <th>speech_problem</th>\n",
       "      <th>bullseye_rash</th>\n",
       "      <th>prognosis</th>\n",
       "    </tr>\n",
       "  </thead>\n",
       "  <tbody>\n",
       "    <tr>\n",
       "      <th>0</th>\n",
       "      <td>0</td>\n",
       "      <td>1.0</td>\n",
       "      <td>1.0</td>\n",
       "      <td>0.0</td>\n",
       "      <td>1.0</td>\n",
       "      <td>1.0</td>\n",
       "      <td>1.0</td>\n",
       "      <td>1.0</td>\n",
       "      <td>0.0</td>\n",
       "      <td>1.0</td>\n",
       "      <td>...</td>\n",
       "      <td>0.0</td>\n",
       "      <td>0.0</td>\n",
       "      <td>0.0</td>\n",
       "      <td>0.0</td>\n",
       "      <td>0.0</td>\n",
       "      <td>0.0</td>\n",
       "      <td>0.0</td>\n",
       "      <td>0.0</td>\n",
       "      <td>0.0</td>\n",
       "      <td>Lyme_disease</td>\n",
       "    </tr>\n",
       "    <tr>\n",
       "      <th>1</th>\n",
       "      <td>1</td>\n",
       "      <td>0.0</td>\n",
       "      <td>0.0</td>\n",
       "      <td>0.0</td>\n",
       "      <td>0.0</td>\n",
       "      <td>0.0</td>\n",
       "      <td>0.0</td>\n",
       "      <td>1.0</td>\n",
       "      <td>0.0</td>\n",
       "      <td>1.0</td>\n",
       "      <td>...</td>\n",
       "      <td>0.0</td>\n",
       "      <td>0.0</td>\n",
       "      <td>0.0</td>\n",
       "      <td>0.0</td>\n",
       "      <td>0.0</td>\n",
       "      <td>0.0</td>\n",
       "      <td>0.0</td>\n",
       "      <td>0.0</td>\n",
       "      <td>0.0</td>\n",
       "      <td>Tungiasis</td>\n",
       "    </tr>\n",
       "    <tr>\n",
       "      <th>2</th>\n",
       "      <td>2</td>\n",
       "      <td>0.0</td>\n",
       "      <td>1.0</td>\n",
       "      <td>1.0</td>\n",
       "      <td>1.0</td>\n",
       "      <td>0.0</td>\n",
       "      <td>1.0</td>\n",
       "      <td>1.0</td>\n",
       "      <td>1.0</td>\n",
       "      <td>1.0</td>\n",
       "      <td>...</td>\n",
       "      <td>1.0</td>\n",
       "      <td>1.0</td>\n",
       "      <td>1.0</td>\n",
       "      <td>1.0</td>\n",
       "      <td>1.0</td>\n",
       "      <td>0.0</td>\n",
       "      <td>1.0</td>\n",
       "      <td>1.0</td>\n",
       "      <td>1.0</td>\n",
       "      <td>Lyme_disease</td>\n",
       "    </tr>\n",
       "    <tr>\n",
       "      <th>3</th>\n",
       "      <td>3</td>\n",
       "      <td>0.0</td>\n",
       "      <td>0.0</td>\n",
       "      <td>1.0</td>\n",
       "      <td>1.0</td>\n",
       "      <td>1.0</td>\n",
       "      <td>1.0</td>\n",
       "      <td>0.0</td>\n",
       "      <td>1.0</td>\n",
       "      <td>0.0</td>\n",
       "      <td>...</td>\n",
       "      <td>0.0</td>\n",
       "      <td>0.0</td>\n",
       "      <td>0.0</td>\n",
       "      <td>0.0</td>\n",
       "      <td>0.0</td>\n",
       "      <td>0.0</td>\n",
       "      <td>0.0</td>\n",
       "      <td>0.0</td>\n",
       "      <td>0.0</td>\n",
       "      <td>Zika</td>\n",
       "    </tr>\n",
       "    <tr>\n",
       "      <th>4</th>\n",
       "      <td>4</td>\n",
       "      <td>0.0</td>\n",
       "      <td>0.0</td>\n",
       "      <td>0.0</td>\n",
       "      <td>0.0</td>\n",
       "      <td>0.0</td>\n",
       "      <td>0.0</td>\n",
       "      <td>0.0</td>\n",
       "      <td>0.0</td>\n",
       "      <td>1.0</td>\n",
       "      <td>...</td>\n",
       "      <td>0.0</td>\n",
       "      <td>1.0</td>\n",
       "      <td>0.0</td>\n",
       "      <td>0.0</td>\n",
       "      <td>1.0</td>\n",
       "      <td>1.0</td>\n",
       "      <td>1.0</td>\n",
       "      <td>0.0</td>\n",
       "      <td>0.0</td>\n",
       "      <td>Rift_Valley_fever</td>\n",
       "    </tr>\n",
       "  </tbody>\n",
       "</table>\n",
       "<p>5 rows × 66 columns</p>\n",
       "</div>"
      ],
      "text/plain": [
       "   id  sudden_fever  headache  mouth_bleed  nose_bleed  muscle_pain  \\\n",
       "0   0           1.0       1.0          0.0         1.0          1.0   \n",
       "1   1           0.0       0.0          0.0         0.0          0.0   \n",
       "2   2           0.0       1.0          1.0         1.0          0.0   \n",
       "3   3           0.0       0.0          1.0         1.0          1.0   \n",
       "4   4           0.0       0.0          0.0         0.0          0.0   \n",
       "\n",
       "   joint_pain  vomiting  rash  diarrhea  ...  breathing_restriction  \\\n",
       "0         1.0       1.0   0.0       1.0  ...                    0.0   \n",
       "1         0.0       1.0   0.0       1.0  ...                    0.0   \n",
       "2         1.0       1.0   1.0       1.0  ...                    1.0   \n",
       "3         1.0       0.0   1.0       0.0  ...                    0.0   \n",
       "4         0.0       0.0   0.0       1.0  ...                    0.0   \n",
       "\n",
       "   toe_inflammation  finger_inflammation  lips_irritation  itchiness  ulcers  \\\n",
       "0               0.0                  0.0              0.0        0.0     0.0   \n",
       "1               0.0                  0.0              0.0        0.0     0.0   \n",
       "2               1.0                  1.0              1.0        1.0     0.0   \n",
       "3               0.0                  0.0              0.0        0.0     0.0   \n",
       "4               1.0                  0.0              0.0        1.0     1.0   \n",
       "\n",
       "   toenail_loss  speech_problem  bullseye_rash          prognosis  \n",
       "0           0.0             0.0            0.0       Lyme_disease  \n",
       "1           0.0             0.0            0.0          Tungiasis  \n",
       "2           1.0             1.0            1.0       Lyme_disease  \n",
       "3           0.0             0.0            0.0               Zika  \n",
       "4           1.0             0.0            0.0  Rift_Valley_fever  \n",
       "\n",
       "[5 rows x 66 columns]"
      ]
     },
     "execution_count": 3,
     "metadata": {},
     "output_type": "execute_result"
    }
   ],
   "source": [
    "train.head()"
   ]
  },
  {
   "cell_type": "code",
   "execution_count": 4,
   "id": "6cdbef4b",
   "metadata": {
    "execution": {
     "iopub.execute_input": "2023-04-22T22:17:09.045437Z",
     "iopub.status.busy": "2023-04-22T22:17:09.044722Z",
     "iopub.status.idle": "2023-04-22T22:17:09.075131Z",
     "shell.execute_reply": "2023-04-22T22:17:09.074302Z"
    },
    "papermill": {
     "duration": 0.037735,
     "end_time": "2023-04-22T22:17:09.077289",
     "exception": false,
     "start_time": "2023-04-22T22:17:09.039554",
     "status": "completed"
    },
    "tags": []
   },
   "outputs": [
    {
     "data": {
      "text/html": [
       "<div>\n",
       "<style scoped>\n",
       "    .dataframe tbody tr th:only-of-type {\n",
       "        vertical-align: middle;\n",
       "    }\n",
       "\n",
       "    .dataframe tbody tr th {\n",
       "        vertical-align: top;\n",
       "    }\n",
       "\n",
       "    .dataframe thead th {\n",
       "        text-align: right;\n",
       "    }\n",
       "</style>\n",
       "<table border=\"1\" class=\"dataframe\">\n",
       "  <thead>\n",
       "    <tr style=\"text-align: right;\">\n",
       "      <th></th>\n",
       "      <th>id</th>\n",
       "      <th>sudden_fever</th>\n",
       "      <th>headache</th>\n",
       "      <th>mouth_bleed</th>\n",
       "      <th>nose_bleed</th>\n",
       "      <th>muscle_pain</th>\n",
       "      <th>joint_pain</th>\n",
       "      <th>vomiting</th>\n",
       "      <th>rash</th>\n",
       "      <th>diarrhea</th>\n",
       "      <th>...</th>\n",
       "      <th>lymph_swells</th>\n",
       "      <th>breathing_restriction</th>\n",
       "      <th>toe_inflammation</th>\n",
       "      <th>finger_inflammation</th>\n",
       "      <th>lips_irritation</th>\n",
       "      <th>itchiness</th>\n",
       "      <th>ulcers</th>\n",
       "      <th>toenail_loss</th>\n",
       "      <th>speech_problem</th>\n",
       "      <th>bullseye_rash</th>\n",
       "    </tr>\n",
       "  </thead>\n",
       "  <tbody>\n",
       "    <tr>\n",
       "      <th>0</th>\n",
       "      <td>707</td>\n",
       "      <td>0.0</td>\n",
       "      <td>0.0</td>\n",
       "      <td>0.0</td>\n",
       "      <td>0.0</td>\n",
       "      <td>0.0</td>\n",
       "      <td>0.0</td>\n",
       "      <td>0.0</td>\n",
       "      <td>0.0</td>\n",
       "      <td>0.0</td>\n",
       "      <td>...</td>\n",
       "      <td>0.0</td>\n",
       "      <td>0.0</td>\n",
       "      <td>0.0</td>\n",
       "      <td>0.0</td>\n",
       "      <td>0.0</td>\n",
       "      <td>0.0</td>\n",
       "      <td>0.0</td>\n",
       "      <td>0.0</td>\n",
       "      <td>0.0</td>\n",
       "      <td>0.0</td>\n",
       "    </tr>\n",
       "    <tr>\n",
       "      <th>1</th>\n",
       "      <td>708</td>\n",
       "      <td>1.0</td>\n",
       "      <td>1.0</td>\n",
       "      <td>0.0</td>\n",
       "      <td>1.0</td>\n",
       "      <td>0.0</td>\n",
       "      <td>1.0</td>\n",
       "      <td>1.0</td>\n",
       "      <td>1.0</td>\n",
       "      <td>1.0</td>\n",
       "      <td>...</td>\n",
       "      <td>0.0</td>\n",
       "      <td>0.0</td>\n",
       "      <td>0.0</td>\n",
       "      <td>0.0</td>\n",
       "      <td>0.0</td>\n",
       "      <td>0.0</td>\n",
       "      <td>0.0</td>\n",
       "      <td>0.0</td>\n",
       "      <td>0.0</td>\n",
       "      <td>0.0</td>\n",
       "    </tr>\n",
       "    <tr>\n",
       "      <th>2</th>\n",
       "      <td>709</td>\n",
       "      <td>1.0</td>\n",
       "      <td>1.0</td>\n",
       "      <td>0.0</td>\n",
       "      <td>1.0</td>\n",
       "      <td>1.0</td>\n",
       "      <td>1.0</td>\n",
       "      <td>1.0</td>\n",
       "      <td>0.0</td>\n",
       "      <td>1.0</td>\n",
       "      <td>...</td>\n",
       "      <td>0.0</td>\n",
       "      <td>0.0</td>\n",
       "      <td>0.0</td>\n",
       "      <td>0.0</td>\n",
       "      <td>0.0</td>\n",
       "      <td>1.0</td>\n",
       "      <td>0.0</td>\n",
       "      <td>0.0</td>\n",
       "      <td>0.0</td>\n",
       "      <td>0.0</td>\n",
       "    </tr>\n",
       "    <tr>\n",
       "      <th>3</th>\n",
       "      <td>710</td>\n",
       "      <td>0.0</td>\n",
       "      <td>1.0</td>\n",
       "      <td>0.0</td>\n",
       "      <td>0.0</td>\n",
       "      <td>0.0</td>\n",
       "      <td>1.0</td>\n",
       "      <td>1.0</td>\n",
       "      <td>1.0</td>\n",
       "      <td>0.0</td>\n",
       "      <td>...</td>\n",
       "      <td>0.0</td>\n",
       "      <td>0.0</td>\n",
       "      <td>0.0</td>\n",
       "      <td>0.0</td>\n",
       "      <td>0.0</td>\n",
       "      <td>0.0</td>\n",
       "      <td>0.0</td>\n",
       "      <td>0.0</td>\n",
       "      <td>0.0</td>\n",
       "      <td>0.0</td>\n",
       "    </tr>\n",
       "    <tr>\n",
       "      <th>4</th>\n",
       "      <td>711</td>\n",
       "      <td>0.0</td>\n",
       "      <td>0.0</td>\n",
       "      <td>1.0</td>\n",
       "      <td>0.0</td>\n",
       "      <td>1.0</td>\n",
       "      <td>1.0</td>\n",
       "      <td>0.0</td>\n",
       "      <td>0.0</td>\n",
       "      <td>1.0</td>\n",
       "      <td>...</td>\n",
       "      <td>0.0</td>\n",
       "      <td>0.0</td>\n",
       "      <td>0.0</td>\n",
       "      <td>0.0</td>\n",
       "      <td>0.0</td>\n",
       "      <td>0.0</td>\n",
       "      <td>0.0</td>\n",
       "      <td>0.0</td>\n",
       "      <td>0.0</td>\n",
       "      <td>0.0</td>\n",
       "    </tr>\n",
       "  </tbody>\n",
       "</table>\n",
       "<p>5 rows × 65 columns</p>\n",
       "</div>"
      ],
      "text/plain": [
       "    id  sudden_fever  headache  mouth_bleed  nose_bleed  muscle_pain  \\\n",
       "0  707           0.0       0.0          0.0         0.0          0.0   \n",
       "1  708           1.0       1.0          0.0         1.0          0.0   \n",
       "2  709           1.0       1.0          0.0         1.0          1.0   \n",
       "3  710           0.0       1.0          0.0         0.0          0.0   \n",
       "4  711           0.0       0.0          1.0         0.0          1.0   \n",
       "\n",
       "   joint_pain  vomiting  rash  diarrhea  ...  lymph_swells  \\\n",
       "0         0.0       0.0   0.0       0.0  ...           0.0   \n",
       "1         1.0       1.0   1.0       1.0  ...           0.0   \n",
       "2         1.0       1.0   0.0       1.0  ...           0.0   \n",
       "3         1.0       1.0   1.0       0.0  ...           0.0   \n",
       "4         1.0       0.0   0.0       1.0  ...           0.0   \n",
       "\n",
       "   breathing_restriction  toe_inflammation  finger_inflammation  \\\n",
       "0                    0.0               0.0                  0.0   \n",
       "1                    0.0               0.0                  0.0   \n",
       "2                    0.0               0.0                  0.0   \n",
       "3                    0.0               0.0                  0.0   \n",
       "4                    0.0               0.0                  0.0   \n",
       "\n",
       "   lips_irritation  itchiness  ulcers  toenail_loss  speech_problem  \\\n",
       "0              0.0        0.0     0.0           0.0             0.0   \n",
       "1              0.0        0.0     0.0           0.0             0.0   \n",
       "2              0.0        1.0     0.0           0.0             0.0   \n",
       "3              0.0        0.0     0.0           0.0             0.0   \n",
       "4              0.0        0.0     0.0           0.0             0.0   \n",
       "\n",
       "   bullseye_rash  \n",
       "0            0.0  \n",
       "1            0.0  \n",
       "2            0.0  \n",
       "3            0.0  \n",
       "4            0.0  \n",
       "\n",
       "[5 rows x 65 columns]"
      ]
     },
     "execution_count": 4,
     "metadata": {},
     "output_type": "execute_result"
    }
   ],
   "source": [
    "test.head()"
   ]
  },
  {
   "cell_type": "code",
   "execution_count": 5,
   "id": "a612702e",
   "metadata": {
    "execution": {
     "iopub.execute_input": "2023-04-22T22:17:09.087674Z",
     "iopub.status.busy": "2023-04-22T22:17:09.087324Z",
     "iopub.status.idle": "2023-04-22T22:17:09.098808Z",
     "shell.execute_reply": "2023-04-22T22:17:09.097714Z"
    },
    "papermill": {
     "duration": 0.019509,
     "end_time": "2023-04-22T22:17:09.101297",
     "exception": false,
     "start_time": "2023-04-22T22:17:09.081788",
     "status": "completed"
    },
    "tags": []
   },
   "outputs": [
    {
     "data": {
      "text/plain": [
       "array(['Lyme_disease', 'Tungiasis', 'Zika', 'Rift_Valley_fever',\n",
       "       'West_Nile_fever', 'Malaria', 'Chikungunya', 'Plague', 'Dengue',\n",
       "       'Yellow_Fever', 'Japanese_encephalitis'], dtype=object)"
      ]
     },
     "execution_count": 5,
     "metadata": {},
     "output_type": "execute_result"
    }
   ],
   "source": [
    "train['prognosis'].unique()"
   ]
  },
  {
   "cell_type": "code",
   "execution_count": 6,
   "id": "9e772273",
   "metadata": {
    "execution": {
     "iopub.execute_input": "2023-04-22T22:17:09.111911Z",
     "iopub.status.busy": "2023-04-22T22:17:09.111534Z",
     "iopub.status.idle": "2023-04-22T22:17:09.251506Z",
     "shell.execute_reply": "2023-04-22T22:17:09.250583Z"
    },
    "papermill": {
     "duration": 0.147937,
     "end_time": "2023-04-22T22:17:09.253855",
     "exception": false,
     "start_time": "2023-04-22T22:17:09.105918",
     "status": "completed"
    },
    "tags": []
   },
   "outputs": [],
   "source": [
    "train[train['prognosis'] == 'Lyme_disease'] = 0\n",
    "train[train['prognosis'] == 'Tungiasis'] = 1\n",
    "train[train['prognosis'] == 'Zika'] = 2\n",
    "train[train['prognosis'] == 'Rift_Valley_fever'] = 3\n",
    "train[train['prognosis'] == 'West_Nile_fever'] = 4\n",
    "train[train['prognosis'] == 'Malaria'] = 5\n",
    "train[train['prognosis'] == 'Chikungunya'] = 6\n",
    "train[train['prognosis'] == 'Plague'] = 7\n",
    "train[train['prognosis'] == 'Dengue'] = 8\n",
    "train[train['prognosis'] == 'Yellow_Fever'] = 9\n",
    "train[train['prognosis'] == 'Japanese_encephalitis'] = 10"
   ]
  },
  {
   "cell_type": "code",
   "execution_count": 7,
   "id": "5c6965e8",
   "metadata": {
    "execution": {
     "iopub.execute_input": "2023-04-22T22:17:09.263978Z",
     "iopub.status.busy": "2023-04-22T22:17:09.263647Z",
     "iopub.status.idle": "2023-04-22T22:17:09.271925Z",
     "shell.execute_reply": "2023-04-22T22:17:09.270913Z"
    },
    "papermill": {
     "duration": 0.015958,
     "end_time": "2023-04-22T22:17:09.274304",
     "exception": false,
     "start_time": "2023-04-22T22:17:09.258346",
     "status": "completed"
    },
    "tags": []
   },
   "outputs": [
    {
     "data": {
      "text/plain": [
       "id                  int64\n",
       "sudden_fever      float64\n",
       "headache          float64\n",
       "mouth_bleed       float64\n",
       "nose_bleed        float64\n",
       "                   ...   \n",
       "ulcers            float64\n",
       "toenail_loss      float64\n",
       "speech_problem    float64\n",
       "bullseye_rash     float64\n",
       "prognosis          object\n",
       "Length: 66, dtype: object"
      ]
     },
     "execution_count": 7,
     "metadata": {},
     "output_type": "execute_result"
    }
   ],
   "source": [
    "train.dtypes"
   ]
  },
  {
   "cell_type": "code",
   "execution_count": 8,
   "id": "75ae63d5",
   "metadata": {
    "execution": {
     "iopub.execute_input": "2023-04-22T22:17:09.284628Z",
     "iopub.status.busy": "2023-04-22T22:17:09.284298Z",
     "iopub.status.idle": "2023-04-22T22:17:09.289674Z",
     "shell.execute_reply": "2023-04-22T22:17:09.288874Z"
    },
    "papermill": {
     "duration": 0.012825,
     "end_time": "2023-04-22T22:17:09.291666",
     "exception": false,
     "start_time": "2023-04-22T22:17:09.278841",
     "status": "completed"
    },
    "tags": []
   },
   "outputs": [],
   "source": [
    "train['prognosis'] = train['prognosis'].astype(str).astype(int)"
   ]
  },
  {
   "cell_type": "code",
   "execution_count": 9,
   "id": "776174f2",
   "metadata": {
    "execution": {
     "iopub.execute_input": "2023-04-22T22:17:09.302038Z",
     "iopub.status.busy": "2023-04-22T22:17:09.301680Z",
     "iopub.status.idle": "2023-04-22T22:17:09.309455Z",
     "shell.execute_reply": "2023-04-22T22:17:09.308642Z"
    },
    "papermill": {
     "duration": 0.015305,
     "end_time": "2023-04-22T22:17:09.311428",
     "exception": false,
     "start_time": "2023-04-22T22:17:09.296123",
     "status": "completed"
    },
    "tags": []
   },
   "outputs": [],
   "source": [
    "X = train.drop('prognosis', axis = 1)\n",
    "\n",
    "y = train['prognosis']"
   ]
  },
  {
   "cell_type": "code",
   "execution_count": 10,
   "id": "0ef7af14",
   "metadata": {
    "execution": {
     "iopub.execute_input": "2023-04-22T22:17:09.321721Z",
     "iopub.status.busy": "2023-04-22T22:17:09.321389Z",
     "iopub.status.idle": "2023-04-22T22:17:10.310652Z",
     "shell.execute_reply": "2023-04-22T22:17:10.309502Z"
    },
    "papermill": {
     "duration": 0.997631,
     "end_time": "2023-04-22T22:17:10.313486",
     "exception": false,
     "start_time": "2023-04-22T22:17:09.315855",
     "status": "completed"
    },
    "tags": []
   },
   "outputs": [],
   "source": [
    "from sklearn.model_selection import train_test_split\n",
    "train_x, val_x, train_y, val_y = train_test_split(X, y)"
   ]
  },
  {
   "cell_type": "code",
   "execution_count": 11,
   "id": "322abfc6",
   "metadata": {
    "execution": {
     "iopub.execute_input": "2023-04-22T22:17:10.327271Z",
     "iopub.status.busy": "2023-04-22T22:17:10.326856Z",
     "iopub.status.idle": "2023-04-22T22:17:12.172614Z",
     "shell.execute_reply": "2023-04-22T22:17:12.171019Z"
    },
    "papermill": {
     "duration": 1.854848,
     "end_time": "2023-04-22T22:17:12.175385",
     "exception": false,
     "start_time": "2023-04-22T22:17:10.320537",
     "status": "completed"
    },
    "tags": []
   },
   "outputs": [
    {
     "name": "stdout",
     "output_type": "stream",
     "text": [
      "100.0\n",
      "1\n",
      "7\n"
     ]
    }
   ],
   "source": [
    "from sklearn.ensemble import RandomForestClassifier\n",
    "from sklearn.metrics import mean_absolute_error\n",
    "\n",
    "r_max_accuracy = 0\n",
    "r_mn = 0\n",
    "r_md = 0\n",
    "\n",
    "for n in range(1, 11):\n",
    "    for d in range(1, 11):        \n",
    "        model = RandomForestClassifier(n_estimators = n, max_depth = d, random_state = 1)\n",
    "        model.fit(train_x, train_y)\n",
    "        predictions = model.predict(val_x)\n",
    "        \n",
    "        accuracy = 100 - (100 * (mean_absolute_error(predictions, val_y)))\n",
    "        \n",
    "        if accuracy > r_max_accuracy:\n",
    "            r_max_accuracy = accuracy\n",
    "            r_mn = n\n",
    "            r_md = d\n",
    "\n",
    "model = RandomForestClassifier(n_estimators = r_mn, max_depth = r_md + 0.5, random_state = 1)\n",
    "model.fit(train_x, train_y)\n",
    "predictions = model.predict(val_x)\n",
    "\n",
    "accuracy = 100 - (100 * (mean_absolute_error(predictions, val_y)))\n",
    "\n",
    "if accuracy > r_max_accuracy:\n",
    "    r_max_accuracy = accuracy\n",
    "    r_mn = n\n",
    "    r_md = d\n",
    "\n",
    "print(r_max_accuracy)\n",
    "print(r_mn)\n",
    "print(r_md)"
   ]
  },
  {
   "cell_type": "code",
   "execution_count": 12,
   "id": "94d86c99",
   "metadata": {
    "execution": {
     "iopub.execute_input": "2023-04-22T22:17:12.186547Z",
     "iopub.status.busy": "2023-04-22T22:17:12.186154Z",
     "iopub.status.idle": "2023-04-22T22:17:12.362437Z",
     "shell.execute_reply": "2023-04-22T22:17:12.361511Z"
    },
    "papermill": {
     "duration": 0.184793,
     "end_time": "2023-04-22T22:17:12.364966",
     "exception": false,
     "start_time": "2023-04-22T22:17:12.180173",
     "status": "completed"
    },
    "tags": []
   },
   "outputs": [
    {
     "name": "stdout",
     "output_type": "stream",
     "text": [
      "Your submission was successfully saved!\n"
     ]
    }
   ],
   "source": [
    "model.fit(train_x, train_y)\n",
    "predictions = model.predict(test)\n",
    "\n",
    "train[train['prognosis'] == 0] = 'Lyme_disease'\n",
    "train[train['prognosis'] == 1] = 'Tungiasis'\n",
    "train[train['prognosis'] == 2] = 'Zika'\n",
    "train[train['prognosis'] == 3] = 'Rift_Valley_fever'\n",
    "train[train['prognosis'] == 4] = 'West_Nile_fever'\n",
    "train[train['prognosis'] == 5] = 'Malaria'\n",
    "train[train['prognosis'] == 6] = 'Chikungunya'\n",
    "train[train['prognosis'] == 7] = 'Plague'\n",
    "train[train['prognosis'] == 8] = 'Dengue'\n",
    "train[train['prognosis'] == 9] = 'Yellow_Fever'\n",
    "train[train['prognosis'] == 10] = 'Japanese_encephalitis'\n",
    "\n",
    "output = pd.DataFrame({'id': test.id, 'prognosis': predictions})\n",
    "output.to_csv('submission.csv', index = False)\n",
    "print('Your submission was successfully saved!')"
   ]
  }
 ],
 "metadata": {
  "kernelspec": {
   "display_name": "Python 3",
   "language": "python",
   "name": "python3"
  },
  "language_info": {
   "codemirror_mode": {
    "name": "ipython",
    "version": 3
   },
   "file_extension": ".py",
   "mimetype": "text/x-python",
   "name": "python",
   "nbconvert_exporter": "python",
   "pygments_lexer": "ipython3",
   "version": "3.7.12"
  },
  "papermill": {
   "default_parameters": {},
   "duration": 14.673349,
   "end_time": "2023-04-22T22:17:13.091427",
   "environment_variables": {},
   "exception": null,
   "input_path": "__notebook__.ipynb",
   "output_path": "__notebook__.ipynb",
   "parameters": {},
   "start_time": "2023-04-22T22:16:58.418078",
   "version": "2.4.0"
  }
 },
 "nbformat": 4,
 "nbformat_minor": 5
}
