{
 "cells": [
  {
   "cell_type": "code",
   "execution_count": 1,
   "id": "cdb2ca48",
   "metadata": {
    "_cell_guid": "b1076dfc-b9ad-4769-8c92-a6c4dae69d19",
    "_uuid": "8f2839f25d086af736a60e9eeb907d3b93b6e0e5",
    "execution": {
     "iopub.execute_input": "2023-05-25T00:00:15.972355Z",
     "iopub.status.busy": "2023-05-25T00:00:15.971841Z",
     "iopub.status.idle": "2023-05-25T00:00:15.988752Z",
     "shell.execute_reply": "2023-05-25T00:00:15.986619Z"
    },
    "papermill": {
     "duration": 0.037087,
     "end_time": "2023-05-25T00:00:15.991724",
     "exception": false,
     "start_time": "2023-05-25T00:00:15.954637",
     "status": "completed"
    },
    "tags": []
   },
   "outputs": [
    {
     "name": "stdout",
     "output_type": "stream",
     "text": [
      "/kaggle/input/playground-series-s3e15/sample_submission.csv\n",
      "/kaggle/input/playground-series-s3e15/data.csv\n"
     ]
    }
   ],
   "source": [
    "# This Python 3 environment comes with many helpful analytics libraries installed\n",
    "# It is defined by the kaggle/python Docker image: https://github.com/kaggle/docker-python\n",
    "# For example, here's several helpful packages to load\n",
    "\n",
    "import numpy as np # linear algebra\n",
    "import pandas as pd # data processing, CSV file I/O (e.g. pd.read_csv)\n",
    "\n",
    "# Input data files are available in the read-only \"../input/\" directory\n",
    "# For example, running this (by clicking run or pressing Shift+Enter) will list all files under the input directory\n",
    "\n",
    "import os\n",
    "for dirname, _, filenames in os.walk('/kaggle/input'):\n",
    "    for filename in filenames:\n",
    "        print(os.path.join(dirname, filename))\n",
    "\n",
    "# You can write up to 20GB to the current directory (/kaggle/working/) that gets preserved as output when you create a version using \"Save & Run All\" \n",
    "# You can also write temporary files to /kaggle/temp/, but they won't be saved outside of the current session"
   ]
  },
  {
   "cell_type": "code",
   "execution_count": 2,
   "id": "74b7668d",
   "metadata": {
    "execution": {
     "iopub.execute_input": "2023-05-25T00:00:16.021019Z",
     "iopub.status.busy": "2023-05-25T00:00:16.020554Z",
     "iopub.status.idle": "2023-05-25T00:00:16.149095Z",
     "shell.execute_reply": "2023-05-25T00:00:16.147898Z"
    },
    "papermill": {
     "duration": 0.146815,
     "end_time": "2023-05-25T00:00:16.152282",
     "exception": false,
     "start_time": "2023-05-25T00:00:16.005467",
     "status": "completed"
    },
    "tags": []
   },
   "outputs": [
    {
     "data": {
      "text/html": [
       "<div>\n",
       "<style scoped>\n",
       "    .dataframe tbody tr th:only-of-type {\n",
       "        vertical-align: middle;\n",
       "    }\n",
       "\n",
       "    .dataframe tbody tr th {\n",
       "        vertical-align: top;\n",
       "    }\n",
       "\n",
       "    .dataframe thead th {\n",
       "        text-align: right;\n",
       "    }\n",
       "</style>\n",
       "<table border=\"1\" class=\"dataframe\">\n",
       "  <thead>\n",
       "    <tr style=\"text-align: right;\">\n",
       "      <th></th>\n",
       "      <th>id</th>\n",
       "      <th>author</th>\n",
       "      <th>geometry</th>\n",
       "      <th>pressure [MPa]</th>\n",
       "      <th>mass_flux [kg/m2-s]</th>\n",
       "      <th>x_e_out [-]</th>\n",
       "      <th>D_e [mm]</th>\n",
       "      <th>D_h [mm]</th>\n",
       "      <th>length [mm]</th>\n",
       "      <th>chf_exp [MW/m2]</th>\n",
       "    </tr>\n",
       "  </thead>\n",
       "  <tbody>\n",
       "    <tr>\n",
       "      <th>0</th>\n",
       "      <td>0</td>\n",
       "      <td>Thompson</td>\n",
       "      <td>tube</td>\n",
       "      <td>7.00</td>\n",
       "      <td>3770.0</td>\n",
       "      <td>0.1754</td>\n",
       "      <td>NaN</td>\n",
       "      <td>10.8</td>\n",
       "      <td>432.0</td>\n",
       "      <td>3.6</td>\n",
       "    </tr>\n",
       "    <tr>\n",
       "      <th>1</th>\n",
       "      <td>1</td>\n",
       "      <td>Thompson</td>\n",
       "      <td>tube</td>\n",
       "      <td>NaN</td>\n",
       "      <td>6049.0</td>\n",
       "      <td>-0.0416</td>\n",
       "      <td>10.3</td>\n",
       "      <td>10.3</td>\n",
       "      <td>762.0</td>\n",
       "      <td>6.2</td>\n",
       "    </tr>\n",
       "    <tr>\n",
       "      <th>2</th>\n",
       "      <td>2</td>\n",
       "      <td>Thompson</td>\n",
       "      <td>NaN</td>\n",
       "      <td>13.79</td>\n",
       "      <td>2034.0</td>\n",
       "      <td>0.0335</td>\n",
       "      <td>7.7</td>\n",
       "      <td>7.7</td>\n",
       "      <td>457.0</td>\n",
       "      <td>2.5</td>\n",
       "    </tr>\n",
       "    <tr>\n",
       "      <th>3</th>\n",
       "      <td>3</td>\n",
       "      <td>Beus</td>\n",
       "      <td>annulus</td>\n",
       "      <td>13.79</td>\n",
       "      <td>3679.0</td>\n",
       "      <td>-0.0279</td>\n",
       "      <td>5.6</td>\n",
       "      <td>15.2</td>\n",
       "      <td>2134.0</td>\n",
       "      <td>3.0</td>\n",
       "    </tr>\n",
       "    <tr>\n",
       "      <th>4</th>\n",
       "      <td>4</td>\n",
       "      <td>NaN</td>\n",
       "      <td>tube</td>\n",
       "      <td>13.79</td>\n",
       "      <td>686.0</td>\n",
       "      <td>NaN</td>\n",
       "      <td>11.1</td>\n",
       "      <td>11.1</td>\n",
       "      <td>457.0</td>\n",
       "      <td>2.8</td>\n",
       "    </tr>\n",
       "  </tbody>\n",
       "</table>\n",
       "</div>"
      ],
      "text/plain": [
       "   id    author geometry  pressure [MPa]  mass_flux [kg/m2-s]  x_e_out [-]  \\\n",
       "0   0  Thompson     tube            7.00               3770.0       0.1754   \n",
       "1   1  Thompson     tube             NaN               6049.0      -0.0416   \n",
       "2   2  Thompson      NaN           13.79               2034.0       0.0335   \n",
       "3   3      Beus  annulus           13.79               3679.0      -0.0279   \n",
       "4   4       NaN     tube           13.79                686.0          NaN   \n",
       "\n",
       "   D_e [mm]  D_h [mm]  length [mm]  chf_exp [MW/m2]  \n",
       "0       NaN      10.8        432.0              3.6  \n",
       "1      10.3      10.3        762.0              6.2  \n",
       "2       7.7       7.7        457.0              2.5  \n",
       "3       5.6      15.2       2134.0              3.0  \n",
       "4      11.1      11.1        457.0              2.8  "
      ]
     },
     "execution_count": 2,
     "metadata": {},
     "output_type": "execute_result"
    }
   ],
   "source": [
    "df = pd.read_csv('/kaggle/input/playground-series-s3e15/data.csv')\n",
    "df.head()"
   ]
  },
  {
   "cell_type": "code",
   "execution_count": 3,
   "id": "5fa9b220",
   "metadata": {
    "execution": {
     "iopub.execute_input": "2023-05-25T00:00:16.181919Z",
     "iopub.status.busy": "2023-05-25T00:00:16.181474Z",
     "iopub.status.idle": "2023-05-25T00:00:16.195273Z",
     "shell.execute_reply": "2023-05-25T00:00:16.193998Z"
    },
    "papermill": {
     "duration": 0.031816,
     "end_time": "2023-05-25T00:00:16.197967",
     "exception": false,
     "start_time": "2023-05-25T00:00:16.166151",
     "status": "completed"
    },
    "tags": []
   },
   "outputs": [
    {
     "data": {
      "text/plain": [
       "array(['Thompson', 'Beus', nan, 'Peskov', 'Janssen', 'Weatherhead',\n",
       "       'Inasaka', 'Williams', 'Mortimore', 'Richenderfer', 'Kossolapov'],\n",
       "      dtype=object)"
      ]
     },
     "execution_count": 3,
     "metadata": {},
     "output_type": "execute_result"
    }
   ],
   "source": [
    "df['author'].unique()"
   ]
  },
  {
   "cell_type": "code",
   "execution_count": 4,
   "id": "dcc6b427",
   "metadata": {
    "execution": {
     "iopub.execute_input": "2023-05-25T00:00:16.229337Z",
     "iopub.status.busy": "2023-05-25T00:00:16.228841Z",
     "iopub.status.idle": "2023-05-25T00:00:16.237650Z",
     "shell.execute_reply": "2023-05-25T00:00:16.236725Z"
    },
    "papermill": {
     "duration": 0.027214,
     "end_time": "2023-05-25T00:00:16.239823",
     "exception": false,
     "start_time": "2023-05-25T00:00:16.212609",
     "status": "completed"
    },
    "tags": []
   },
   "outputs": [],
   "source": [
    "del df['author']"
   ]
  },
  {
   "cell_type": "code",
   "execution_count": 5,
   "id": "fc4cfe95",
   "metadata": {
    "execution": {
     "iopub.execute_input": "2023-05-25T00:00:16.272277Z",
     "iopub.status.busy": "2023-05-25T00:00:16.271079Z",
     "iopub.status.idle": "2023-05-25T00:00:16.280360Z",
     "shell.execute_reply": "2023-05-25T00:00:16.277612Z"
    },
    "papermill": {
     "duration": 0.030364,
     "end_time": "2023-05-25T00:00:16.283904",
     "exception": false,
     "start_time": "2023-05-25T00:00:16.253540",
     "status": "completed"
    },
    "tags": []
   },
   "outputs": [],
   "source": [
    "df.columns = ['id', 'geometry', 'pressure', 'mass_flux', 'x_e_out', 'd_e', 'd_h', 'length', 'chf_exp']"
   ]
  },
  {
   "cell_type": "code",
   "execution_count": 6,
   "id": "29b40028",
   "metadata": {
    "execution": {
     "iopub.execute_input": "2023-05-25T00:00:16.314423Z",
     "iopub.status.busy": "2023-05-25T00:00:16.313734Z",
     "iopub.status.idle": "2023-05-25T00:00:16.334190Z",
     "shell.execute_reply": "2023-05-25T00:00:16.332798Z"
    },
    "papermill": {
     "duration": 0.039114,
     "end_time": "2023-05-25T00:00:16.337053",
     "exception": false,
     "start_time": "2023-05-25T00:00:16.297939",
     "status": "completed"
    },
    "tags": []
   },
   "outputs": [
    {
     "data": {
      "text/html": [
       "<div>\n",
       "<style scoped>\n",
       "    .dataframe tbody tr th:only-of-type {\n",
       "        vertical-align: middle;\n",
       "    }\n",
       "\n",
       "    .dataframe tbody tr th {\n",
       "        vertical-align: top;\n",
       "    }\n",
       "\n",
       "    .dataframe thead th {\n",
       "        text-align: right;\n",
       "    }\n",
       "</style>\n",
       "<table border=\"1\" class=\"dataframe\">\n",
       "  <thead>\n",
       "    <tr style=\"text-align: right;\">\n",
       "      <th></th>\n",
       "      <th>id</th>\n",
       "      <th>geometry</th>\n",
       "      <th>pressure</th>\n",
       "      <th>mass_flux</th>\n",
       "      <th>x_e_out</th>\n",
       "      <th>d_e</th>\n",
       "      <th>d_h</th>\n",
       "      <th>length</th>\n",
       "      <th>chf_exp</th>\n",
       "    </tr>\n",
       "  </thead>\n",
       "  <tbody>\n",
       "    <tr>\n",
       "      <th>0</th>\n",
       "      <td>0</td>\n",
       "      <td>tube</td>\n",
       "      <td>7.00</td>\n",
       "      <td>3770.0</td>\n",
       "      <td>0.1754</td>\n",
       "      <td>NaN</td>\n",
       "      <td>10.8</td>\n",
       "      <td>432.0</td>\n",
       "      <td>3.6</td>\n",
       "    </tr>\n",
       "    <tr>\n",
       "      <th>1</th>\n",
       "      <td>1</td>\n",
       "      <td>tube</td>\n",
       "      <td>NaN</td>\n",
       "      <td>6049.0</td>\n",
       "      <td>-0.0416</td>\n",
       "      <td>10.3</td>\n",
       "      <td>10.3</td>\n",
       "      <td>762.0</td>\n",
       "      <td>6.2</td>\n",
       "    </tr>\n",
       "    <tr>\n",
       "      <th>2</th>\n",
       "      <td>2</td>\n",
       "      <td>NaN</td>\n",
       "      <td>13.79</td>\n",
       "      <td>2034.0</td>\n",
       "      <td>0.0335</td>\n",
       "      <td>7.7</td>\n",
       "      <td>7.7</td>\n",
       "      <td>457.0</td>\n",
       "      <td>2.5</td>\n",
       "    </tr>\n",
       "    <tr>\n",
       "      <th>3</th>\n",
       "      <td>3</td>\n",
       "      <td>annulus</td>\n",
       "      <td>13.79</td>\n",
       "      <td>3679.0</td>\n",
       "      <td>-0.0279</td>\n",
       "      <td>5.6</td>\n",
       "      <td>15.2</td>\n",
       "      <td>2134.0</td>\n",
       "      <td>3.0</td>\n",
       "    </tr>\n",
       "    <tr>\n",
       "      <th>4</th>\n",
       "      <td>4</td>\n",
       "      <td>tube</td>\n",
       "      <td>13.79</td>\n",
       "      <td>686.0</td>\n",
       "      <td>NaN</td>\n",
       "      <td>11.1</td>\n",
       "      <td>11.1</td>\n",
       "      <td>457.0</td>\n",
       "      <td>2.8</td>\n",
       "    </tr>\n",
       "  </tbody>\n",
       "</table>\n",
       "</div>"
      ],
      "text/plain": [
       "   id geometry  pressure  mass_flux  x_e_out   d_e   d_h  length  chf_exp\n",
       "0   0     tube      7.00     3770.0   0.1754   NaN  10.8   432.0      3.6\n",
       "1   1     tube       NaN     6049.0  -0.0416  10.3  10.3   762.0      6.2\n",
       "2   2      NaN     13.79     2034.0   0.0335   7.7   7.7   457.0      2.5\n",
       "3   3  annulus     13.79     3679.0  -0.0279   5.6  15.2  2134.0      3.0\n",
       "4   4     tube     13.79      686.0      NaN  11.1  11.1   457.0      2.8"
      ]
     },
     "execution_count": 6,
     "metadata": {},
     "output_type": "execute_result"
    }
   ],
   "source": [
    "df.head()"
   ]
  },
  {
   "cell_type": "code",
   "execution_count": 7,
   "id": "94ce1625",
   "metadata": {
    "execution": {
     "iopub.execute_input": "2023-05-25T00:00:16.367167Z",
     "iopub.status.busy": "2023-05-25T00:00:16.366718Z",
     "iopub.status.idle": "2023-05-25T00:00:16.377026Z",
     "shell.execute_reply": "2023-05-25T00:00:16.375881Z"
    },
    "papermill": {
     "duration": 0.028444,
     "end_time": "2023-05-25T00:00:16.379409",
     "exception": false,
     "start_time": "2023-05-25T00:00:16.350965",
     "status": "completed"
    },
    "tags": []
   },
   "outputs": [
    {
     "data": {
      "text/plain": [
       "array(['tube', nan, 'annulus', 'plate'], dtype=object)"
      ]
     },
     "execution_count": 7,
     "metadata": {},
     "output_type": "execute_result"
    }
   ],
   "source": [
    "df['geometry'].unique()"
   ]
  },
  {
   "cell_type": "code",
   "execution_count": 8,
   "id": "e853fd99",
   "metadata": {
    "execution": {
     "iopub.execute_input": "2023-05-25T00:00:16.410767Z",
     "iopub.status.busy": "2023-05-25T00:00:16.410276Z",
     "iopub.status.idle": "2023-05-25T00:00:16.438093Z",
     "shell.execute_reply": "2023-05-25T00:00:16.437017Z"
    },
    "papermill": {
     "duration": 0.047156,
     "end_time": "2023-05-25T00:00:16.441084",
     "exception": false,
     "start_time": "2023-05-25T00:00:16.393928",
     "status": "completed"
    },
    "tags": []
   },
   "outputs": [],
   "source": [
    "df[df['geometry'] == 'tube'] = 0\n",
    "df[df['geometry'] == 'annulus'] = 1\n",
    "df[df['geometry'] == 'plate'] = 2"
   ]
  },
  {
   "cell_type": "code",
   "execution_count": 9,
   "id": "229ed142",
   "metadata": {
    "execution": {
     "iopub.execute_input": "2023-05-25T00:00:16.471881Z",
     "iopub.status.busy": "2023-05-25T00:00:16.471379Z",
     "iopub.status.idle": "2023-05-25T00:00:16.480800Z",
     "shell.execute_reply": "2023-05-25T00:00:16.479623Z"
    },
    "papermill": {
     "duration": 0.028038,
     "end_time": "2023-05-25T00:00:16.483248",
     "exception": false,
     "start_time": "2023-05-25T00:00:16.455210",
     "status": "completed"
    },
    "tags": []
   },
   "outputs": [
    {
     "data": {
      "text/plain": [
       "0      0\n",
       "1      0\n",
       "2    NaN\n",
       "3      1\n",
       "4      0\n",
       "Name: geometry, dtype: object"
      ]
     },
     "execution_count": 9,
     "metadata": {},
     "output_type": "execute_result"
    }
   ],
   "source": [
    "df['geometry'].head()"
   ]
  },
  {
   "cell_type": "code",
   "execution_count": 10,
   "id": "37bf722e",
   "metadata": {
    "execution": {
     "iopub.execute_input": "2023-05-25T00:00:16.514720Z",
     "iopub.status.busy": "2023-05-25T00:00:16.513345Z",
     "iopub.status.idle": "2023-05-25T00:00:16.531386Z",
     "shell.execute_reply": "2023-05-25T00:00:16.530223Z"
    },
    "papermill": {
     "duration": 0.036651,
     "end_time": "2023-05-25T00:00:16.534047",
     "exception": false,
     "start_time": "2023-05-25T00:00:16.497396",
     "status": "completed"
    },
    "tags": []
   },
   "outputs": [
    {
     "data": {
      "text/plain": [
       "0    21145\n",
       "1     4381\n",
       "2      618\n",
       "Name: geometry, dtype: int64"
      ]
     },
     "execution_count": 10,
     "metadata": {},
     "output_type": "execute_result"
    }
   ],
   "source": [
    "df['geometry'].value_counts()"
   ]
  },
  {
   "cell_type": "code",
   "execution_count": 11,
   "id": "d281cb46",
   "metadata": {
    "execution": {
     "iopub.execute_input": "2023-05-25T00:00:16.565210Z",
     "iopub.status.busy": "2023-05-25T00:00:16.564283Z",
     "iopub.status.idle": "2023-05-25T00:00:16.595218Z",
     "shell.execute_reply": "2023-05-25T00:00:16.593966Z"
    },
    "papermill": {
     "duration": 0.049574,
     "end_time": "2023-05-25T00:00:16.597929",
     "exception": false,
     "start_time": "2023-05-25T00:00:16.548355",
     "status": "completed"
    },
    "tags": []
   },
   "outputs": [
    {
     "data": {
      "text/plain": [
       "False    31644\n",
       "Name: geometry, dtype: int64"
      ]
     },
     "execution_count": 11,
     "metadata": {},
     "output_type": "execute_result"
    }
   ],
   "source": [
    "df['geometry'].fillna(0, inplace = True)\n",
    "df['geometry'].isnull().value_counts()"
   ]
  },
  {
   "cell_type": "code",
   "execution_count": 12,
   "id": "14c6f067",
   "metadata": {
    "execution": {
     "iopub.execute_input": "2023-05-25T00:00:16.628918Z",
     "iopub.status.busy": "2023-05-25T00:00:16.628471Z",
     "iopub.status.idle": "2023-05-25T00:00:16.640528Z",
     "shell.execute_reply": "2023-05-25T00:00:16.639365Z"
    },
    "papermill": {
     "duration": 0.030449,
     "end_time": "2023-05-25T00:00:16.642841",
     "exception": false,
     "start_time": "2023-05-25T00:00:16.612392",
     "status": "completed"
    },
    "tags": []
   },
   "outputs": [
    {
     "data": {
      "text/plain": [
       "0.00     21145\n",
       "1.00      4381\n",
       "13.79     1527\n",
       "6.89       832\n",
       "2.00       618\n",
       "         ...  \n",
       "6.99         1\n",
       "10.48        1\n",
       "6.94         1\n",
       "6.84         1\n",
       "7.28         1\n",
       "Name: pressure, Length: 107, dtype: int64"
      ]
     },
     "execution_count": 12,
     "metadata": {},
     "output_type": "execute_result"
    }
   ],
   "source": [
    "df['pressure'].value_counts()"
   ]
  },
  {
   "cell_type": "code",
   "execution_count": 13,
   "id": "cf572498",
   "metadata": {
    "execution": {
     "iopub.execute_input": "2023-05-25T00:00:16.674316Z",
     "iopub.status.busy": "2023-05-25T00:00:16.673823Z",
     "iopub.status.idle": "2023-05-25T00:00:16.684312Z",
     "shell.execute_reply": "2023-05-25T00:00:16.683086Z"
    },
    "papermill": {
     "duration": 0.029136,
     "end_time": "2023-05-25T00:00:16.686652",
     "exception": false,
     "start_time": "2023-05-25T00:00:16.657516",
     "status": "completed"
    },
    "tags": []
   },
   "outputs": [
    {
     "data": {
      "text/plain": [
       "False    30844\n",
       "True       800\n",
       "Name: pressure, dtype: int64"
      ]
     },
     "execution_count": 13,
     "metadata": {},
     "output_type": "execute_result"
    }
   ],
   "source": [
    "df['pressure'].isnull().value_counts()"
   ]
  },
  {
   "cell_type": "code",
   "execution_count": 14,
   "id": "be828f4c",
   "metadata": {
    "execution": {
     "iopub.execute_input": "2023-05-25T00:00:16.718978Z",
     "iopub.status.busy": "2023-05-25T00:00:16.718150Z",
     "iopub.status.idle": "2023-05-25T00:00:16.725701Z",
     "shell.execute_reply": "2023-05-25T00:00:16.724177Z"
    },
    "papermill": {
     "duration": 0.026651,
     "end_time": "2023-05-25T00:00:16.728443",
     "exception": false,
     "start_time": "2023-05-25T00:00:16.701792",
     "status": "completed"
    },
    "tags": []
   },
   "outputs": [],
   "source": [
    "df['pressure'].fillna(0.0, inplace = True)"
   ]
  },
  {
   "cell_type": "code",
   "execution_count": 15,
   "id": "21f572b9",
   "metadata": {
    "execution": {
     "iopub.execute_input": "2023-05-25T00:00:16.760973Z",
     "iopub.status.busy": "2023-05-25T00:00:16.760464Z",
     "iopub.status.idle": "2023-05-25T00:00:16.770993Z",
     "shell.execute_reply": "2023-05-25T00:00:16.769788Z"
    },
    "papermill": {
     "duration": 0.029693,
     "end_time": "2023-05-25T00:00:16.773600",
     "exception": false,
     "start_time": "2023-05-25T00:00:16.743907",
     "status": "completed"
    },
    "tags": []
   },
   "outputs": [
    {
     "data": {
      "text/plain": [
       "False    31644\n",
       "Name: pressure, dtype: int64"
      ]
     },
     "execution_count": 15,
     "metadata": {},
     "output_type": "execute_result"
    }
   ],
   "source": [
    "df['pressure'].isnull().value_counts()"
   ]
  },
  {
   "cell_type": "code",
   "execution_count": 16,
   "id": "ef2113b8",
   "metadata": {
    "execution": {
     "iopub.execute_input": "2023-05-25T00:00:16.806354Z",
     "iopub.status.busy": "2023-05-25T00:00:16.805865Z",
     "iopub.status.idle": "2023-05-25T00:00:16.817934Z",
     "shell.execute_reply": "2023-05-25T00:00:16.816976Z"
    },
    "papermill": {
     "duration": 0.031407,
     "end_time": "2023-05-25T00:00:16.820342",
     "exception": false,
     "start_time": "2023-05-25T00:00:16.788935",
     "status": "completed"
    },
    "tags": []
   },
   "outputs": [
    {
     "data": {
      "text/plain": [
       "0.0       21149\n",
       "1.0        4381\n",
       "2.0         618\n",
       "4069.0      171\n",
       "1519.0      108\n",
       "          ...  \n",
       "1817.0        1\n",
       "6512.0        1\n",
       "1250.0        1\n",
       "4200.0        1\n",
       "838.0         1\n",
       "Name: mass_flux, Length: 566, dtype: int64"
      ]
     },
     "execution_count": 16,
     "metadata": {},
     "output_type": "execute_result"
    }
   ],
   "source": [
    "df['mass_flux'].value_counts()"
   ]
  },
  {
   "cell_type": "code",
   "execution_count": 17,
   "id": "42155930",
   "metadata": {
    "execution": {
     "iopub.execute_input": "2023-05-25T00:00:16.852170Z",
     "iopub.status.busy": "2023-05-25T00:00:16.851685Z",
     "iopub.status.idle": "2023-05-25T00:00:16.862015Z",
     "shell.execute_reply": "2023-05-25T00:00:16.860880Z"
    },
    "papermill": {
     "duration": 0.029074,
     "end_time": "2023-05-25T00:00:16.864392",
     "exception": false,
     "start_time": "2023-05-25T00:00:16.835318",
     "status": "completed"
    },
    "tags": []
   },
   "outputs": [
    {
     "data": {
      "text/plain": [
       "False    30797\n",
       "True       847\n",
       "Name: mass_flux, dtype: int64"
      ]
     },
     "execution_count": 17,
     "metadata": {},
     "output_type": "execute_result"
    }
   ],
   "source": [
    "df['mass_flux'].isnull().value_counts()"
   ]
  },
  {
   "cell_type": "code",
   "execution_count": 18,
   "id": "7bdcfdb0",
   "metadata": {
    "execution": {
     "iopub.execute_input": "2023-05-25T00:00:16.898319Z",
     "iopub.status.busy": "2023-05-25T00:00:16.897862Z",
     "iopub.status.idle": "2023-05-25T00:00:16.910057Z",
     "shell.execute_reply": "2023-05-25T00:00:16.908804Z"
    },
    "papermill": {
     "duration": 0.031675,
     "end_time": "2023-05-25T00:00:16.912631",
     "exception": false,
     "start_time": "2023-05-25T00:00:16.880956",
     "status": "completed"
    },
    "tags": []
   },
   "outputs": [
    {
     "data": {
      "text/plain": [
       "False    31644\n",
       "Name: mass_flux, dtype: int64"
      ]
     },
     "execution_count": 18,
     "metadata": {},
     "output_type": "execute_result"
    }
   ],
   "source": [
    "df['mass_flux'].fillna(0.0, inplace = True)\n",
    "df['mass_flux'].isnull().value_counts()"
   ]
  },
  {
   "cell_type": "code",
   "execution_count": 19,
   "id": "cf59402c",
   "metadata": {
    "execution": {
     "iopub.execute_input": "2023-05-25T00:00:16.946715Z",
     "iopub.status.busy": "2023-05-25T00:00:16.946226Z",
     "iopub.status.idle": "2023-05-25T00:00:16.959194Z",
     "shell.execute_reply": "2023-05-25T00:00:16.957923Z"
    },
    "papermill": {
     "duration": 0.032533,
     "end_time": "2023-05-25T00:00:16.961678",
     "exception": false,
     "start_time": "2023-05-25T00:00:16.929145",
     "status": "completed"
    },
    "tags": []
   },
   "outputs": [
    {
     "data": {
      "text/plain": [
       "0.0     21145\n",
       "1.0      4404\n",
       "2.0       618\n",
       "10.3      483\n",
       "1.9       453\n",
       "10.8      444\n",
       "4.7       399\n",
       "7.7       386\n",
       "5.6       346\n",
       "12.7      239\n",
       "7.8       218\n",
       "10.0      204\n",
       "9.5       173\n",
       "23.6      130\n",
       "11.1      128\n",
       "4.6       115\n",
       "15.0      112\n",
       "11.5      102\n",
       "8.5       101\n",
       "3.0        93\n",
       "5.7        74\n",
       "6.4        69\n",
       "12.8       56\n",
       "3.6        55\n",
       "37.5       43\n",
       "5.0        36\n",
       "9.3        22\n",
       "22.2       16\n",
       "12.4       14\n",
       "8.0         5\n",
       "23.5        2\n",
       "19.8        2\n",
       "24.6        2\n",
       "10.1        1\n",
       "10.5        1\n",
       "10.4        1\n",
       "1.1         1\n",
       "13.3        1\n",
       "22.6        1\n",
       "Name: d_e, dtype: int64"
      ]
     },
     "execution_count": 19,
     "metadata": {},
     "output_type": "execute_result"
    }
   ],
   "source": [
    "df['d_e'].value_counts()"
   ]
  },
  {
   "cell_type": "code",
   "execution_count": 20,
   "id": "7ae60255",
   "metadata": {
    "execution": {
     "iopub.execute_input": "2023-05-25T00:00:16.996844Z",
     "iopub.status.busy": "2023-05-25T00:00:16.996301Z",
     "iopub.status.idle": "2023-05-25T00:00:17.006789Z",
     "shell.execute_reply": "2023-05-25T00:00:17.005522Z"
    },
    "papermill": {
     "duration": 0.031729,
     "end_time": "2023-05-25T00:00:17.009498",
     "exception": false,
     "start_time": "2023-05-25T00:00:16.977769",
     "status": "completed"
    },
    "tags": []
   },
   "outputs": [
    {
     "data": {
      "text/plain": [
       "False    30695\n",
       "True       949\n",
       "Name: d_e, dtype: int64"
      ]
     },
     "execution_count": 20,
     "metadata": {},
     "output_type": "execute_result"
    }
   ],
   "source": [
    "df['d_e'].isnull().value_counts()"
   ]
  },
  {
   "cell_type": "code",
   "execution_count": 21,
   "id": "8da579e7",
   "metadata": {
    "execution": {
     "iopub.execute_input": "2023-05-25T00:00:17.045533Z",
     "iopub.status.busy": "2023-05-25T00:00:17.044673Z",
     "iopub.status.idle": "2023-05-25T00:00:17.051861Z",
     "shell.execute_reply": "2023-05-25T00:00:17.050552Z"
    },
    "papermill": {
     "duration": 0.028532,
     "end_time": "2023-05-25T00:00:17.054696",
     "exception": false,
     "start_time": "2023-05-25T00:00:17.026164",
     "status": "completed"
    },
    "tags": []
   },
   "outputs": [],
   "source": [
    "df['d_e'].fillna(0.0, inplace = True)"
   ]
  },
  {
   "cell_type": "code",
   "execution_count": 22,
   "id": "4d30f196",
   "metadata": {
    "execution": {
     "iopub.execute_input": "2023-05-25T00:00:17.091291Z",
     "iopub.status.busy": "2023-05-25T00:00:17.090817Z",
     "iopub.status.idle": "2023-05-25T00:00:17.101485Z",
     "shell.execute_reply": "2023-05-25T00:00:17.100278Z"
    },
    "papermill": {
     "duration": 0.031629,
     "end_time": "2023-05-25T00:00:17.103871",
     "exception": false,
     "start_time": "2023-05-25T00:00:17.072242",
     "status": "completed"
    },
    "tags": []
   },
   "outputs": [
    {
     "data": {
      "text/plain": [
       "False    31644\n",
       "Name: d_e, dtype: int64"
      ]
     },
     "execution_count": 22,
     "metadata": {},
     "output_type": "execute_result"
    }
   ],
   "source": [
    "df['d_e'].isnull().value_counts()"
   ]
  },
  {
   "cell_type": "code",
   "execution_count": 23,
   "id": "a099a5c3",
   "metadata": {
    "execution": {
     "iopub.execute_input": "2023-05-25T00:00:17.139436Z",
     "iopub.status.busy": "2023-05-25T00:00:17.138061Z",
     "iopub.status.idle": "2023-05-25T00:00:17.152017Z",
     "shell.execute_reply": "2023-05-25T00:00:17.150752Z"
    },
    "papermill": {
     "duration": 0.034294,
     "end_time": "2023-05-25T00:00:17.154722",
     "exception": false,
     "start_time": "2023-05-25T00:00:17.120428",
     "status": "completed"
    },
    "tags": []
   },
   "outputs": [
    {
     "data": {
      "text/plain": [
       "0.0      21145\n",
       "1.0       4409\n",
       "2.0        618\n",
       "10.3       519\n",
       "1.9        469\n",
       "10.8       446\n",
       "4.7        419\n",
       "7.7        397\n",
       "15.2       267\n",
       "7.8        225\n",
       "10.0       212\n",
       "9.5        167\n",
       "42.3       146\n",
       "11.1       131\n",
       "23.6       126\n",
       "120.0      115\n",
       "11.5       113\n",
       "38.1       103\n",
       "4.6        101\n",
       "3.0         92\n",
       "5.6         89\n",
       "15.9        74\n",
       "5.7         73\n",
       "22.3        68\n",
       "12.8        62\n",
       "3.6         54\n",
       "37.5        43\n",
       "13.3        40\n",
       "24.6        36\n",
       "9.3         27\n",
       "11.3        18\n",
       "96.3        18\n",
       "12.4        16\n",
       "8.0          8\n",
       "1.1          3\n",
       "23.5         3\n",
       "1.7          3\n",
       "10.5         2\n",
       "15.0         2\n",
       "22.6         2\n",
       "19.8         1\n",
       "33.3         1\n",
       "22.2         1\n",
       "10.4         1\n",
       "6.4          1\n",
       "Name: d_h, dtype: int64"
      ]
     },
     "execution_count": 23,
     "metadata": {},
     "output_type": "execute_result"
    }
   ],
   "source": [
    "df['d_h'].value_counts()"
   ]
  },
  {
   "cell_type": "code",
   "execution_count": 24,
   "id": "15003f3d",
   "metadata": {
    "execution": {
     "iopub.execute_input": "2023-05-25T00:00:17.189440Z",
     "iopub.status.busy": "2023-05-25T00:00:17.188575Z",
     "iopub.status.idle": "2023-05-25T00:00:17.198500Z",
     "shell.execute_reply": "2023-05-25T00:00:17.197329Z"
    },
    "papermill": {
     "duration": 0.030349,
     "end_time": "2023-05-25T00:00:17.201187",
     "exception": false,
     "start_time": "2023-05-25T00:00:17.170838",
     "status": "completed"
    },
    "tags": []
   },
   "outputs": [
    {
     "data": {
      "text/plain": [
       "False    30866\n",
       "True       778\n",
       "Name: d_h, dtype: int64"
      ]
     },
     "execution_count": 24,
     "metadata": {},
     "output_type": "execute_result"
    }
   ],
   "source": [
    "df['d_h'].isnull().value_counts()"
   ]
  },
  {
   "cell_type": "code",
   "execution_count": 25,
   "id": "f067f35a",
   "metadata": {
    "execution": {
     "iopub.execute_input": "2023-05-25T00:00:17.235429Z",
     "iopub.status.busy": "2023-05-25T00:00:17.234961Z",
     "iopub.status.idle": "2023-05-25T00:00:17.241973Z",
     "shell.execute_reply": "2023-05-25T00:00:17.240637Z"
    },
    "papermill": {
     "duration": 0.027207,
     "end_time": "2023-05-25T00:00:17.244562",
     "exception": false,
     "start_time": "2023-05-25T00:00:17.217355",
     "status": "completed"
    },
    "tags": []
   },
   "outputs": [],
   "source": [
    "df['d_h'].fillna(0.0, inplace = True)"
   ]
  },
  {
   "cell_type": "code",
   "execution_count": 26,
   "id": "da2df335",
   "metadata": {
    "execution": {
     "iopub.execute_input": "2023-05-25T00:00:17.278752Z",
     "iopub.status.busy": "2023-05-25T00:00:17.278243Z",
     "iopub.status.idle": "2023-05-25T00:00:17.288650Z",
     "shell.execute_reply": "2023-05-25T00:00:17.287469Z"
    },
    "papermill": {
     "duration": 0.03061,
     "end_time": "2023-05-25T00:00:17.291287",
     "exception": false,
     "start_time": "2023-05-25T00:00:17.260677",
     "status": "completed"
    },
    "tags": []
   },
   "outputs": [
    {
     "data": {
      "text/plain": [
       "False    31644\n",
       "Name: d_h, dtype: int64"
      ]
     },
     "execution_count": 26,
     "metadata": {},
     "output_type": "execute_result"
    }
   ],
   "source": [
    "df['d_h'].isnull().value_counts()"
   ]
  },
  {
   "cell_type": "code",
   "execution_count": 27,
   "id": "0681eb68",
   "metadata": {
    "execution": {
     "iopub.execute_input": "2023-05-25T00:00:17.326300Z",
     "iopub.status.busy": "2023-05-25T00:00:17.325402Z",
     "iopub.status.idle": "2023-05-25T00:00:17.339858Z",
     "shell.execute_reply": "2023-05-25T00:00:17.338542Z"
    },
    "papermill": {
     "duration": 0.0344,
     "end_time": "2023-05-25T00:00:17.342089",
     "exception": false,
     "start_time": "2023-05-25T00:00:17.307689",
     "status": "completed"
    },
    "tags": []
   },
   "outputs": [
    {
     "data": {
      "text/plain": [
       "0.0       21145\n",
       "1.0        4381\n",
       "2.0         618\n",
       "457.0       531\n",
       "762.0       446\n",
       "318.0       349\n",
       "152.0       315\n",
       "2134.0      310\n",
       "432.0       248\n",
       "591.0       216\n",
       "1778.0      195\n",
       "864.0       175\n",
       "914.0       163\n",
       "1836.0      158\n",
       "696.0       145\n",
       "10.0        119\n",
       "610.0        96\n",
       "794.0        83\n",
       "625.0        77\n",
       "216.0        71\n",
       "1972.0       58\n",
       "305.0        58\n",
       "150.0        58\n",
       "1930.0       58\n",
       "295.0        55\n",
       "2743.0       50\n",
       "76.0         49\n",
       "1650.0       43\n",
       "1953.0       42\n",
       "1727.0       41\n",
       "1524.0       41\n",
       "229.0        38\n",
       "737.0        36\n",
       "660.0        34\n",
       "890.0        30\n",
       "565.0        25\n",
       "1000.0       25\n",
       "35.0         23\n",
       "1143.0       21\n",
       "1300.0       16\n",
       "1829.0       15\n",
       "100.0        15\n",
       "2591.0       14\n",
       "400.0        14\n",
       "51.0         14\n",
       "38.0         11\n",
       "520.0        11\n",
       "25.0          9\n",
       "1359.0        6\n",
       "893.0         5\n",
       "64.0          3\n",
       "3048.0        3\n",
       "841.0         3\n",
       "114.0         3\n",
       "2007.0        2\n",
       "496.0         1\n",
       "2711.0        1\n",
       "1436.0        1\n",
       "793.0         1\n",
       "Name: length, dtype: int64"
      ]
     },
     "execution_count": 27,
     "metadata": {},
     "output_type": "execute_result"
    }
   ],
   "source": [
    "df['length'].value_counts()"
   ]
  },
  {
   "cell_type": "code",
   "execution_count": 28,
   "id": "5218c670",
   "metadata": {
    "execution": {
     "iopub.execute_input": "2023-05-25T00:00:17.377071Z",
     "iopub.status.busy": "2023-05-25T00:00:17.376613Z",
     "iopub.status.idle": "2023-05-25T00:00:17.387305Z",
     "shell.execute_reply": "2023-05-25T00:00:17.386164Z"
    },
    "papermill": {
     "duration": 0.0314,
     "end_time": "2023-05-25T00:00:17.390024",
     "exception": false,
     "start_time": "2023-05-25T00:00:17.358624",
     "status": "completed"
    },
    "tags": []
   },
   "outputs": [
    {
     "data": {
      "text/plain": [
       "False    30774\n",
       "True       870\n",
       "Name: length, dtype: int64"
      ]
     },
     "execution_count": 28,
     "metadata": {},
     "output_type": "execute_result"
    }
   ],
   "source": [
    "df['length'].isnull().value_counts()"
   ]
  },
  {
   "cell_type": "code",
   "execution_count": 29,
   "id": "3a7ac2eb",
   "metadata": {
    "execution": {
     "iopub.execute_input": "2023-05-25T00:00:17.425262Z",
     "iopub.status.busy": "2023-05-25T00:00:17.424771Z",
     "iopub.status.idle": "2023-05-25T00:00:17.431668Z",
     "shell.execute_reply": "2023-05-25T00:00:17.430312Z"
    },
    "papermill": {
     "duration": 0.027708,
     "end_time": "2023-05-25T00:00:17.434281",
     "exception": false,
     "start_time": "2023-05-25T00:00:17.406573",
     "status": "completed"
    },
    "tags": []
   },
   "outputs": [],
   "source": [
    "df['length'].fillna(0.0, inplace = True)"
   ]
  },
  {
   "cell_type": "code",
   "execution_count": 30,
   "id": "79cfeff0",
   "metadata": {
    "execution": {
     "iopub.execute_input": "2023-05-25T00:00:17.469854Z",
     "iopub.status.busy": "2023-05-25T00:00:17.469353Z",
     "iopub.status.idle": "2023-05-25T00:00:17.479416Z",
     "shell.execute_reply": "2023-05-25T00:00:17.478347Z"
    },
    "papermill": {
     "duration": 0.030865,
     "end_time": "2023-05-25T00:00:17.481759",
     "exception": false,
     "start_time": "2023-05-25T00:00:17.450894",
     "status": "completed"
    },
    "tags": []
   },
   "outputs": [
    {
     "data": {
      "text/plain": [
       "False    31644\n",
       "Name: length, dtype: int64"
      ]
     },
     "execution_count": 30,
     "metadata": {},
     "output_type": "execute_result"
    }
   ],
   "source": [
    "df['length'].isnull().value_counts()"
   ]
  },
  {
   "cell_type": "code",
   "execution_count": 31,
   "id": "40e8b7ac",
   "metadata": {
    "execution": {
     "iopub.execute_input": "2023-05-25T00:00:17.517634Z",
     "iopub.status.busy": "2023-05-25T00:00:17.517149Z",
     "iopub.status.idle": "2023-05-25T00:00:17.528481Z",
     "shell.execute_reply": "2023-05-25T00:00:17.527262Z"
    },
    "papermill": {
     "duration": 0.032321,
     "end_time": "2023-05-25T00:00:17.530853",
     "exception": false,
     "start_time": "2023-05-25T00:00:17.498532",
     "status": "completed"
    },
    "tags": []
   },
   "outputs": [
    {
     "data": {
      "text/plain": [
       "0.0     21145\n",
       "1.0      4396\n",
       "2.0       777\n",
       "2.3       226\n",
       "2.2       200\n",
       "        ...  \n",
       "12.1        2\n",
       "15.6        2\n",
       "8.3         1\n",
       "10.9        1\n",
       "9.1         1\n",
       "Name: chf_exp, Length: 109, dtype: int64"
      ]
     },
     "execution_count": 31,
     "metadata": {},
     "output_type": "execute_result"
    }
   ],
   "source": [
    "df['chf_exp'].value_counts()"
   ]
  },
  {
   "cell_type": "code",
   "execution_count": 32,
   "id": "232fb848",
   "metadata": {
    "execution": {
     "iopub.execute_input": "2023-05-25T00:00:17.567378Z",
     "iopub.status.busy": "2023-05-25T00:00:17.566567Z",
     "iopub.status.idle": "2023-05-25T00:00:17.577745Z",
     "shell.execute_reply": "2023-05-25T00:00:17.576545Z"
    },
    "papermill": {
     "duration": 0.032391,
     "end_time": "2023-05-25T00:00:17.580240",
     "exception": false,
     "start_time": "2023-05-25T00:00:17.547849",
     "status": "completed"
    },
    "tags": []
   },
   "outputs": [
    {
     "data": {
      "text/plain": [
       "False    31644\n",
       "Name: chf_exp, dtype: int64"
      ]
     },
     "execution_count": 32,
     "metadata": {},
     "output_type": "execute_result"
    }
   ],
   "source": [
    "df['chf_exp'].isnull().value_counts()"
   ]
  },
  {
   "cell_type": "code",
   "execution_count": 33,
   "id": "8401ece1",
   "metadata": {
    "execution": {
     "iopub.execute_input": "2023-05-25T00:00:17.616798Z",
     "iopub.status.busy": "2023-05-25T00:00:17.616271Z",
     "iopub.status.idle": "2023-05-25T00:00:17.626164Z",
     "shell.execute_reply": "2023-05-25T00:00:17.624882Z"
    },
    "papermill": {
     "duration": 0.031056,
     "end_time": "2023-05-25T00:00:17.628569",
     "exception": false,
     "start_time": "2023-05-25T00:00:17.597513",
     "status": "completed"
    },
    "tags": []
   },
   "outputs": [
    {
     "data": {
      "text/plain": [
       "id             int64\n",
       "geometry       int64\n",
       "pressure     float64\n",
       "mass_flux    float64\n",
       "x_e_out      float64\n",
       "d_e          float64\n",
       "d_h          float64\n",
       "length       float64\n",
       "chf_exp      float64\n",
       "dtype: object"
      ]
     },
     "execution_count": 33,
     "metadata": {},
     "output_type": "execute_result"
    }
   ],
   "source": [
    "df.dtypes"
   ]
  },
  {
   "cell_type": "code",
   "execution_count": 34,
   "id": "f7072f1d",
   "metadata": {
    "execution": {
     "iopub.execute_input": "2023-05-25T00:00:17.665409Z",
     "iopub.status.busy": "2023-05-25T00:00:17.664963Z",
     "iopub.status.idle": "2023-05-25T00:00:17.679437Z",
     "shell.execute_reply": "2023-05-25T00:00:17.678293Z"
    },
    "papermill": {
     "duration": 0.036293,
     "end_time": "2023-05-25T00:00:17.682253",
     "exception": false,
     "start_time": "2023-05-25T00:00:17.645960",
     "status": "completed"
    },
    "tags": []
   },
   "outputs": [],
   "source": [
    "train = df[df['x_e_out'].isnull() == False]\n",
    "test = df[df['x_e_out'].isnull()]\n",
    "del test['x_e_out']"
   ]
  },
  {
   "cell_type": "code",
   "execution_count": 35,
   "id": "aaa555b6",
   "metadata": {
    "execution": {
     "iopub.execute_input": "2023-05-25T00:00:17.719199Z",
     "iopub.status.busy": "2023-05-25T00:00:17.718312Z",
     "iopub.status.idle": "2023-05-25T00:00:17.738432Z",
     "shell.execute_reply": "2023-05-25T00:00:17.737331Z"
    },
    "papermill": {
     "duration": 0.041373,
     "end_time": "2023-05-25T00:00:17.740996",
     "exception": false,
     "start_time": "2023-05-25T00:00:17.699623",
     "status": "completed"
    },
    "tags": []
   },
   "outputs": [
    {
     "data": {
      "text/html": [
       "<div>\n",
       "<style scoped>\n",
       "    .dataframe tbody tr th:only-of-type {\n",
       "        vertical-align: middle;\n",
       "    }\n",
       "\n",
       "    .dataframe tbody tr th {\n",
       "        vertical-align: top;\n",
       "    }\n",
       "\n",
       "    .dataframe thead th {\n",
       "        text-align: right;\n",
       "    }\n",
       "</style>\n",
       "<table border=\"1\" class=\"dataframe\">\n",
       "  <thead>\n",
       "    <tr style=\"text-align: right;\">\n",
       "      <th></th>\n",
       "      <th>id</th>\n",
       "      <th>geometry</th>\n",
       "      <th>pressure</th>\n",
       "      <th>mass_flux</th>\n",
       "      <th>x_e_out</th>\n",
       "      <th>d_e</th>\n",
       "      <th>d_h</th>\n",
       "      <th>length</th>\n",
       "      <th>chf_exp</th>\n",
       "    </tr>\n",
       "  </thead>\n",
       "  <tbody>\n",
       "    <tr>\n",
       "      <th>0</th>\n",
       "      <td>0</td>\n",
       "      <td>0</td>\n",
       "      <td>0.00</td>\n",
       "      <td>0.0</td>\n",
       "      <td>0.0000</td>\n",
       "      <td>0.0</td>\n",
       "      <td>0.0</td>\n",
       "      <td>0.0</td>\n",
       "      <td>0.0</td>\n",
       "    </tr>\n",
       "    <tr>\n",
       "      <th>1</th>\n",
       "      <td>0</td>\n",
       "      <td>0</td>\n",
       "      <td>0.00</td>\n",
       "      <td>0.0</td>\n",
       "      <td>0.0000</td>\n",
       "      <td>0.0</td>\n",
       "      <td>0.0</td>\n",
       "      <td>0.0</td>\n",
       "      <td>0.0</td>\n",
       "    </tr>\n",
       "    <tr>\n",
       "      <th>2</th>\n",
       "      <td>2</td>\n",
       "      <td>0</td>\n",
       "      <td>13.79</td>\n",
       "      <td>2034.0</td>\n",
       "      <td>0.0335</td>\n",
       "      <td>7.7</td>\n",
       "      <td>7.7</td>\n",
       "      <td>457.0</td>\n",
       "      <td>2.5</td>\n",
       "    </tr>\n",
       "    <tr>\n",
       "      <th>3</th>\n",
       "      <td>1</td>\n",
       "      <td>1</td>\n",
       "      <td>1.00</td>\n",
       "      <td>1.0</td>\n",
       "      <td>1.0000</td>\n",
       "      <td>1.0</td>\n",
       "      <td>1.0</td>\n",
       "      <td>1.0</td>\n",
       "      <td>1.0</td>\n",
       "    </tr>\n",
       "    <tr>\n",
       "      <th>4</th>\n",
       "      <td>0</td>\n",
       "      <td>0</td>\n",
       "      <td>0.00</td>\n",
       "      <td>0.0</td>\n",
       "      <td>0.0000</td>\n",
       "      <td>0.0</td>\n",
       "      <td>0.0</td>\n",
       "      <td>0.0</td>\n",
       "      <td>0.0</td>\n",
       "    </tr>\n",
       "  </tbody>\n",
       "</table>\n",
       "</div>"
      ],
      "text/plain": [
       "   id  geometry  pressure  mass_flux  x_e_out  d_e  d_h  length  chf_exp\n",
       "0   0         0      0.00        0.0   0.0000  0.0  0.0     0.0      0.0\n",
       "1   0         0      0.00        0.0   0.0000  0.0  0.0     0.0      0.0\n",
       "2   2         0     13.79     2034.0   0.0335  7.7  7.7   457.0      2.5\n",
       "3   1         1      1.00        1.0   1.0000  1.0  1.0     1.0      1.0\n",
       "4   0         0      0.00        0.0   0.0000  0.0  0.0     0.0      0.0"
      ]
     },
     "execution_count": 35,
     "metadata": {},
     "output_type": "execute_result"
    }
   ],
   "source": [
    "train.head()"
   ]
  },
  {
   "cell_type": "code",
   "execution_count": 36,
   "id": "8d966d17",
   "metadata": {
    "execution": {
     "iopub.execute_input": "2023-05-25T00:00:17.780772Z",
     "iopub.status.busy": "2023-05-25T00:00:17.779916Z",
     "iopub.status.idle": "2023-05-25T00:00:17.798160Z",
     "shell.execute_reply": "2023-05-25T00:00:17.797281Z"
    },
    "papermill": {
     "duration": 0.041367,
     "end_time": "2023-05-25T00:00:17.800322",
     "exception": false,
     "start_time": "2023-05-25T00:00:17.758955",
     "status": "completed"
    },
    "tags": []
   },
   "outputs": [
    {
     "data": {
      "text/html": [
       "<div>\n",
       "<style scoped>\n",
       "    .dataframe tbody tr th:only-of-type {\n",
       "        vertical-align: middle;\n",
       "    }\n",
       "\n",
       "    .dataframe tbody tr th {\n",
       "        vertical-align: top;\n",
       "    }\n",
       "\n",
       "    .dataframe thead th {\n",
       "        text-align: right;\n",
       "    }\n",
       "</style>\n",
       "<table border=\"1\" class=\"dataframe\">\n",
       "  <thead>\n",
       "    <tr style=\"text-align: right;\">\n",
       "      <th></th>\n",
       "      <th>id</th>\n",
       "      <th>geometry</th>\n",
       "      <th>pressure</th>\n",
       "      <th>mass_flux</th>\n",
       "      <th>d_e</th>\n",
       "      <th>d_h</th>\n",
       "      <th>length</th>\n",
       "      <th>chf_exp</th>\n",
       "    </tr>\n",
       "  </thead>\n",
       "  <tbody>\n",
       "    <tr>\n",
       "      <th>12</th>\n",
       "      <td>12</td>\n",
       "      <td>0</td>\n",
       "      <td>6.89</td>\n",
       "      <td>7500.0</td>\n",
       "      <td>0.0</td>\n",
       "      <td>12.8</td>\n",
       "      <td>1930.0</td>\n",
       "      <td>4.8</td>\n",
       "    </tr>\n",
       "    <tr>\n",
       "      <th>27</th>\n",
       "      <td>27</td>\n",
       "      <td>0</td>\n",
       "      <td>13.79</td>\n",
       "      <td>0.0</td>\n",
       "      <td>11.1</td>\n",
       "      <td>11.1</td>\n",
       "      <td>457.0</td>\n",
       "      <td>3.5</td>\n",
       "    </tr>\n",
       "    <tr>\n",
       "      <th>81</th>\n",
       "      <td>81</td>\n",
       "      <td>0</td>\n",
       "      <td>9.00</td>\n",
       "      <td>4069.0</td>\n",
       "      <td>11.5</td>\n",
       "      <td>11.5</td>\n",
       "      <td>864.0</td>\n",
       "      <td>2.8</td>\n",
       "    </tr>\n",
       "    <tr>\n",
       "      <th>146</th>\n",
       "      <td>146</td>\n",
       "      <td>0</td>\n",
       "      <td>12.07</td>\n",
       "      <td>4028.0</td>\n",
       "      <td>1.9</td>\n",
       "      <td>1.9</td>\n",
       "      <td>152.0</td>\n",
       "      <td>3.9</td>\n",
       "    </tr>\n",
       "    <tr>\n",
       "      <th>150</th>\n",
       "      <td>150</td>\n",
       "      <td>0</td>\n",
       "      <td>10.34</td>\n",
       "      <td>7378.0</td>\n",
       "      <td>10.3</td>\n",
       "      <td>10.3</td>\n",
       "      <td>762.0</td>\n",
       "      <td>9.0</td>\n",
       "    </tr>\n",
       "  </tbody>\n",
       "</table>\n",
       "</div>"
      ],
      "text/plain": [
       "      id  geometry  pressure  mass_flux   d_e   d_h  length  chf_exp\n",
       "12    12         0      6.89     7500.0   0.0  12.8  1930.0      4.8\n",
       "27    27         0     13.79        0.0  11.1  11.1   457.0      3.5\n",
       "81    81         0      9.00     4069.0  11.5  11.5   864.0      2.8\n",
       "146  146         0     12.07     4028.0   1.9   1.9   152.0      3.9\n",
       "150  150         0     10.34     7378.0  10.3  10.3   762.0      9.0"
      ]
     },
     "execution_count": 36,
     "metadata": {},
     "output_type": "execute_result"
    }
   ],
   "source": [
    "test.head()"
   ]
  },
  {
   "cell_type": "code",
   "execution_count": 37,
   "id": "709ed4a5",
   "metadata": {
    "execution": {
     "iopub.execute_input": "2023-05-25T00:00:17.841033Z",
     "iopub.status.busy": "2023-05-25T00:00:17.840547Z",
     "iopub.status.idle": "2023-05-25T00:00:19.376971Z",
     "shell.execute_reply": "2023-05-25T00:00:19.375794Z"
    },
    "papermill": {
     "duration": 1.560047,
     "end_time": "2023-05-25T00:00:19.379776",
     "exception": false,
     "start_time": "2023-05-25T00:00:17.819729",
     "status": "completed"
    },
    "tags": []
   },
   "outputs": [
    {
     "name": "stderr",
     "output_type": "stream",
     "text": [
      "/opt/conda/lib/python3.10/site-packages/scipy/__init__.py:146: UserWarning: A NumPy version >=1.16.5 and <1.23.0 is required for this version of SciPy (detected version 1.23.5\n",
      "  warnings.warn(f\"A NumPy version >={np_minversion} and <{np_maxversion}\"\n"
     ]
    }
   ],
   "source": [
    "from sklearn.model_selection import train_test_split\n",
    "\n",
    "X = train.drop('x_e_out', axis = 1)\n",
    "y = train['x_e_out']\n",
    "\n",
    "train_X, val_X, train_y, val_y = train_test_split(X, y)"
   ]
  },
  {
   "cell_type": "code",
   "execution_count": 38,
   "id": "cf3ae150",
   "metadata": {
    "execution": {
     "iopub.execute_input": "2023-05-25T00:00:19.417975Z",
     "iopub.status.busy": "2023-05-25T00:00:19.417127Z",
     "iopub.status.idle": "2023-05-25T00:00:19.588198Z",
     "shell.execute_reply": "2023-05-25T00:00:19.586436Z"
    },
    "papermill": {
     "duration": 0.198674,
     "end_time": "2023-05-25T00:00:19.596364",
     "exception": false,
     "start_time": "2023-05-25T00:00:19.397690",
     "status": "completed"
    },
    "tags": []
   },
   "outputs": [
    {
     "data": {
      "text/plain": [
       "0.03364660396518319"
      ]
     },
     "execution_count": 38,
     "metadata": {},
     "output_type": "execute_result"
    }
   ],
   "source": [
    "from sklearn.linear_model import LinearRegression\n",
    "\n",
    "model = LinearRegression()\n",
    "model.fit(train_X, train_y)\n",
    "predictions = model.predict(val_X)\n",
    "\n",
    "from math import sqrt\n",
    "from sklearn.metrics import mean_squared_error\n",
    "\n",
    "sqrt(mean_squared_error(val_y, predictions))"
   ]
  },
  {
   "cell_type": "code",
   "execution_count": 39,
   "id": "f4d86e9e",
   "metadata": {
    "execution": {
     "iopub.execute_input": "2023-05-25T00:00:19.712388Z",
     "iopub.status.busy": "2023-05-25T00:00:19.711929Z",
     "iopub.status.idle": "2023-05-25T00:00:19.757258Z",
     "shell.execute_reply": "2023-05-25T00:00:19.755996Z"
    },
    "papermill": {
     "duration": 0.086026,
     "end_time": "2023-05-25T00:00:19.762877",
     "exception": false,
     "start_time": "2023-05-25T00:00:19.676851",
     "status": "completed"
    },
    "tags": []
   },
   "outputs": [
    {
     "name": "stderr",
     "output_type": "stream",
     "text": [
      "/tmp/ipykernel_20/628947529.py:3: SettingWithCopyWarning: \n",
      "A value is trying to be set on a copy of a slice from a DataFrame.\n",
      "Try using .loc[row_indexer,col_indexer] = value instead\n",
      "\n",
      "See the caveats in the documentation: https://pandas.pydata.org/pandas-docs/stable/user_guide/indexing.html#returning-a-view-versus-a-copy\n",
      "  test['x_e_out'] = predictions\n"
     ]
    }
   ],
   "source": [
    "predictions = model.predict(test)\n",
    "\n",
    "test['x_e_out'] = predictions\n",
    "\n",
    "df = pd.concat([train, test], axis = 1)\n",
    "\n",
    "df = df.iloc[:, 0:8]"
   ]
  },
  {
   "cell_type": "code",
   "execution_count": 40,
   "id": "b9a20138",
   "metadata": {
    "execution": {
     "iopub.execute_input": "2023-05-25T00:00:19.844632Z",
     "iopub.status.busy": "2023-05-25T00:00:19.843913Z",
     "iopub.status.idle": "2023-05-25T00:00:19.856961Z",
     "shell.execute_reply": "2023-05-25T00:00:19.855498Z"
    },
    "papermill": {
     "duration": 0.057574,
     "end_time": "2023-05-25T00:00:19.860463",
     "exception": false,
     "start_time": "2023-05-25T00:00:19.802889",
     "status": "completed"
    },
    "tags": []
   },
   "outputs": [],
   "source": [
    "df.sort_values('id', inplace = True)"
   ]
  },
  {
   "cell_type": "code",
   "execution_count": 41,
   "id": "69ab1138",
   "metadata": {
    "execution": {
     "iopub.execute_input": "2023-05-25T00:00:19.899995Z",
     "iopub.status.busy": "2023-05-25T00:00:19.899511Z",
     "iopub.status.idle": "2023-05-25T00:00:20.015161Z",
     "shell.execute_reply": "2023-05-25T00:00:20.013789Z"
    },
    "papermill": {
     "duration": 0.13875,
     "end_time": "2023-05-25T00:00:20.018062",
     "exception": false,
     "start_time": "2023-05-25T00:00:19.879312",
     "status": "completed"
    },
    "tags": []
   },
   "outputs": [
    {
     "name": "stdout",
     "output_type": "stream",
     "text": [
      "Your submission was successfully saved!\n"
     ]
    }
   ],
   "source": [
    "output = pd.DataFrame({'id': df.id, 'x_e_out [-]': df.x_e_out})\n",
    "output.to_csv('submission.csv', index = False)\n",
    "print('Your submission was successfully saved!')"
   ]
  }
 ],
 "metadata": {
  "kernelspec": {
   "display_name": "Python 3",
   "language": "python",
   "name": "python3"
  },
  "language_info": {
   "codemirror_mode": {
    "name": "ipython",
    "version": 3
   },
   "file_extension": ".py",
   "mimetype": "text/x-python",
   "name": "python",
   "nbconvert_exporter": "python",
   "pygments_lexer": "ipython3",
   "version": "3.10.10"
  },
  "papermill": {
   "default_parameters": {},
   "duration": 21.099728,
   "end_time": "2023-05-25T00:00:21.463287",
   "environment_variables": {},
   "exception": null,
   "input_path": "__notebook__.ipynb",
   "output_path": "__notebook__.ipynb",
   "parameters": {},
   "start_time": "2023-05-25T00:00:00.363559",
   "version": "2.4.0"
  }
 },
 "nbformat": 4,
 "nbformat_minor": 5
}
